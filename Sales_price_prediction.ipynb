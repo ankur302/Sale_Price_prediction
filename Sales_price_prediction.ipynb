{
  "nbformat": 4,
  "nbformat_minor": 0,
  "metadata": {
    "colab": {
      "name": "Sales_price_prediction.ipynb",
      "provenance": [],
      "collapsed_sections": [
        "hiCqUCllwASf",
        "F2-zsNgnG6C3"
      ]
    },
    "kernelspec": {
      "display_name": "Python 3",
      "name": "python3"
    },
    "language_info": {
      "name": "python"
    }
  },
  "cells": [
    {
      "cell_type": "code",
      "metadata": {
        "id": "U92zvnV7mqhu"
      },
      "source": [
        "import pandas as pd\n",
        "import numpy as np\n",
        "import matplotlib.pyplot as plt\n",
        "import seaborn as sns"
      ],
      "execution_count": null,
      "outputs": []
    },
    {
      "cell_type": "code",
      "metadata": {
        "colab": {
          "base_uri": "https://localhost:8080/"
        },
        "id": "LXcrC-l6mXWf",
        "outputId": "25e0dc74-c683-4e3a-e732-539cd7a3d4e2"
      },
      "source": [
        "train = pd.read_csv(\"/content/drive/MyDrive/My_Data/Sale_price_prediction/dataset/TRAIN.csv\")\n",
        "test = pd.read_csv(\"/content/drive/MyDrive/My_Data/Sale_price_prediction/dataset/TEST.csv\")"
      ],
      "execution_count": null,
      "outputs": [
        {
          "output_type": "stream",
          "text": [
            "/usr/local/lib/python3.7/dist-packages/IPython/core/interactiveshell.py:2718: DtypeWarning: Columns (7) have mixed types.Specify dtype option on import or set low_memory=False.\n",
            "  interactivity=interactivity, compiler=compiler, result=result)\n"
          ],
          "name": "stderr"
        }
      ]
    },
    {
      "cell_type": "code",
      "metadata": {
        "colab": {
          "base_uri": "https://localhost:8080/",
          "height": 701
        },
        "id": "M6m2OtdRmXi4",
        "outputId": "0961a563-2732-4bc1-c35c-d80ba11443d4"
      },
      "source": [
        "display(train.head().append(train.tail()),test.head().append(test.tail()))"
      ],
      "execution_count": null,
      "outputs": [
        {
          "output_type": "display_data",
          "data": {
            "text/html": [
              "<div>\n",
              "<style scoped>\n",
              "    .dataframe tbody tr th:only-of-type {\n",
              "        vertical-align: middle;\n",
              "    }\n",
              "\n",
              "    .dataframe tbody tr th {\n",
              "        vertical-align: top;\n",
              "    }\n",
              "\n",
              "    .dataframe thead th {\n",
              "        text-align: right;\n",
              "    }\n",
              "</style>\n",
              "<table border=\"1\" class=\"dataframe\">\n",
              "  <thead>\n",
              "    <tr style=\"text-align: right;\">\n",
              "      <th></th>\n",
              "      <th>Store</th>\n",
              "      <th>DayOfWeek</th>\n",
              "      <th>Date</th>\n",
              "      <th>Sales</th>\n",
              "      <th>Customers</th>\n",
              "      <th>Open</th>\n",
              "      <th>Promo</th>\n",
              "      <th>StateHoliday</th>\n",
              "      <th>SchoolHoliday</th>\n",
              "    </tr>\n",
              "  </thead>\n",
              "  <tbody>\n",
              "    <tr>\n",
              "      <th>0</th>\n",
              "      <td>1</td>\n",
              "      <td>5</td>\n",
              "      <td>2015-07-31</td>\n",
              "      <td>5263</td>\n",
              "      <td>555</td>\n",
              "      <td>1</td>\n",
              "      <td>1</td>\n",
              "      <td>0</td>\n",
              "      <td>1</td>\n",
              "    </tr>\n",
              "    <tr>\n",
              "      <th>1</th>\n",
              "      <td>2</td>\n",
              "      <td>5</td>\n",
              "      <td>2015-07-31</td>\n",
              "      <td>6064</td>\n",
              "      <td>625</td>\n",
              "      <td>1</td>\n",
              "      <td>1</td>\n",
              "      <td>0</td>\n",
              "      <td>1</td>\n",
              "    </tr>\n",
              "    <tr>\n",
              "      <th>2</th>\n",
              "      <td>3</td>\n",
              "      <td>5</td>\n",
              "      <td>2015-07-31</td>\n",
              "      <td>8314</td>\n",
              "      <td>821</td>\n",
              "      <td>1</td>\n",
              "      <td>1</td>\n",
              "      <td>0</td>\n",
              "      <td>1</td>\n",
              "    </tr>\n",
              "    <tr>\n",
              "      <th>3</th>\n",
              "      <td>4</td>\n",
              "      <td>5</td>\n",
              "      <td>2015-07-31</td>\n",
              "      <td>13995</td>\n",
              "      <td>1498</td>\n",
              "      <td>1</td>\n",
              "      <td>1</td>\n",
              "      <td>0</td>\n",
              "      <td>1</td>\n",
              "    </tr>\n",
              "    <tr>\n",
              "      <th>4</th>\n",
              "      <td>5</td>\n",
              "      <td>5</td>\n",
              "      <td>2015-07-31</td>\n",
              "      <td>4822</td>\n",
              "      <td>559</td>\n",
              "      <td>1</td>\n",
              "      <td>1</td>\n",
              "      <td>0</td>\n",
              "      <td>1</td>\n",
              "    </tr>\n",
              "    <tr>\n",
              "      <th>712041</th>\n",
              "      <td>342</td>\n",
              "      <td>2</td>\n",
              "      <td>2013-10-01</td>\n",
              "      <td>10182</td>\n",
              "      <td>836</td>\n",
              "      <td>1</td>\n",
              "      <td>0</td>\n",
              "      <td>0</td>\n",
              "      <td>0</td>\n",
              "    </tr>\n",
              "    <tr>\n",
              "      <th>712042</th>\n",
              "      <td>343</td>\n",
              "      <td>2</td>\n",
              "      <td>2013-10-01</td>\n",
              "      <td>5352</td>\n",
              "      <td>588</td>\n",
              "      <td>1</td>\n",
              "      <td>0</td>\n",
              "      <td>0</td>\n",
              "      <td>0</td>\n",
              "    </tr>\n",
              "    <tr>\n",
              "      <th>712043</th>\n",
              "      <td>344</td>\n",
              "      <td>2</td>\n",
              "      <td>2013-10-01</td>\n",
              "      <td>6652</td>\n",
              "      <td>1043</td>\n",
              "      <td>1</td>\n",
              "      <td>0</td>\n",
              "      <td>0</td>\n",
              "      <td>1</td>\n",
              "    </tr>\n",
              "    <tr>\n",
              "      <th>712044</th>\n",
              "      <td>345</td>\n",
              "      <td>2</td>\n",
              "      <td>2013-10-01</td>\n",
              "      <td>3842</td>\n",
              "      <td>475</td>\n",
              "      <td>1</td>\n",
              "      <td>0</td>\n",
              "      <td>0</td>\n",
              "      <td>0</td>\n",
              "    </tr>\n",
              "    <tr>\n",
              "      <th>712045</th>\n",
              "      <td>346</td>\n",
              "      <td>2</td>\n",
              "      <td>2013-10-01</td>\n",
              "      <td>6143</td>\n",
              "      <td>599</td>\n",
              "      <td>1</td>\n",
              "      <td>0</td>\n",
              "      <td>0</td>\n",
              "      <td>0</td>\n",
              "    </tr>\n",
              "  </tbody>\n",
              "</table>\n",
              "</div>"
            ],
            "text/plain": [
              "        Store  DayOfWeek        Date  ...  Promo  StateHoliday  SchoolHoliday\n",
              "0           1          5  2015-07-31  ...      1             0              1\n",
              "1           2          5  2015-07-31  ...      1             0              1\n",
              "2           3          5  2015-07-31  ...      1             0              1\n",
              "3           4          5  2015-07-31  ...      1             0              1\n",
              "4           5          5  2015-07-31  ...      1             0              1\n",
              "712041    342          2  2013-10-01  ...      0             0              0\n",
              "712042    343          2  2013-10-01  ...      0             0              0\n",
              "712043    344          2  2013-10-01  ...      0             0              1\n",
              "712044    345          2  2013-10-01  ...      0             0              0\n",
              "712045    346          2  2013-10-01  ...      0             0              0\n",
              "\n",
              "[10 rows x 9 columns]"
            ]
          },
          "metadata": {
            "tags": []
          }
        },
        {
          "output_type": "display_data",
          "data": {
            "text/html": [
              "<div>\n",
              "<style scoped>\n",
              "    .dataframe tbody tr th:only-of-type {\n",
              "        vertical-align: middle;\n",
              "    }\n",
              "\n",
              "    .dataframe tbody tr th {\n",
              "        vertical-align: top;\n",
              "    }\n",
              "\n",
              "    .dataframe thead th {\n",
              "        text-align: right;\n",
              "    }\n",
              "</style>\n",
              "<table border=\"1\" class=\"dataframe\">\n",
              "  <thead>\n",
              "    <tr style=\"text-align: right;\">\n",
              "      <th></th>\n",
              "      <th>Store</th>\n",
              "      <th>DayOfWeek</th>\n",
              "      <th>Date</th>\n",
              "      <th>Open</th>\n",
              "      <th>Promo</th>\n",
              "      <th>StateHoliday</th>\n",
              "      <th>SchoolHoliday</th>\n",
              "    </tr>\n",
              "  </thead>\n",
              "  <tbody>\n",
              "    <tr>\n",
              "      <th>0</th>\n",
              "      <td>767</td>\n",
              "      <td>1</td>\n",
              "      <td>2013-04-01</td>\n",
              "      <td>0</td>\n",
              "      <td>0</td>\n",
              "      <td>b</td>\n",
              "      <td>1</td>\n",
              "    </tr>\n",
              "    <tr>\n",
              "      <th>1</th>\n",
              "      <td>1111</td>\n",
              "      <td>6</td>\n",
              "      <td>2013-03-16</td>\n",
              "      <td>1</td>\n",
              "      <td>0</td>\n",
              "      <td>0</td>\n",
              "      <td>0</td>\n",
              "    </tr>\n",
              "    <tr>\n",
              "      <th>2</th>\n",
              "      <td>45</td>\n",
              "      <td>4</td>\n",
              "      <td>2013-08-01</td>\n",
              "      <td>1</td>\n",
              "      <td>1</td>\n",
              "      <td>0</td>\n",
              "      <td>1</td>\n",
              "    </tr>\n",
              "    <tr>\n",
              "      <th>3</th>\n",
              "      <td>500</td>\n",
              "      <td>4</td>\n",
              "      <td>2013-05-23</td>\n",
              "      <td>1</td>\n",
              "      <td>0</td>\n",
              "      <td>0</td>\n",
              "      <td>1</td>\n",
              "    </tr>\n",
              "    <tr>\n",
              "      <th>4</th>\n",
              "      <td>82</td>\n",
              "      <td>2</td>\n",
              "      <td>2013-08-06</td>\n",
              "      <td>1</td>\n",
              "      <td>0</td>\n",
              "      <td>0</td>\n",
              "      <td>1</td>\n",
              "    </tr>\n",
              "    <tr>\n",
              "      <th>305158</th>\n",
              "      <td>412</td>\n",
              "      <td>2</td>\n",
              "      <td>2013-05-28</td>\n",
              "      <td>1</td>\n",
              "      <td>1</td>\n",
              "      <td>0</td>\n",
              "      <td>1</td>\n",
              "    </tr>\n",
              "    <tr>\n",
              "      <th>305159</th>\n",
              "      <td>936</td>\n",
              "      <td>6</td>\n",
              "      <td>2013-03-02</td>\n",
              "      <td>1</td>\n",
              "      <td>0</td>\n",
              "      <td>0</td>\n",
              "      <td>0</td>\n",
              "    </tr>\n",
              "    <tr>\n",
              "      <th>305160</th>\n",
              "      <td>21</td>\n",
              "      <td>1</td>\n",
              "      <td>2013-09-16</td>\n",
              "      <td>1</td>\n",
              "      <td>0</td>\n",
              "      <td>0</td>\n",
              "      <td>0</td>\n",
              "    </tr>\n",
              "    <tr>\n",
              "      <th>305161</th>\n",
              "      <td>1077</td>\n",
              "      <td>6</td>\n",
              "      <td>2013-06-22</td>\n",
              "      <td>1</td>\n",
              "      <td>0</td>\n",
              "      <td>0</td>\n",
              "      <td>0</td>\n",
              "    </tr>\n",
              "    <tr>\n",
              "      <th>305162</th>\n",
              "      <td>321</td>\n",
              "      <td>6</td>\n",
              "      <td>2013-09-07</td>\n",
              "      <td>1</td>\n",
              "      <td>0</td>\n",
              "      <td>0</td>\n",
              "      <td>0</td>\n",
              "    </tr>\n",
              "  </tbody>\n",
              "</table>\n",
              "</div>"
            ],
            "text/plain": [
              "        Store  DayOfWeek        Date  Open  Promo StateHoliday  SchoolHoliday\n",
              "0         767          1  2013-04-01     0      0            b              1\n",
              "1        1111          6  2013-03-16     1      0            0              0\n",
              "2          45          4  2013-08-01     1      1            0              1\n",
              "3         500          4  2013-05-23     1      0            0              1\n",
              "4          82          2  2013-08-06     1      0            0              1\n",
              "305158    412          2  2013-05-28     1      1            0              1\n",
              "305159    936          6  2013-03-02     1      0            0              0\n",
              "305160     21          1  2013-09-16     1      0            0              0\n",
              "305161   1077          6  2013-06-22     1      0            0              0\n",
              "305162    321          6  2013-09-07     1      0            0              0"
            ]
          },
          "metadata": {
            "tags": []
          }
        }
      ]
    },
    {
      "cell_type": "code",
      "metadata": {
        "colab": {
          "base_uri": "https://localhost:8080/",
          "height": 577
        },
        "id": "udNmdP90mXsN",
        "outputId": "423c726c-181f-4bb9-cdb3-4acea25fb3b0"
      },
      "source": [
        "display(train.describe(),test.describe())"
      ],
      "execution_count": null,
      "outputs": [
        {
          "output_type": "display_data",
          "data": {
            "text/html": [
              "<div>\n",
              "<style scoped>\n",
              "    .dataframe tbody tr th:only-of-type {\n",
              "        vertical-align: middle;\n",
              "    }\n",
              "\n",
              "    .dataframe tbody tr th {\n",
              "        vertical-align: top;\n",
              "    }\n",
              "\n",
              "    .dataframe thead th {\n",
              "        text-align: right;\n",
              "    }\n",
              "</style>\n",
              "<table border=\"1\" class=\"dataframe\">\n",
              "  <thead>\n",
              "    <tr style=\"text-align: right;\">\n",
              "      <th></th>\n",
              "      <th>Store</th>\n",
              "      <th>DayOfWeek</th>\n",
              "      <th>Sales</th>\n",
              "      <th>Customers</th>\n",
              "      <th>Open</th>\n",
              "      <th>Promo</th>\n",
              "      <th>SchoolHoliday</th>\n",
              "    </tr>\n",
              "  </thead>\n",
              "  <tbody>\n",
              "    <tr>\n",
              "      <th>count</th>\n",
              "      <td>712046.000000</td>\n",
              "      <td>712046.000000</td>\n",
              "      <td>712046.000000</td>\n",
              "      <td>712046.000000</td>\n",
              "      <td>712046.000000</td>\n",
              "      <td>712046.000000</td>\n",
              "      <td>712046.000000</td>\n",
              "    </tr>\n",
              "    <tr>\n",
              "      <th>mean</th>\n",
              "      <td>558.427662</td>\n",
              "      <td>3.999787</td>\n",
              "      <td>5872.082608</td>\n",
              "      <td>637.975274</td>\n",
              "      <td>0.828574</td>\n",
              "      <td>0.380600</td>\n",
              "      <td>0.172167</td>\n",
              "    </tr>\n",
              "    <tr>\n",
              "      <th>std</th>\n",
              "      <td>321.965298</td>\n",
              "      <td>1.996273</td>\n",
              "      <td>3918.569033</td>\n",
              "      <td>468.446468</td>\n",
              "      <td>0.376881</td>\n",
              "      <td>0.485535</td>\n",
              "      <td>0.377526</td>\n",
              "    </tr>\n",
              "    <tr>\n",
              "      <th>min</th>\n",
              "      <td>1.000000</td>\n",
              "      <td>1.000000</td>\n",
              "      <td>0.000000</td>\n",
              "      <td>0.000000</td>\n",
              "      <td>0.000000</td>\n",
              "      <td>0.000000</td>\n",
              "      <td>0.000000</td>\n",
              "    </tr>\n",
              "    <tr>\n",
              "      <th>25%</th>\n",
              "      <td>280.000000</td>\n",
              "      <td>2.000000</td>\n",
              "      <td>3795.000000</td>\n",
              "      <td>410.000000</td>\n",
              "      <td>1.000000</td>\n",
              "      <td>0.000000</td>\n",
              "      <td>0.000000</td>\n",
              "    </tr>\n",
              "    <tr>\n",
              "      <th>50%</th>\n",
              "      <td>558.000000</td>\n",
              "      <td>4.000000</td>\n",
              "      <td>5848.000000</td>\n",
              "      <td>614.000000</td>\n",
              "      <td>1.000000</td>\n",
              "      <td>0.000000</td>\n",
              "      <td>0.000000</td>\n",
              "    </tr>\n",
              "    <tr>\n",
              "      <th>75%</th>\n",
              "      <td>838.000000</td>\n",
              "      <td>6.000000</td>\n",
              "      <td>7991.000000</td>\n",
              "      <td>843.000000</td>\n",
              "      <td>1.000000</td>\n",
              "      <td>1.000000</td>\n",
              "      <td>0.000000</td>\n",
              "    </tr>\n",
              "    <tr>\n",
              "      <th>max</th>\n",
              "      <td>1115.000000</td>\n",
              "      <td>7.000000</td>\n",
              "      <td>41551.000000</td>\n",
              "      <td>5494.000000</td>\n",
              "      <td>1.000000</td>\n",
              "      <td>1.000000</td>\n",
              "      <td>1.000000</td>\n",
              "    </tr>\n",
              "  </tbody>\n",
              "</table>\n",
              "</div>"
            ],
            "text/plain": [
              "               Store      DayOfWeek  ...          Promo  SchoolHoliday\n",
              "count  712046.000000  712046.000000  ...  712046.000000  712046.000000\n",
              "mean      558.427662       3.999787  ...       0.380600       0.172167\n",
              "std       321.965298       1.996273  ...       0.485535       0.377526\n",
              "min         1.000000       1.000000  ...       0.000000       0.000000\n",
              "25%       280.000000       2.000000  ...       0.000000       0.000000\n",
              "50%       558.000000       4.000000  ...       0.000000       0.000000\n",
              "75%       838.000000       6.000000  ...       1.000000       0.000000\n",
              "max      1115.000000       7.000000  ...       1.000000       1.000000\n",
              "\n",
              "[8 rows x 7 columns]"
            ]
          },
          "metadata": {
            "tags": []
          }
        },
        {
          "output_type": "display_data",
          "data": {
            "text/html": [
              "<div>\n",
              "<style scoped>\n",
              "    .dataframe tbody tr th:only-of-type {\n",
              "        vertical-align: middle;\n",
              "    }\n",
              "\n",
              "    .dataframe tbody tr th {\n",
              "        vertical-align: top;\n",
              "    }\n",
              "\n",
              "    .dataframe thead th {\n",
              "        text-align: right;\n",
              "    }\n",
              "</style>\n",
              "<table border=\"1\" class=\"dataframe\">\n",
              "  <thead>\n",
              "    <tr style=\"text-align: right;\">\n",
              "      <th></th>\n",
              "      <th>Store</th>\n",
              "      <th>DayOfWeek</th>\n",
              "      <th>Open</th>\n",
              "      <th>Promo</th>\n",
              "      <th>SchoolHoliday</th>\n",
              "    </tr>\n",
              "  </thead>\n",
              "  <tbody>\n",
              "    <tr>\n",
              "      <th>count</th>\n",
              "      <td>305163.000000</td>\n",
              "      <td>305163.000000</td>\n",
              "      <td>305163.000000</td>\n",
              "      <td>305163.000000</td>\n",
              "      <td>305163.000000</td>\n",
              "    </tr>\n",
              "    <tr>\n",
              "      <th>mean</th>\n",
              "      <td>558.434545</td>\n",
              "      <td>3.994967</td>\n",
              "      <td>0.833682</td>\n",
              "      <td>0.383647</td>\n",
              "      <td>0.193765</td>\n",
              "    </tr>\n",
              "    <tr>\n",
              "      <th>std</th>\n",
              "      <td>321.776964</td>\n",
              "      <td>1.999997</td>\n",
              "      <td>0.372366</td>\n",
              "      <td>0.486274</td>\n",
              "      <td>0.395248</td>\n",
              "    </tr>\n",
              "    <tr>\n",
              "      <th>min</th>\n",
              "      <td>1.000000</td>\n",
              "      <td>1.000000</td>\n",
              "      <td>0.000000</td>\n",
              "      <td>0.000000</td>\n",
              "      <td>0.000000</td>\n",
              "    </tr>\n",
              "    <tr>\n",
              "      <th>25%</th>\n",
              "      <td>280.000000</td>\n",
              "      <td>2.000000</td>\n",
              "      <td>1.000000</td>\n",
              "      <td>0.000000</td>\n",
              "      <td>0.000000</td>\n",
              "    </tr>\n",
              "    <tr>\n",
              "      <th>50%</th>\n",
              "      <td>559.000000</td>\n",
              "      <td>4.000000</td>\n",
              "      <td>1.000000</td>\n",
              "      <td>0.000000</td>\n",
              "      <td>0.000000</td>\n",
              "    </tr>\n",
              "    <tr>\n",
              "      <th>75%</th>\n",
              "      <td>837.000000</td>\n",
              "      <td>6.000000</td>\n",
              "      <td>1.000000</td>\n",
              "      <td>1.000000</td>\n",
              "      <td>0.000000</td>\n",
              "    </tr>\n",
              "    <tr>\n",
              "      <th>max</th>\n",
              "      <td>1115.000000</td>\n",
              "      <td>7.000000</td>\n",
              "      <td>1.000000</td>\n",
              "      <td>1.000000</td>\n",
              "      <td>1.000000</td>\n",
              "    </tr>\n",
              "  </tbody>\n",
              "</table>\n",
              "</div>"
            ],
            "text/plain": [
              "               Store      DayOfWeek  ...          Promo  SchoolHoliday\n",
              "count  305163.000000  305163.000000  ...  305163.000000  305163.000000\n",
              "mean      558.434545       3.994967  ...       0.383647       0.193765\n",
              "std       321.776964       1.999997  ...       0.486274       0.395248\n",
              "min         1.000000       1.000000  ...       0.000000       0.000000\n",
              "25%       280.000000       2.000000  ...       0.000000       0.000000\n",
              "50%       559.000000       4.000000  ...       0.000000       0.000000\n",
              "75%       837.000000       6.000000  ...       1.000000       0.000000\n",
              "max      1115.000000       7.000000  ...       1.000000       1.000000\n",
              "\n",
              "[8 rows x 5 columns]"
            ]
          },
          "metadata": {
            "tags": []
          }
        }
      ]
    },
    {
      "cell_type": "code",
      "metadata": {
        "colab": {
          "base_uri": "https://localhost:8080/",
          "height": 561
        },
        "id": "jTKeRKQ6mX1V",
        "outputId": "998115ca-8bcf-47ea-c90a-b74aff7a68fc"
      },
      "source": [
        "display(train.info(),test.info())"
      ],
      "execution_count": null,
      "outputs": [
        {
          "output_type": "stream",
          "text": [
            "<class 'pandas.core.frame.DataFrame'>\n",
            "RangeIndex: 712046 entries, 0 to 712045\n",
            "Data columns (total 9 columns):\n",
            " #   Column         Non-Null Count   Dtype \n",
            "---  ------         --------------   ----- \n",
            " 0   Store          712046 non-null  int64 \n",
            " 1   DayOfWeek      712046 non-null  int64 \n",
            " 2   Date           712046 non-null  object\n",
            " 3   Sales          712046 non-null  int64 \n",
            " 4   Customers      712046 non-null  int64 \n",
            " 5   Open           712046 non-null  int64 \n",
            " 6   Promo          712046 non-null  int64 \n",
            " 7   StateHoliday   712046 non-null  object\n",
            " 8   SchoolHoliday  712046 non-null  int64 \n",
            "dtypes: int64(7), object(2)\n",
            "memory usage: 48.9+ MB\n",
            "<class 'pandas.core.frame.DataFrame'>\n",
            "RangeIndex: 305163 entries, 0 to 305162\n",
            "Data columns (total 7 columns):\n",
            " #   Column         Non-Null Count   Dtype \n",
            "---  ------         --------------   ----- \n",
            " 0   Store          305163 non-null  int64 \n",
            " 1   DayOfWeek      305163 non-null  int64 \n",
            " 2   Date           305163 non-null  object\n",
            " 3   Open           305163 non-null  int64 \n",
            " 4   Promo          305163 non-null  int64 \n",
            " 5   StateHoliday   305163 non-null  object\n",
            " 6   SchoolHoliday  305163 non-null  int64 \n",
            "dtypes: int64(5), object(2)\n",
            "memory usage: 16.3+ MB\n"
          ],
          "name": "stdout"
        },
        {
          "output_type": "display_data",
          "data": {
            "text/plain": [
              "None"
            ]
          },
          "metadata": {
            "tags": []
          }
        },
        {
          "output_type": "display_data",
          "data": {
            "text/plain": [
              "None"
            ]
          },
          "metadata": {
            "tags": []
          }
        }
      ]
    },
    {
      "cell_type": "code",
      "metadata": {
        "colab": {
          "base_uri": "https://localhost:8080/",
          "height": 323
        },
        "id": "4eHFdXQ5mX-W",
        "outputId": "e14b49d7-6007-4e71-b1f2-82ba0fcf3836"
      },
      "source": [
        "display(train.isnull().mean(),test.isnull().mean())"
      ],
      "execution_count": null,
      "outputs": [
        {
          "output_type": "display_data",
          "data": {
            "text/plain": [
              "Store            0.0\n",
              "DayOfWeek        0.0\n",
              "Date             0.0\n",
              "Sales            0.0\n",
              "Customers        0.0\n",
              "Open             0.0\n",
              "Promo            0.0\n",
              "StateHoliday     0.0\n",
              "SchoolHoliday    0.0\n",
              "dtype: float64"
            ]
          },
          "metadata": {
            "tags": []
          }
        },
        {
          "output_type": "display_data",
          "data": {
            "text/plain": [
              "Store            0.0\n",
              "DayOfWeek        0.0\n",
              "Date             0.0\n",
              "Open             0.0\n",
              "Promo            0.0\n",
              "StateHoliday     0.0\n",
              "SchoolHoliday    0.0\n",
              "dtype: float64"
            ]
          },
          "metadata": {
            "tags": []
          }
        }
      ]
    },
    {
      "cell_type": "code",
      "metadata": {
        "id": "caRHRcZvmYGe"
      },
      "source": [
        "store = pd.read_csv(\"/content/drive/MyDrive/My_Data/Sale_price_prediction/dataset/store.csv\")"
      ],
      "execution_count": null,
      "outputs": []
    },
    {
      "cell_type": "code",
      "metadata": {
        "colab": {
          "base_uri": "https://localhost:8080/",
          "height": 379
        },
        "id": "_UEgzh0tZAY2",
        "outputId": "fe9ad6a3-a0f3-4d51-ba77-d963f18b27b3"
      },
      "source": [
        "store.head().append(store.tail())"
      ],
      "execution_count": null,
      "outputs": [
        {
          "output_type": "execute_result",
          "data": {
            "text/html": [
              "<div>\n",
              "<style scoped>\n",
              "    .dataframe tbody tr th:only-of-type {\n",
              "        vertical-align: middle;\n",
              "    }\n",
              "\n",
              "    .dataframe tbody tr th {\n",
              "        vertical-align: top;\n",
              "    }\n",
              "\n",
              "    .dataframe thead th {\n",
              "        text-align: right;\n",
              "    }\n",
              "</style>\n",
              "<table border=\"1\" class=\"dataframe\">\n",
              "  <thead>\n",
              "    <tr style=\"text-align: right;\">\n",
              "      <th></th>\n",
              "      <th>Store</th>\n",
              "      <th>StoreType</th>\n",
              "      <th>Assortment</th>\n",
              "      <th>CompetitionDistance</th>\n",
              "      <th>CompetitionOpenSinceMonth</th>\n",
              "      <th>CompetitionOpenSinceYear</th>\n",
              "      <th>Promo2</th>\n",
              "      <th>Promo2SinceWeek</th>\n",
              "      <th>Promo2SinceYear</th>\n",
              "      <th>PromoInterval</th>\n",
              "    </tr>\n",
              "  </thead>\n",
              "  <tbody>\n",
              "    <tr>\n",
              "      <th>0</th>\n",
              "      <td>1</td>\n",
              "      <td>c</td>\n",
              "      <td>a</td>\n",
              "      <td>1270.0</td>\n",
              "      <td>9.0</td>\n",
              "      <td>2008.0</td>\n",
              "      <td>0</td>\n",
              "      <td>NaN</td>\n",
              "      <td>NaN</td>\n",
              "      <td>NaN</td>\n",
              "    </tr>\n",
              "    <tr>\n",
              "      <th>1</th>\n",
              "      <td>2</td>\n",
              "      <td>a</td>\n",
              "      <td>a</td>\n",
              "      <td>570.0</td>\n",
              "      <td>11.0</td>\n",
              "      <td>2007.0</td>\n",
              "      <td>1</td>\n",
              "      <td>13.0</td>\n",
              "      <td>2010.0</td>\n",
              "      <td>Jan,Apr,Jul,Oct</td>\n",
              "    </tr>\n",
              "    <tr>\n",
              "      <th>2</th>\n",
              "      <td>3</td>\n",
              "      <td>a</td>\n",
              "      <td>a</td>\n",
              "      <td>14130.0</td>\n",
              "      <td>12.0</td>\n",
              "      <td>2006.0</td>\n",
              "      <td>1</td>\n",
              "      <td>14.0</td>\n",
              "      <td>2011.0</td>\n",
              "      <td>Jan,Apr,Jul,Oct</td>\n",
              "    </tr>\n",
              "    <tr>\n",
              "      <th>3</th>\n",
              "      <td>4</td>\n",
              "      <td>c</td>\n",
              "      <td>c</td>\n",
              "      <td>620.0</td>\n",
              "      <td>9.0</td>\n",
              "      <td>2009.0</td>\n",
              "      <td>0</td>\n",
              "      <td>NaN</td>\n",
              "      <td>NaN</td>\n",
              "      <td>NaN</td>\n",
              "    </tr>\n",
              "    <tr>\n",
              "      <th>4</th>\n",
              "      <td>5</td>\n",
              "      <td>a</td>\n",
              "      <td>a</td>\n",
              "      <td>29910.0</td>\n",
              "      <td>4.0</td>\n",
              "      <td>2015.0</td>\n",
              "      <td>0</td>\n",
              "      <td>NaN</td>\n",
              "      <td>NaN</td>\n",
              "      <td>NaN</td>\n",
              "    </tr>\n",
              "    <tr>\n",
              "      <th>1110</th>\n",
              "      <td>1111</td>\n",
              "      <td>a</td>\n",
              "      <td>a</td>\n",
              "      <td>1900.0</td>\n",
              "      <td>6.0</td>\n",
              "      <td>2014.0</td>\n",
              "      <td>1</td>\n",
              "      <td>31.0</td>\n",
              "      <td>2013.0</td>\n",
              "      <td>Jan,Apr,Jul,Oct</td>\n",
              "    </tr>\n",
              "    <tr>\n",
              "      <th>1111</th>\n",
              "      <td>1112</td>\n",
              "      <td>c</td>\n",
              "      <td>c</td>\n",
              "      <td>1880.0</td>\n",
              "      <td>4.0</td>\n",
              "      <td>2006.0</td>\n",
              "      <td>0</td>\n",
              "      <td>NaN</td>\n",
              "      <td>NaN</td>\n",
              "      <td>NaN</td>\n",
              "    </tr>\n",
              "    <tr>\n",
              "      <th>1112</th>\n",
              "      <td>1113</td>\n",
              "      <td>a</td>\n",
              "      <td>c</td>\n",
              "      <td>9260.0</td>\n",
              "      <td>NaN</td>\n",
              "      <td>NaN</td>\n",
              "      <td>0</td>\n",
              "      <td>NaN</td>\n",
              "      <td>NaN</td>\n",
              "      <td>NaN</td>\n",
              "    </tr>\n",
              "    <tr>\n",
              "      <th>1113</th>\n",
              "      <td>1114</td>\n",
              "      <td>a</td>\n",
              "      <td>c</td>\n",
              "      <td>870.0</td>\n",
              "      <td>NaN</td>\n",
              "      <td>NaN</td>\n",
              "      <td>0</td>\n",
              "      <td>NaN</td>\n",
              "      <td>NaN</td>\n",
              "      <td>NaN</td>\n",
              "    </tr>\n",
              "    <tr>\n",
              "      <th>1114</th>\n",
              "      <td>1115</td>\n",
              "      <td>d</td>\n",
              "      <td>c</td>\n",
              "      <td>5350.0</td>\n",
              "      <td>NaN</td>\n",
              "      <td>NaN</td>\n",
              "      <td>1</td>\n",
              "      <td>22.0</td>\n",
              "      <td>2012.0</td>\n",
              "      <td>Mar,Jun,Sept,Dec</td>\n",
              "    </tr>\n",
              "  </tbody>\n",
              "</table>\n",
              "</div>"
            ],
            "text/plain": [
              "      Store StoreType  ... Promo2SinceYear     PromoInterval\n",
              "0         1         c  ...             NaN               NaN\n",
              "1         2         a  ...          2010.0   Jan,Apr,Jul,Oct\n",
              "2         3         a  ...          2011.0   Jan,Apr,Jul,Oct\n",
              "3         4         c  ...             NaN               NaN\n",
              "4         5         a  ...             NaN               NaN\n",
              "1110   1111         a  ...          2013.0   Jan,Apr,Jul,Oct\n",
              "1111   1112         c  ...             NaN               NaN\n",
              "1112   1113         a  ...             NaN               NaN\n",
              "1113   1114         a  ...             NaN               NaN\n",
              "1114   1115         d  ...          2012.0  Mar,Jun,Sept,Dec\n",
              "\n",
              "[10 rows x 10 columns]"
            ]
          },
          "metadata": {
            "tags": []
          },
          "execution_count": 8
        }
      ]
    },
    {
      "cell_type": "code",
      "metadata": {
        "id": "jyM1Wg7oIHcN"
      },
      "source": [
        "new_train = pd.merge(train,store,on=\"Store\")## We have merged Store.csv to extract additional information\n",
        "new_test = pd.merge(test,store,on=\"Store\")\n"
      ],
      "execution_count": null,
      "outputs": []
    },
    {
      "cell_type": "code",
      "metadata": {
        "id": "PkTjbRs6lycZ"
      },
      "source": [
        "#new_df.drop(new_df[new_df.Sales==0].index,inplace=True)"
      ],
      "execution_count": null,
      "outputs": []
    },
    {
      "cell_type": "code",
      "metadata": {
        "id": "IhmRIhEKSZ99"
      },
      "source": [
        "#new_df.drop(new_df[new_df.DayOfWeek==7].index,inplace=True)"
      ],
      "execution_count": null,
      "outputs": []
    },
    {
      "cell_type": "code",
      "metadata": {
        "colab": {
          "base_uri": "https://localhost:8080/",
          "height": 629
        },
        "id": "r6hukYCKUVqd",
        "outputId": "652a0109-b4d4-40c7-e8be-5ade3286eb9f"
      },
      "source": [
        "display(new_train.isnull().mean()*100,new_test.isnull().mean()*100)"
      ],
      "execution_count": null,
      "outputs": [
        {
          "output_type": "display_data",
          "data": {
            "text/plain": [
              "Store                         0.000000\n",
              "DayOfWeek                     0.000000\n",
              "Date                          0.000000\n",
              "Sales                         0.000000\n",
              "Customers                     0.000000\n",
              "Open                          0.000000\n",
              "Promo                         0.000000\n",
              "StateHoliday                  0.000000\n",
              "SchoolHoliday                 0.000000\n",
              "StoreType                     0.000000\n",
              "Assortment                    0.000000\n",
              "CompetitionDistance           0.255742\n",
              "CompetitionOpenSinceMonth    31.804125\n",
              "CompetitionOpenSinceYear     31.804125\n",
              "Promo2                        0.000000\n",
              "Promo2SinceWeek              50.438174\n",
              "Promo2SinceYear              50.438174\n",
              "PromoInterval                50.438174\n",
              "dtype: float64"
            ]
          },
          "metadata": {
            "tags": []
          }
        },
        {
          "output_type": "display_data",
          "data": {
            "text/plain": [
              "Store                         0.000000\n",
              "DayOfWeek                     0.000000\n",
              "Date                          0.000000\n",
              "Open                          0.000000\n",
              "Promo                         0.000000\n",
              "StateHoliday                  0.000000\n",
              "SchoolHoliday                 0.000000\n",
              "StoreType                     0.000000\n",
              "Assortment                    0.000000\n",
              "CompetitionDistance           0.269037\n",
              "CompetitionOpenSinceMonth    31.749590\n",
              "CompetitionOpenSinceYear     31.749590\n",
              "Promo2                        0.000000\n",
              "Promo2SinceWeek              48.789663\n",
              "Promo2SinceYear              48.789663\n",
              "PromoInterval                48.789663\n",
              "dtype: float64"
            ]
          },
          "metadata": {
            "tags": []
          }
        }
      ]
    },
    {
      "cell_type": "code",
      "metadata": {
        "id": "ct-DTtYIIICf"
      },
      "source": [
        "## We have drop the folloing columns as the amount of missing vaule is more than 50%\n",
        "\n",
        "new_train.drop([\"Promo2SinceWeek\",\"Promo2SinceYear\",\"PromoInterval\",\"Customers\"],axis=1,inplace=True)\n",
        "\n",
        "new_test.drop([\"Promo2SinceWeek\",\"Promo2SinceYear\",\"PromoInterval\"],axis=1,inplace=True)"
      ],
      "execution_count": null,
      "outputs": []
    },
    {
      "cell_type": "code",
      "metadata": {
        "id": "TLx5rMklkb06"
      },
      "source": [
        "## We have tried to inpute the missing values with the median/mean values of the following attributes\n",
        "\n",
        "new_train.CompetitionOpenSinceMonth.fillna(new_train.CompetitionOpenSinceMonth.median(),inplace=True)\n",
        "new_train.CompetitionOpenSinceYear.fillna(new_train.CompetitionOpenSinceYear.median(),inplace=True)\n",
        "new_train.CompetitionDistance.fillna(new_train.CompetitionDistance.mean(),inplace=True)\n",
        "\n",
        "new_test.CompetitionOpenSinceMonth.fillna(new_test.CompetitionOpenSinceMonth.median(),inplace=True)\n",
        "new_test.CompetitionOpenSinceYear.fillna(new_test.CompetitionOpenSinceYear.median(),inplace=True)\n",
        "new_test.CompetitionDistance.fillna(new_test.CompetitionDistance.mean(),inplace=True)\n"
      ],
      "execution_count": null,
      "outputs": []
    },
    {
      "cell_type": "code",
      "metadata": {
        "id": "kpa8CP1xMzPZ"
      },
      "source": [
        "\n",
        "#new_train.CompetitionDistance.fillna(new_train.CompetitionDistance.median(),inplace=True)\n",
        "\n",
        "#new_test.CompetitionDistance.fillna(new_test.CompetitionDistance.median(),inplace=True)\n"
      ],
      "execution_count": null,
      "outputs": []
    },
    {
      "cell_type": "code",
      "metadata": {
        "id": "7FpcbSBwn1aW"
      },
      "source": [
        "##categorical_feature = [feature for feature in new_df.columns if new_df[feature].nunique()>1 and new_df[feature].dtype=='O']"
      ],
      "execution_count": null,
      "outputs": []
    },
    {
      "cell_type": "code",
      "metadata": {
        "id": "KhK-siDiOd0v"
      },
      "source": [
        "new_train.StateHoliday = np.where(new_train.StateHoliday==0,\"0\",new_train.StateHoliday.astype(str))\n",
        "new_test.StateHoliday = np.where(new_test.StateHoliday==0,\"0\",new_test.StateHoliday.astype(str))"
      ],
      "execution_count": null,
      "outputs": []
    },
    {
      "cell_type": "code",
      "metadata": {
        "colab": {
          "base_uri": "https://localhost:8080/",
          "height": 51
        },
        "id": "uj2xzOsccd2a",
        "outputId": "70692f0d-0799-4f68-bcad-e2d9c1f8a755"
      },
      "source": [
        "display(new_train.StateHoliday.unique(),new_test.StateHoliday.unique())"
      ],
      "execution_count": null,
      "outputs": [
        {
          "output_type": "display_data",
          "data": {
            "text/plain": [
              "array(['0', 'a', 'b', 'c'], dtype=object)"
            ]
          },
          "metadata": {
            "tags": []
          }
        },
        {
          "output_type": "display_data",
          "data": {
            "text/plain": [
              "array(['b', '0', 'a'], dtype=object)"
            ]
          },
          "metadata": {
            "tags": []
          }
        }
      ]
    },
    {
      "cell_type": "markdown",
      "metadata": {
        "id": "hiCqUCllwASf"
      },
      "source": [
        "# **EDA**"
      ]
    },
    {
      "cell_type": "markdown",
      "metadata": {
        "id": "_LwSpWkmv_Ap"
      },
      "source": [
        ""
      ]
    },
    {
      "cell_type": "code",
      "metadata": {
        "colab": {
          "base_uri": "https://localhost:8080/",
          "height": 296
        },
        "id": "zDIS1ZJ2wFhP",
        "outputId": "abe06a66-d9ab-4b98-a7e3-43fb2b854685"
      },
      "source": [
        "sns.boxplot(data = new_train.sort_values(\"Sales\",ascending=True),x=\"StoreType\",y=\"Sales\")#,hue=\"Assortment\")"
      ],
      "execution_count": null,
      "outputs": [
        {
          "output_type": "execute_result",
          "data": {
            "text/plain": [
              "<matplotlib.axes._subplots.AxesSubplot at 0x7fadf6882250>"
            ]
          },
          "metadata": {
            "tags": []
          },
          "execution_count": 63
        },
        {
          "output_type": "display_data",
          "data": {
            "image/png": "[encoded data removed]",
            "text/plain": [
              "<Figure size 432x288 with 1 Axes>"
            ]
          },
          "metadata": {
            "tags": []
          }
        }
      ]
    },
    {
      "cell_type": "code",
      "metadata": {
        "colab": {
          "base_uri": "https://localhost:8080/",
          "height": 204
        },
        "id": "Pfdz3Nq9wFdO",
        "outputId": "8b2393c5-7332-4042-995e-6c01c24dacec"
      },
      "source": [
        "new_train.groupby(\"StoreType\")[\"Sales\"].describe()"
      ],
      "execution_count": null,
      "outputs": [
        {
          "output_type": "execute_result",
          "data": {
            "text/html": [
              "<div>\n",
              "<style scoped>\n",
              "    .dataframe tbody tr th:only-of-type {\n",
              "        vertical-align: middle;\n",
              "    }\n",
              "\n",
              "    .dataframe tbody tr th {\n",
              "        vertical-align: top;\n",
              "    }\n",
              "\n",
              "    .dataframe thead th {\n",
              "        text-align: right;\n",
              "    }\n",
              "</style>\n",
              "<table border=\"1\" class=\"dataframe\">\n",
              "  <thead>\n",
              "    <tr style=\"text-align: right;\">\n",
              "      <th></th>\n",
              "      <th>count</th>\n",
              "      <th>mean</th>\n",
              "      <th>std</th>\n",
              "      <th>min</th>\n",
              "      <th>25%</th>\n",
              "      <th>50%</th>\n",
              "      <th>75%</th>\n",
              "      <th>max</th>\n",
              "    </tr>\n",
              "    <tr>\n",
              "      <th>StoreType</th>\n",
              "      <th></th>\n",
              "      <th></th>\n",
              "      <th></th>\n",
              "      <th></th>\n",
              "      <th></th>\n",
              "      <th></th>\n",
              "      <th></th>\n",
              "      <th></th>\n",
              "    </tr>\n",
              "  </thead>\n",
              "  <tbody>\n",
              "    <tr>\n",
              "      <th>a</th>\n",
              "      <td>386873.0</td>\n",
              "      <td>5808.558785</td>\n",
              "      <td>4024.429070</td>\n",
              "      <td>0.0</td>\n",
              "      <td>3548.0</td>\n",
              "      <td>5691.0</td>\n",
              "      <td>7953.00</td>\n",
              "      <td>41551.0</td>\n",
              "    </tr>\n",
              "    <tr>\n",
              "      <th>b</th>\n",
              "      <td>11177.0</td>\n",
              "      <td>10496.344815</td>\n",
              "      <td>5143.850622</td>\n",
              "      <td>1252.0</td>\n",
              "      <td>6591.0</td>\n",
              "      <td>9414.0</td>\n",
              "      <td>13417.00</td>\n",
              "      <td>38722.0</td>\n",
              "    </tr>\n",
              "    <tr>\n",
              "      <th>c</th>\n",
              "      <td>96322.0</td>\n",
              "      <td>5815.651398</td>\n",
              "      <td>3761.574751</td>\n",
              "      <td>0.0</td>\n",
              "      <td>3879.0</td>\n",
              "      <td>5876.0</td>\n",
              "      <td>7977.00</td>\n",
              "      <td>31415.0</td>\n",
              "    </tr>\n",
              "    <tr>\n",
              "      <th>d</th>\n",
              "      <td>217674.0</td>\n",
              "      <td>5772.510957</td>\n",
              "      <td>3564.810986</td>\n",
              "      <td>0.0</td>\n",
              "      <td>4087.0</td>\n",
              "      <td>5964.0</td>\n",
              "      <td>7867.75</td>\n",
              "      <td>38037.0</td>\n",
              "    </tr>\n",
              "  </tbody>\n",
              "</table>\n",
              "</div>"
            ],
            "text/plain": [
              "              count          mean          std  ...     50%       75%      max\n",
              "StoreType                                       ...                           \n",
              "a          386873.0   5808.558785  4024.429070  ...  5691.0   7953.00  41551.0\n",
              "b           11177.0  10496.344815  5143.850622  ...  9414.0  13417.00  38722.0\n",
              "c           96322.0   5815.651398  3761.574751  ...  5876.0   7977.00  31415.0\n",
              "d          217674.0   5772.510957  3564.810986  ...  5964.0   7867.75  38037.0\n",
              "\n",
              "[4 rows x 8 columns]"
            ]
          },
          "metadata": {
            "tags": []
          },
          "execution_count": 71
        }
      ]
    },
    {
      "cell_type": "code",
      "metadata": {
        "colab": {
          "base_uri": "https://localhost:8080/",
          "height": 400
        },
        "id": "3T-2zrixwFa3",
        "outputId": "cbf7acb3-03f3-478a-921f-3fb4d48b4a55"
      },
      "source": [
        "sns.catplot(data = new_train.sort_values(\"Sales\",ascending=True),x=\"Assortment\",y=\"Sales\",kind = \"boxen\")"
      ],
      "execution_count": null,
      "outputs": [
        {
          "output_type": "execute_result",
          "data": {
            "text/plain": [
              "<seaborn.axisgrid.FacetGrid at 0x7fadf6812ad0>"
            ]
          },
          "metadata": {
            "tags": []
          },
          "execution_count": 65
        },
        {
          "output_type": "display_data",
          "data": {
            "image/png": "[encoded data removed]",
            "text/plain": [
              "<Figure size 360x360 with 1 Axes>"
            ]
          },
          "metadata": {
            "tags": []
          }
        }
      ]
    },
    {
      "cell_type": "code",
      "metadata": {
        "colab": {
          "base_uri": "https://localhost:8080/",
          "height": 173
        },
        "id": "AZ0Adc9rYJkC",
        "outputId": "16b36e21-acb5-49d1-cae0-e88f16e2ec1f"
      },
      "source": [
        "new_train.groupby(\"Assortment\").Sales.describe()"
      ],
      "execution_count": null,
      "outputs": [
        {
          "output_type": "execute_result",
          "data": {
            "text/html": [
              "<div>\n",
              "<style scoped>\n",
              "    .dataframe tbody tr th:only-of-type {\n",
              "        vertical-align: middle;\n",
              "    }\n",
              "\n",
              "    .dataframe tbody tr th {\n",
              "        vertical-align: top;\n",
              "    }\n",
              "\n",
              "    .dataframe thead th {\n",
              "        text-align: right;\n",
              "    }\n",
              "</style>\n",
              "<table border=\"1\" class=\"dataframe\">\n",
              "  <thead>\n",
              "    <tr style=\"text-align: right;\">\n",
              "      <th></th>\n",
              "      <th>count</th>\n",
              "      <th>mean</th>\n",
              "      <th>std</th>\n",
              "      <th>min</th>\n",
              "      <th>25%</th>\n",
              "      <th>50%</th>\n",
              "      <th>75%</th>\n",
              "      <th>max</th>\n",
              "    </tr>\n",
              "    <tr>\n",
              "      <th>Assortment</th>\n",
              "      <th></th>\n",
              "      <th></th>\n",
              "      <th></th>\n",
              "      <th></th>\n",
              "      <th></th>\n",
              "      <th></th>\n",
              "      <th></th>\n",
              "      <th></th>\n",
              "    </tr>\n",
              "  </thead>\n",
              "  <tbody>\n",
              "    <tr>\n",
              "      <th>a</th>\n",
              "      <td>375158.0</td>\n",
              "      <td>5534.041204</td>\n",
              "      <td>3733.127233</td>\n",
              "      <td>0.0</td>\n",
              "      <td>3510.0</td>\n",
              "      <td>5519.0</td>\n",
              "      <td>7590.0</td>\n",
              "      <td>38722.0</td>\n",
              "    </tr>\n",
              "    <tr>\n",
              "      <th>b</th>\n",
              "      <td>5830.0</td>\n",
              "      <td>9120.730017</td>\n",
              "      <td>3804.335638</td>\n",
              "      <td>2531.0</td>\n",
              "      <td>6080.5</td>\n",
              "      <td>8558.0</td>\n",
              "      <td>11830.5</td>\n",
              "      <td>22137.0</td>\n",
              "    </tr>\n",
              "    <tr>\n",
              "      <th>c</th>\n",
              "      <td>331058.0</td>\n",
              "      <td>6197.944913</td>\n",
              "      <td>4069.058394</td>\n",
              "      <td>0.0</td>\n",
              "      <td>4148.0</td>\n",
              "      <td>6183.0</td>\n",
              "      <td>8370.0</td>\n",
              "      <td>41551.0</td>\n",
              "    </tr>\n",
              "  </tbody>\n",
              "</table>\n",
              "</div>"
            ],
            "text/plain": [
              "               count         mean          std  ...     50%      75%      max\n",
              "Assortment                                      ...                          \n",
              "a           375158.0  5534.041204  3733.127233  ...  5519.0   7590.0  38722.0\n",
              "b             5830.0  9120.730017  3804.335638  ...  8558.0  11830.5  22137.0\n",
              "c           331058.0  6197.944913  4069.058394  ...  6183.0   8370.0  41551.0\n",
              "\n",
              "[3 rows x 8 columns]"
            ]
          },
          "metadata": {
            "tags": []
          },
          "execution_count": 66
        }
      ]
    },
    {
      "cell_type": "code",
      "metadata": {
        "colab": {
          "base_uri": "https://localhost:8080/"
        },
        "id": "QP1I_lzIwFY-",
        "outputId": "676c870a-5e9b-4d56-e67f-0e6e9e8a5fa7"
      },
      "source": [
        "for i in new_train.StoreType.unique():\n",
        "  print(\"Store type -> {}\".format(i),pd.DataFrame(new_train[new_train.StoreType==i].Assortment).value_counts())"
      ],
      "execution_count": null,
      "outputs": [
        {
          "output_type": "stream",
          "text": [
            "Store type -> c Assortment\n",
            "a             49799\n",
            "c             46523\n",
            "dtype: int64\n",
            "Store type -> a Assortment\n",
            "a             242122\n",
            "c             144751\n",
            "dtype: int64\n",
            "Store type -> d Assortment\n",
            "c             139116\n",
            "a              78558\n",
            "dtype: int64\n",
            "Store type -> b Assortment\n",
            "b             5830\n",
            "a             4679\n",
            "c              668\n",
            "dtype: int64\n"
          ],
          "name": "stdout"
        }
      ]
    },
    {
      "cell_type": "code",
      "metadata": {
        "colab": {
          "base_uri": "https://localhost:8080/",
          "height": 704
        },
        "id": "0tyiHq9iwFFW",
        "outputId": "530f9b67-c20f-4a07-abec-2ef8f4b7232d"
      },
      "source": [
        "sns.factorplot(data = new_train, x = 'Month', y = \"Sales\", \n",
        "               col = 'StoreType', # per store type in cols\n",
        "               palette = 'plasma',\n",
        "               hue = 'StoreType',\n",
        "               row = 'Promo', # per promo in the store in rows\n",
        "               color = 'c') "
      ],
      "execution_count": null,
      "outputs": [
        {
          "output_type": "stream",
          "text": [
            "/usr/local/lib/python3.7/dist-packages/seaborn/categorical.py:3714: UserWarning: The `factorplot` function has been renamed to `catplot`. The original name will be removed in a future release. Please update your code. Note that the default `kind` in `factorplot` (`'point'`) has changed `'strip'` in `catplot`.\n",
            "  warnings.warn(msg)\n"
          ],
          "name": "stderr"
        },
        {
          "output_type": "execute_result",
          "data": {
            "text/plain": [
              "<seaborn.axisgrid.FacetGrid at 0x7fc20dbbb810>"
            ]
          },
          "metadata": {
            "tags": []
          },
          "execution_count": 17
        },
        {
          "output_type": "display_data",
          "data": {
            "image/png": "[encoded data removed]",
            "text/plain": [
              "<Figure size 1440x720 with 8 Axes>"
            ]
          },
          "metadata": {
            "tags": []
          }
        }
      ]
    },
    {
      "cell_type": "markdown",
      "metadata": {
        "id": "F2-zsNgnG6C3"
      },
      "source": [
        "#**Feature Engineering**"
      ]
    },
    {
      "cell_type": "code",
      "metadata": {
        "id": "xPg5IdHDHbcR"
      },
      "source": [
        "## handling Categorical features\n",
        "new_train = pd.get_dummies(new_train,columns=[\"Assortment\",\"StoreType\",\"StateHoliday\"],drop_first=True)"
      ],
      "execution_count": null,
      "outputs": []
    },
    {
      "cell_type": "code",
      "metadata": {
        "id": "6ZeXB2tKKGsK"
      },
      "source": [
        "new_test = pd.get_dummies(new_test,columns=[\"Assortment\",\"StoreType\",\"StateHoliday\"],drop_first=True)"
      ],
      "execution_count": null,
      "outputs": []
    },
    {
      "cell_type": "code",
      "metadata": {
        "colab": {
          "base_uri": "https://localhost:8080/",
          "height": 309
        },
        "id": "9ikyqL-ZLlxQ",
        "outputId": "a659b6f0-edc6-4e66-abac-94242863ffce"
      },
      "source": [
        "new_train.head()"
      ],
      "execution_count": null,
      "outputs": [
        {
          "output_type": "execute_result",
          "data": {
            "text/html": [
              "<div>\n",
              "<style scoped>\n",
              "    .dataframe tbody tr th:only-of-type {\n",
              "        vertical-align: middle;\n",
              "    }\n",
              "\n",
              "    .dataframe tbody tr th {\n",
              "        vertical-align: top;\n",
              "    }\n",
              "\n",
              "    .dataframe thead th {\n",
              "        text-align: right;\n",
              "    }\n",
              "</style>\n",
              "<table border=\"1\" class=\"dataframe\">\n",
              "  <thead>\n",
              "    <tr style=\"text-align: right;\">\n",
              "      <th></th>\n",
              "      <th>Store</th>\n",
              "      <th>DayOfWeek</th>\n",
              "      <th>Date</th>\n",
              "      <th>Sales</th>\n",
              "      <th>Open</th>\n",
              "      <th>Promo</th>\n",
              "      <th>SchoolHoliday</th>\n",
              "      <th>CompetitionDistance</th>\n",
              "      <th>CompetitionOpenSinceMonth</th>\n",
              "      <th>CompetitionOpenSinceYear</th>\n",
              "      <th>Promo2</th>\n",
              "      <th>Assortment_b</th>\n",
              "      <th>Assortment_c</th>\n",
              "      <th>StoreType_b</th>\n",
              "      <th>StoreType_c</th>\n",
              "      <th>StoreType_d</th>\n",
              "      <th>StateHoliday_a</th>\n",
              "      <th>StateHoliday_b</th>\n",
              "      <th>StateHoliday_c</th>\n",
              "    </tr>\n",
              "  </thead>\n",
              "  <tbody>\n",
              "    <tr>\n",
              "      <th>0</th>\n",
              "      <td>1</td>\n",
              "      <td>5</td>\n",
              "      <td>2015-07-31</td>\n",
              "      <td>5263</td>\n",
              "      <td>1</td>\n",
              "      <td>1</td>\n",
              "      <td>1</td>\n",
              "      <td>1270.0</td>\n",
              "      <td>9.0</td>\n",
              "      <td>2008.0</td>\n",
              "      <td>0</td>\n",
              "      <td>0</td>\n",
              "      <td>0</td>\n",
              "      <td>0</td>\n",
              "      <td>1</td>\n",
              "      <td>0</td>\n",
              "      <td>0</td>\n",
              "      <td>0</td>\n",
              "      <td>0</td>\n",
              "    </tr>\n",
              "    <tr>\n",
              "      <th>1</th>\n",
              "      <td>1</td>\n",
              "      <td>4</td>\n",
              "      <td>2015-07-30</td>\n",
              "      <td>5020</td>\n",
              "      <td>1</td>\n",
              "      <td>1</td>\n",
              "      <td>1</td>\n",
              "      <td>1270.0</td>\n",
              "      <td>9.0</td>\n",
              "      <td>2008.0</td>\n",
              "      <td>0</td>\n",
              "      <td>0</td>\n",
              "      <td>0</td>\n",
              "      <td>0</td>\n",
              "      <td>1</td>\n",
              "      <td>0</td>\n",
              "      <td>0</td>\n",
              "      <td>0</td>\n",
              "      <td>0</td>\n",
              "    </tr>\n",
              "    <tr>\n",
              "      <th>2</th>\n",
              "      <td>1</td>\n",
              "      <td>3</td>\n",
              "      <td>2015-07-29</td>\n",
              "      <td>4782</td>\n",
              "      <td>1</td>\n",
              "      <td>1</td>\n",
              "      <td>1</td>\n",
              "      <td>1270.0</td>\n",
              "      <td>9.0</td>\n",
              "      <td>2008.0</td>\n",
              "      <td>0</td>\n",
              "      <td>0</td>\n",
              "      <td>0</td>\n",
              "      <td>0</td>\n",
              "      <td>1</td>\n",
              "      <td>0</td>\n",
              "      <td>0</td>\n",
              "      <td>0</td>\n",
              "      <td>0</td>\n",
              "    </tr>\n",
              "    <tr>\n",
              "      <th>3</th>\n",
              "      <td>1</td>\n",
              "      <td>2</td>\n",
              "      <td>2015-07-28</td>\n",
              "      <td>5011</td>\n",
              "      <td>1</td>\n",
              "      <td>1</td>\n",
              "      <td>1</td>\n",
              "      <td>1270.0</td>\n",
              "      <td>9.0</td>\n",
              "      <td>2008.0</td>\n",
              "      <td>0</td>\n",
              "      <td>0</td>\n",
              "      <td>0</td>\n",
              "      <td>0</td>\n",
              "      <td>1</td>\n",
              "      <td>0</td>\n",
              "      <td>0</td>\n",
              "      <td>0</td>\n",
              "      <td>0</td>\n",
              "    </tr>\n",
              "    <tr>\n",
              "      <th>4</th>\n",
              "      <td>1</td>\n",
              "      <td>1</td>\n",
              "      <td>2015-07-27</td>\n",
              "      <td>6102</td>\n",
              "      <td>1</td>\n",
              "      <td>1</td>\n",
              "      <td>1</td>\n",
              "      <td>1270.0</td>\n",
              "      <td>9.0</td>\n",
              "      <td>2008.0</td>\n",
              "      <td>0</td>\n",
              "      <td>0</td>\n",
              "      <td>0</td>\n",
              "      <td>0</td>\n",
              "      <td>1</td>\n",
              "      <td>0</td>\n",
              "      <td>0</td>\n",
              "      <td>0</td>\n",
              "      <td>0</td>\n",
              "    </tr>\n",
              "  </tbody>\n",
              "</table>\n",
              "</div>"
            ],
            "text/plain": [
              "   Store  DayOfWeek        Date  ...  StateHoliday_a  StateHoliday_b  StateHoliday_c\n",
              "0      1          5  2015-07-31  ...               0               0               0\n",
              "1      1          4  2015-07-30  ...               0               0               0\n",
              "2      1          3  2015-07-29  ...               0               0               0\n",
              "3      1          2  2015-07-28  ...               0               0               0\n",
              "4      1          1  2015-07-27  ...               0               0               0\n",
              "\n",
              "[5 rows x 19 columns]"
            ]
          },
          "metadata": {
            "tags": []
          },
          "execution_count": 92
        }
      ]
    },
    {
      "cell_type": "code",
      "metadata": {
        "id": "J3t5ovA2n2Jx"
      },
      "source": [
        "## Handling Date-time feature\n",
        "\n",
        "def date_time(data):\n",
        "  \n",
        "  data[\"Date\"] = pd.to_datetime(data['Date'], errors='coerce')\n",
        "  data[\"Year\"] = data.Date.dt.year\n",
        "  data[\"Month\"] = data.Date.dt.month\n",
        "  data[\"Day\"] = data.Date.dt.day\n",
        "  data['DayOfWeek'] = data.Date.dt.dayofweek\n",
        "  data['WeekOfYear'] = data.Date.dt.weekofyear\n",
        "  \n",
        "  "
      ],
      "execution_count": null,
      "outputs": []
    },
    {
      "cell_type": "code",
      "metadata": {
        "colab": {
          "base_uri": "https://localhost:8080/"
        },
        "id": "6cXPD5g7p28j",
        "outputId": "94480184-dbc2-48c8-d650-2bd3821deb01"
      },
      "source": [
        "date_time(new_train)\n",
        "date_time(new_test)"
      ],
      "execution_count": null,
      "outputs": [
        {
          "output_type": "stream",
          "text": [
            "/usr/local/lib/python3.7/dist-packages/ipykernel_launcher.py:10: FutureWarning: Series.dt.weekofyear and Series.dt.week have been deprecated.  Please use Series.dt.isocalendar().week instead.\n",
            "  # Remove the CWD from sys.path while we load stuff.\n"
          ],
          "name": "stderr"
        }
      ]
    },
    {
      "cell_type": "code",
      "metadata": {
        "id": "jOFmxh8eqtVs"
      },
      "source": [
        "## We have dropped Store feature as same info is carried by the StoreType feature\n",
        "\n",
        "new_train.drop(\"Date\",axis=1,inplace=True)\n",
        "new_test.drop(\"Date\",axis=1,inplace=True)\n",
        "#new_train.drop(\"Store\",axis=1,inplace=True)\n",
        "#new_test.drop(\"Store\",axis=1,inplace=True)"
      ],
      "execution_count": null,
      "outputs": []
    },
    {
      "cell_type": "code",
      "metadata": {
        "id": "Ct13IPqr-zR9"
      },
      "source": [
        "X = new_train.drop(\"Sales\",axis=1)\n",
        "y = new_train.Sales"
      ],
      "execution_count": null,
      "outputs": []
    },
    {
      "cell_type": "code",
      "metadata": {
        "colab": {
          "base_uri": "https://localhost:8080/",
          "height": 1000
        },
        "id": "WRcAusjKX-PX",
        "outputId": "b85d5123-c20c-4b5e-df7b-dd63f7d252ec"
      },
      "source": [
        "## We see that there are outliers in our continuous data\n",
        "\n",
        "def outlier_check(data):\n",
        "  continuous = [feature for feature in data.columns if data[feature].nunique()>7]\n",
        "  for feature in continuous:\n",
        "    plt.title(feature.upper())\n",
        "    data[[feature]].boxplot(patch_artist=True)\n",
        "    plt.show()\n",
        "\n",
        "\n",
        "outlier_check(X)\n",
        "for i in range(5):\n",
        "  print(\"*\"*100,'\\n')\n",
        "outlier_check(new_test)"
      ],
      "execution_count": null,
      "outputs": [
        {
          "output_type": "display_data",
          "data": {
            "image/png": "[encoded data removed]",
            "text/plain": [
              "<Figure size 432x288 with 1 Axes>"
            ]
          },
          "metadata": {
            "tags": []
          }
        },
        {
          "output_type": "display_data",
          "data": {
            "image/png": "[encoded data removed]",
            "text/plain": [
              "<Figure size 432x288 with 1 Axes>"
            ]
          },
          "metadata": {
            "tags": []
          }
        },
        {
          "output_type": "display_data",
          "data": {
            "image/png": "[encoded data removed]",
            "text/plain": [
              "<Figure size 432x288 with 1 Axes>"
            ]
          },
          "metadata": {
            "tags": []
          }
        },
        {
          "output_type": "display_data",
          "data": {
            "image/png": "[encoded data removed]",
            "text/plain": [
              "<Figure size 432x288 with 1 Axes>"
            ]
          },
          "metadata": {
            "tags": []
          }
        },
        {
          "output_type": "display_data",
          "data": {
            "image/png": "[encoded data removed]",
            "text/plain": [
              "<Figure size 432x288 with 1 Axes>"
            ]
          },
          "metadata": {
            "tags": []
          }
        },
        {
          "output_type": "display_data",
          "data": {
            "image/png": "[encoded data removed]",
            "text/plain": [
              "<Figure size 432x288 with 1 Axes>"
            ]
          },
          "metadata": {
            "tags": []
          }
        },
        {
          "output_type": "display_data",
          "data": {
            "image/png": "[encoded data removed]",
            "text/plain": [
              "<Figure size 432x288 with 1 Axes>"
            ]
          },
          "metadata": {
            "tags": []
          }
        },
        {
          "output_type": "stream",
          "text": [
            "**************************************************************************************************** \n",
            "\n",
            "**************************************************************************************************** \n",
            "\n",
            "**************************************************************************************************** \n",
            "\n",
            "**************************************************************************************************** \n",
            "\n",
            "**************************************************************************************************** \n",
            "\n"
          ],
          "name": "stdout"
        },
        {
          "output_type": "display_data",
          "data": {
            "image/png": "[encoded data removed]",
            "text/plain": [
              "<Figure size 432x288 with 1 Axes>"
            ]
          },
          "metadata": {
            "tags": []
          }
        },
        {
          "output_type": "display_data",
          "data": {
            "image/png": "[encoded data removed]",
            "text/plain": [
              "<Figure size 432x288 with 1 Axes>"
            ]
          },
          "metadata": {
            "tags": []
          }
        },
        {
          "output_type": "display_data",
          "data": {
            "image/png": "[encoded data removed]",
            "text/plain": [
              "<Figure size 432x288 with 1 Axes>"
            ]
          },
          "metadata": {
            "tags": []
          }
        },
        {
          "output_type": "display_data",
          "data": {
            "image/png": "[encoded data removed]",
            "text/plain": [
              "<Figure size 432x288 with 1 Axes>"
            ]
          },
          "metadata": {
            "tags": []
          }
        },
        {
          "output_type": "display_data",
          "data": {
            "image/png": "[encoded data removed]",
            "text/plain": [
              "<Figure size 432x288 with 1 Axes>"
            ]
          },
          "metadata": {
            "tags": []
          }
        },
        {
          "output_type": "display_data",
          "data": {
            "image/png": "[encoded data removed]",
            "text/plain": [
              "<Figure size 432x288 with 1 Axes>"
            ]
          },
          "metadata": {
            "tags": []
          }
        },
        {
          "output_type": "display_data",
          "data": {
            "image/png": "[encoded data removed]",
            "text/plain": [
              "<Figure size 432x288 with 1 Axes>"
            ]
          },
          "metadata": {
            "tags": []
          }
        }
      ]
    },
    {
      "cell_type": "code",
      "metadata": {
        "colab": {
          "base_uri": "https://localhost:8080/"
        },
        "id": "TI_96eLsZYOC",
        "outputId": "0cce3f0a-f174-4e8c-f30c-ca46255c26a3"
      },
      "source": [
        "## We try to calculate the Outlier values along with upper_bound and lower_bound\n",
        "\n",
        "def outlier_Calculation(data):\n",
        "  IQR = data.quantile(0.75)-data.quantile(0.25)\n",
        "  print(\"The interquantile range is: \\n-------\")\n",
        "  print(IQR)\n",
        "  lower_limit = data.quantile(0.25)-(IQR*1.5)\n",
        "  upper_limit = data.quantile(0.75)+(IQR*1.5)\n",
        "  print(\"The lower limit is: \\n----------\")\n",
        "  print(lower_limit)\n",
        "  print(\"The upper limit is: \\n-------\")\n",
        "  print(upper_limit)\n",
        "\n",
        "\n",
        "outlier_Calculation(X[[\"CompetitionOpenSinceYear\",\"CompetitionDistance\"]])\n",
        "for _ in range(5):\n",
        "  print(\"%\"*100)\n",
        "outlier_Calculation(new_test[[\"CompetitionOpenSinceYear\",\"CompetitionDistance\"]])\n"
      ],
      "execution_count": null,
      "outputs": [
        {
          "output_type": "stream",
          "text": [
            "The interquantile range is: \n",
            "-------\n",
            "CompetitionOpenSinceYear       3.0\n",
            "CompetitionDistance         6170.0\n",
            "dtype: float64\n",
            "The lower limit is: \n",
            "----------\n",
            "CompetitionOpenSinceYear    2003.5\n",
            "CompetitionDistance        -8545.0\n",
            "dtype: float64\n",
            "The upper limit is: \n",
            "-------\n",
            "CompetitionOpenSinceYear     2015.5\n",
            "CompetitionDistance         16135.0\n",
            "dtype: float64\n",
            "%%%%%%%%%%%%%%%%%%%%%%%%%%%%%%%%%%%%%%%%%%%%%%%%%%%%%%%%%%%%%%%%%%%%%%%%%%%%%%%%%%%%%%%%%%%%%%%%%%%%\n",
            "%%%%%%%%%%%%%%%%%%%%%%%%%%%%%%%%%%%%%%%%%%%%%%%%%%%%%%%%%%%%%%%%%%%%%%%%%%%%%%%%%%%%%%%%%%%%%%%%%%%%\n",
            "%%%%%%%%%%%%%%%%%%%%%%%%%%%%%%%%%%%%%%%%%%%%%%%%%%%%%%%%%%%%%%%%%%%%%%%%%%%%%%%%%%%%%%%%%%%%%%%%%%%%\n",
            "%%%%%%%%%%%%%%%%%%%%%%%%%%%%%%%%%%%%%%%%%%%%%%%%%%%%%%%%%%%%%%%%%%%%%%%%%%%%%%%%%%%%%%%%%%%%%%%%%%%%\n",
            "%%%%%%%%%%%%%%%%%%%%%%%%%%%%%%%%%%%%%%%%%%%%%%%%%%%%%%%%%%%%%%%%%%%%%%%%%%%%%%%%%%%%%%%%%%%%%%%%%%%%\n",
            "The interquantile range is: \n",
            "-------\n",
            "CompetitionOpenSinceYear       3.0\n",
            "CompetitionDistance         6160.0\n",
            "dtype: float64\n",
            "The lower limit is: \n",
            "----------\n",
            "CompetitionOpenSinceYear    2003.5\n",
            "CompetitionDistance        -8520.0\n",
            "dtype: float64\n",
            "The upper limit is: \n",
            "-------\n",
            "CompetitionOpenSinceYear     2015.5\n",
            "CompetitionDistance         16120.0\n",
            "dtype: float64\n"
          ],
          "name": "stdout"
        }
      ]
    },
    {
      "cell_type": "code",
      "metadata": {
        "id": "-Cx1Sf7AuGcq"
      },
      "source": [
        "## Outlier Fixing\n",
        "\n",
        "X.loc[X.CompetitionDistance>16135.0,\"CompetitionDistance\"]=16135.0\n",
        "X.loc[X.CompetitionOpenSinceYear<2003,\"CompetitionOpenSinceYear\"]=2013\n",
        "\n",
        "new_test.loc[new_test.CompetitionDistance>16120.0,\"CompetitionDistance\"]=16120.0\n",
        "new_test.loc[new_test.CompetitionOpenSinceYear<2003,\"CompetitionOpenSinceYear\"]=2013\n",
        "\n",
        "\n"
      ],
      "execution_count": null,
      "outputs": []
    },
    {
      "cell_type": "code",
      "metadata": {
        "colab": {
          "base_uri": "https://localhost:8080/",
          "height": 513
        },
        "id": "Yo5n1T05-C3v",
        "outputId": "bbd4f864-40b4-422e-ee02-1d39cd0fadd2"
      },
      "source": [
        "X[[\"CompetitionDistance\",\"CompetitionOpenSinceYear\"]].boxplot()\n",
        "plt.show()\n",
        "new_test[[\"CompetitionDistance\",\"CompetitionOpenSinceYear\"]].boxplot()\n",
        "plt.show()"
      ],
      "execution_count": null,
      "outputs": [
        {
          "output_type": "display_data",
          "data": {
            "image/png": "[encoded data removed]",
            "text/plain": [
              "<Figure size 432x288 with 1 Axes>"
            ]
          },
          "metadata": {
            "tags": []
          }
        },
        {
          "output_type": "display_data",
          "data": {
            "image/png": "[encoded data removed]",
            "text/plain": [
              "<Figure size 432x288 with 1 Axes>"
            ]
          },
          "metadata": {
            "tags": []
          }
        }
      ]
    },
    {
      "cell_type": "code",
      "metadata": {
        "id": "jMmrMzzX9Oi7"
      },
      "source": [
        "## We try to scale the data as there are diiferent range of values\n",
        "def Standard_Scaling(data):\n",
        "  from sklearn.preprocessing import StandardScaler\n",
        "  scaler = StandardScaler()\n",
        "  feature_scale = [feature for feature in data.columns]\n",
        "  data = pd.DataFrame(scaler.fit_transform(data[feature_scale]),columns = feature_scale)\n",
        "  return data"
      ],
      "execution_count": null,
      "outputs": []
    },
    {
      "cell_type": "code",
      "metadata": {
        "colab": {
          "base_uri": "https://localhost:8080/",
          "height": 287
        },
        "id": "i8L_ZapJ904M",
        "outputId": "d3bdbccb-78fd-42c6-e941-8dfb6474361b"
      },
      "source": [
        "X = Standard_Scaling(X)\n",
        "new_test = Standard_Scaling(new_test)\n",
        "display(X.head(3),new_test.head(3))"
      ],
      "execution_count": null,
      "outputs": [
        {
          "output_type": "display_data",
          "data": {
            "text/html": [
              "<div>\n",
              "<style scoped>\n",
              "    .dataframe tbody tr th:only-of-type {\n",
              "        vertical-align: middle;\n",
              "    }\n",
              "\n",
              "    .dataframe tbody tr th {\n",
              "        vertical-align: top;\n",
              "    }\n",
              "\n",
              "    .dataframe thead th {\n",
              "        text-align: right;\n",
              "    }\n",
              "</style>\n",
              "<table border=\"1\" class=\"dataframe\">\n",
              "  <thead>\n",
              "    <tr style=\"text-align: right;\">\n",
              "      <th></th>\n",
              "      <th>Store</th>\n",
              "      <th>DayOfWeek</th>\n",
              "      <th>Open</th>\n",
              "      <th>Promo</th>\n",
              "      <th>SchoolHoliday</th>\n",
              "      <th>CompetitionDistance</th>\n",
              "      <th>CompetitionOpenSinceMonth</th>\n",
              "      <th>CompetitionOpenSinceYear</th>\n",
              "      <th>Promo2</th>\n",
              "      <th>Assortment_b</th>\n",
              "      <th>Assortment_c</th>\n",
              "      <th>StoreType_b</th>\n",
              "      <th>StoreType_c</th>\n",
              "      <th>StoreType_d</th>\n",
              "      <th>StateHoliday_a</th>\n",
              "      <th>StateHoliday_b</th>\n",
              "      <th>StateHoliday_c</th>\n",
              "      <th>Year</th>\n",
              "      <th>Month</th>\n",
              "      <th>Day</th>\n",
              "      <th>WeekOfYear</th>\n",
              "    </tr>\n",
              "  </thead>\n",
              "  <tbody>\n",
              "    <tr>\n",
              "      <th>0</th>\n",
              "      <td>-1.73133</td>\n",
              "      <td>0.501041</td>\n",
              "      <td>0.454854</td>\n",
              "      <td>1.275707</td>\n",
              "      <td>2.192785</td>\n",
              "      <td>-0.652059</td>\n",
              "      <td>0.571601</td>\n",
              "      <td>-0.755938</td>\n",
              "      <td>-0.991275</td>\n",
              "      <td>-0.090858</td>\n",
              "      <td>-0.932173</td>\n",
              "      <td>-0.126283</td>\n",
              "      <td>2.52831</td>\n",
              "      <td>-0.663554</td>\n",
              "      <td>-0.144411</td>\n",
              "      <td>-0.079392</td>\n",
              "      <td>-0.076101</td>\n",
              "      <td>1.223702</td>\n",
              "      <td>0.227032</td>\n",
              "      <td>1.738653</td>\n",
              "      <td>0.385366</td>\n",
              "    </tr>\n",
              "    <tr>\n",
              "      <th>1</th>\n",
              "      <td>-1.73133</td>\n",
              "      <td>0.000107</td>\n",
              "      <td>0.454854</td>\n",
              "      <td>1.275707</td>\n",
              "      <td>2.192785</td>\n",
              "      <td>-0.652059</td>\n",
              "      <td>0.571601</td>\n",
              "      <td>-0.755938</td>\n",
              "      <td>-0.991275</td>\n",
              "      <td>-0.090858</td>\n",
              "      <td>-0.932173</td>\n",
              "      <td>-0.126283</td>\n",
              "      <td>2.52831</td>\n",
              "      <td>-0.663554</td>\n",
              "      <td>-0.144411</td>\n",
              "      <td>-0.079392</td>\n",
              "      <td>-0.076101</td>\n",
              "      <td>1.223702</td>\n",
              "      <td>0.227032</td>\n",
              "      <td>1.624808</td>\n",
              "      <td>0.385366</td>\n",
              "    </tr>\n",
              "    <tr>\n",
              "      <th>2</th>\n",
              "      <td>-1.73133</td>\n",
              "      <td>-0.500827</td>\n",
              "      <td>0.454854</td>\n",
              "      <td>1.275707</td>\n",
              "      <td>2.192785</td>\n",
              "      <td>-0.652059</td>\n",
              "      <td>0.571601</td>\n",
              "      <td>-0.755938</td>\n",
              "      <td>-0.991275</td>\n",
              "      <td>-0.090858</td>\n",
              "      <td>-0.932173</td>\n",
              "      <td>-0.126283</td>\n",
              "      <td>2.52831</td>\n",
              "      <td>-0.663554</td>\n",
              "      <td>-0.144411</td>\n",
              "      <td>-0.079392</td>\n",
              "      <td>-0.076101</td>\n",
              "      <td>1.223702</td>\n",
              "      <td>0.227032</td>\n",
              "      <td>1.510964</td>\n",
              "      <td>0.385366</td>\n",
              "    </tr>\n",
              "  </tbody>\n",
              "</table>\n",
              "</div>"
            ],
            "text/plain": [
              "     Store  DayOfWeek      Open  ...     Month       Day  WeekOfYear\n",
              "0 -1.73133   0.501041  0.454854  ...  0.227032  1.738653    0.385366\n",
              "1 -1.73133   0.000107  0.454854  ...  0.227032  1.624808    0.385366\n",
              "2 -1.73133  -0.500827  0.454854  ...  0.227032  1.510964    0.385366\n",
              "\n",
              "[3 rows x 21 columns]"
            ]
          },
          "metadata": {
            "tags": []
          }
        },
        {
          "output_type": "display_data",
          "data": {
            "text/html": [
              "<div>\n",
              "<style scoped>\n",
              "    .dataframe tbody tr th:only-of-type {\n",
              "        vertical-align: middle;\n",
              "    }\n",
              "\n",
              "    .dataframe tbody tr th {\n",
              "        vertical-align: top;\n",
              "    }\n",
              "\n",
              "    .dataframe thead th {\n",
              "        text-align: right;\n",
              "    }\n",
              "</style>\n",
              "<table border=\"1\" class=\"dataframe\">\n",
              "  <thead>\n",
              "    <tr style=\"text-align: right;\">\n",
              "      <th></th>\n",
              "      <th>Store</th>\n",
              "      <th>DayOfWeek</th>\n",
              "      <th>Open</th>\n",
              "      <th>Promo</th>\n",
              "      <th>SchoolHoliday</th>\n",
              "      <th>CompetitionDistance</th>\n",
              "      <th>CompetitionOpenSinceMonth</th>\n",
              "      <th>CompetitionOpenSinceYear</th>\n",
              "      <th>Promo2</th>\n",
              "      <th>Assortment_b</th>\n",
              "      <th>Assortment_c</th>\n",
              "      <th>StoreType_b</th>\n",
              "      <th>StoreType_c</th>\n",
              "      <th>StoreType_d</th>\n",
              "      <th>StateHoliday_a</th>\n",
              "      <th>StateHoliday_b</th>\n",
              "      <th>Year</th>\n",
              "      <th>Month</th>\n",
              "      <th>Day</th>\n",
              "      <th>WeekOfYear</th>\n",
              "    </tr>\n",
              "  </thead>\n",
              "  <tbody>\n",
              "    <tr>\n",
              "      <th>0</th>\n",
              "      <td>0.648169</td>\n",
              "      <td>-1.497488</td>\n",
              "      <td>-2.238881</td>\n",
              "      <td>-0.788954</td>\n",
              "      <td>2.039824</td>\n",
              "      <td>1.628319</td>\n",
              "      <td>0.19771</td>\n",
              "      <td>-0.028105</td>\n",
              "      <td>-1.024507</td>\n",
              "      <td>-0.090223</td>\n",
              "      <td>1.083208</td>\n",
              "      <td>-0.124433</td>\n",
              "      <td>-0.391284</td>\n",
              "      <td>-0.673555</td>\n",
              "      <td>-0.138137</td>\n",
              "      <td>11.655230</td>\n",
              "      <td>0.0</td>\n",
              "      <td>-0.398454</td>\n",
              "      <td>-1.664883</td>\n",
              "      <td>-0.548544</td>\n",
              "    </tr>\n",
              "    <tr>\n",
              "      <th>1</th>\n",
              "      <td>0.648169</td>\n",
              "      <td>-0.497485</td>\n",
              "      <td>0.446652</td>\n",
              "      <td>-0.788954</td>\n",
              "      <td>-0.490238</td>\n",
              "      <td>1.628319</td>\n",
              "      <td>0.19771</td>\n",
              "      <td>-0.028105</td>\n",
              "      <td>-1.024507</td>\n",
              "      <td>-0.090223</td>\n",
              "      <td>1.083208</td>\n",
              "      <td>-0.124433</td>\n",
              "      <td>-0.391284</td>\n",
              "      <td>-0.673555</td>\n",
              "      <td>-0.138137</td>\n",
              "      <td>-0.085798</td>\n",
              "      <td>0.0</td>\n",
              "      <td>1.147618</td>\n",
              "      <td>-0.982758</td>\n",
              "      <td>1.045813</td>\n",
              "    </tr>\n",
              "    <tr>\n",
              "      <th>2</th>\n",
              "      <td>0.648169</td>\n",
              "      <td>1.502521</td>\n",
              "      <td>-2.238881</td>\n",
              "      <td>-0.788954</td>\n",
              "      <td>-0.490238</td>\n",
              "      <td>1.628319</td>\n",
              "      <td>0.19771</td>\n",
              "      <td>-0.028105</td>\n",
              "      <td>-1.024507</td>\n",
              "      <td>-0.090223</td>\n",
              "      <td>1.083208</td>\n",
              "      <td>-0.124433</td>\n",
              "      <td>-0.391284</td>\n",
              "      <td>-0.673555</td>\n",
              "      <td>-0.138137</td>\n",
              "      <td>-0.085798</td>\n",
              "      <td>0.0</td>\n",
              "      <td>-0.398454</td>\n",
              "      <td>-0.982758</td>\n",
              "      <td>-0.548544</td>\n",
              "    </tr>\n",
              "  </tbody>\n",
              "</table>\n",
              "</div>"
            ],
            "text/plain": [
              "      Store  DayOfWeek      Open  ...     Month       Day  WeekOfYear\n",
              "0  0.648169  -1.497488 -2.238881  ... -0.398454 -1.664883   -0.548544\n",
              "1  0.648169  -0.497485  0.446652  ...  1.147618 -0.982758    1.045813\n",
              "2  0.648169   1.502521 -2.238881  ... -0.398454 -0.982758   -0.548544\n",
              "\n",
              "[3 rows x 20 columns]"
            ]
          },
          "metadata": {
            "tags": []
          }
        }
      ]
    },
    {
      "cell_type": "code",
      "metadata": {
        "id": "Zok0A-MpD0Tm"
      },
      "source": [
        "## As this Stateholiday is not present in test dataset we drop it \n",
        "\n",
        "X.drop(\"StateHoliday_c\",axis=1,inplace = True) "
      ],
      "execution_count": null,
      "outputs": []
    },
    {
      "cell_type": "markdown",
      "metadata": {
        "id": "8DA-x6TWjBuG"
      },
      "source": [
        "# **Model Creation**"
      ]
    },
    {
      "cell_type": "code",
      "metadata": {
        "id": "pN1lraib0j4o"
      },
      "source": [
        "from sklearn.model_selection import train_test_split,RandomizedSearchCV\n",
        "from sklearn.linear_model import LinearRegression\n",
        "from sklearn.ensemble import RandomForestRegressor,RandomForestClassifier\n",
        "from xgboost import XGBRegressor\n",
        "from sklearn.tree import ExtraTreeRegressor\n",
        "from sklearn.metrics import mean_squared_error,r2_score"
      ],
      "execution_count": null,
      "outputs": []
    },
    {
      "cell_type": "code",
      "metadata": {
        "id": "W_nNuPlp0j1Q"
      },
      "source": [
        "X_train,X_test,y_train,y_test = train_test_split(X,y,random_state=42,test_size=0.2)"
      ],
      "execution_count": null,
      "outputs": []
    },
    {
      "cell_type": "code",
      "metadata": {
        "id": "-p-SbKmCNe0-"
      },
      "source": [
        ""
      ],
      "execution_count": null,
      "outputs": []
    },
    {
      "cell_type": "code",
      "metadata": {
        "colab": {
          "background_save": true
        },
        "id": "7sMgVLRGN0iN"
      },
      "source": [
        "from sklearn.ensemble import RandomForestRegressor\n",
        "reg_rf = RandomForestRegressor(random_state=42)\n",
        "reg_rf.fit(X_train, y_train)\n",
        "pred = reg_rf.predict(X_test)\n"
      ],
      "execution_count": null,
      "outputs": []
    },
    {
      "cell_type": "code",
      "metadata": {
        "colab": {
          "background_save": true
        },
        "id": "6pz1x7f9TM5s",
        "outputId": "4eaa0b59-2213-4b23-c8bb-3d197943a420"
      },
      "source": [
        "print('Root mean squared error for RandomForestRegression is {} and the R2 value of the model is {}'.format(np.sqrt(mean_squared_error(y_test,pred)),r2_score(pred,y_test)))"
      ],
      "execution_count": null,
      "outputs": [
        {
          "output_type": "stream",
          "text": [
            "Root mean squared error for RandomForestRegression is 906.4294884446854 and the R2 value of the model is 0.9430461171070124\n"
          ],
          "name": "stdout"
        }
      ]
    },
    {
      "cell_type": "code",
      "metadata": {
        "id": "YM7vn-37LAaA"
      },
      "source": [
        "models = [[\"RandomForestRegressor:\",RandomForestRegressor()],\n",
        "          [\"XgBoost Regressor:\",XGBRegressor()],\n",
        "          [\"Extra Tree Regressor:\", ExtraTreeRegressor()],\n",
        "         ]"
      ],
      "execution_count": null,
      "outputs": []
    },
    {
      "cell_type": "code",
      "metadata": {
        "colab": {
          "background_save": true,
          "base_uri": "https://localhost:8080/",
          "height": 922
        },
        "id": "pUGEtaURLAYO",
        "outputId": "bc77a445-e6ab-4de5-e506-4bf027190cba"
      },
      "source": [
        "for model_name,model_type in models:\n",
        "  model = model_type\n",
        "  model.fit(X_train,y_train)\n",
        "  pred=model.predict(X_test)\n",
        "\n",
        "  print(model_name,np.sqrt(mean_squared_error(pred,y_test)))\n",
        "  plt.scatter(y_test, pred, alpha = 0.5)\n",
        "  plt.title(model_name.upper())\n",
        "  plt.xlabel(\"y_test\")\n",
        "  plt.ylabel(\"y_pred\")\n",
        "  plt.show()"
      ],
      "execution_count": null,
      "outputs": [
        {
          "output_type": "stream",
          "text": [
            "RandomForestRegressor:  : The Root mean Square root value is 907.9599737711794 and R2 value is0.9428505545789657\n"
          ],
          "name": "stdout"
        },
        {
          "output_type": "display_data",
          "data": {
            "image/png": "[encoded data removed]",
            "text/plain": [
              "<Figure size 432x288 with 1 Axes>"
            ]
          },
          "metadata": {
            "tags": []
          }
        },
        {
          "output_type": "stream",
          "text": [
            "[13:46:00] WARNING: /workspace/src/objective/regression_obj.cu:152: reg:linear is now deprecated in favor of reg:squarederror.\n",
            "XgBoost Regressor:  : The Root mean Square root value is 2264.2149358838774 and R2 value is0.44140934678078647\n"
          ],
          "name": "stdout"
        },
        {
          "output_type": "display_data",
          "data": {
            "image/png": "[encoded data removed]",
            "text/plain": [
              "<Figure size 432x288 with 1 Axes>"
            ]
          },
          "metadata": {
            "tags": []
          }
        },
        {
          "output_type": "stream",
          "text": [
            "Extra Tree Regressor:  : The Root mean Square root value is 1501.054220481373 and R2 value is0.8539903007134952\n"
          ],
          "name": "stdout"
        },
        {
          "output_type": "display_data",
          "data": {
            "image/png": "[encoded data removed]",
            "text/plain": [
              "<Figure size 432x288 with 1 Axes>"
            ]
          },
          "metadata": {
            "tags": []
          }
        }
      ]
    },
    {
      "cell_type": "markdown",
      "metadata": {
        "id": "4zd_04oqiN5M"
      },
      "source": [
        "Hyperparameter Tuning"
      ]
    },
    {
      "cell_type": "code",
      "metadata": {
        "colab": {
          "background_save": true,
          "base_uri": "https://localhost:8080/"
        },
        "id": "NXklJQu2LAWK",
        "outputId": "d69c487f-addb-4071-df84-4e40d11f051d"
      },
      "source": [
        "# Number of trees in random forest\n",
        "n_estimators = [20,50,90,100,125,150,200]\n",
        "# Number of features to consider at every split\n",
        "max_features = ['auto', 'sqrt']\n",
        "# Maximum number of levels in tree\n",
        "max_depth = [2,5,9,15,25,35,40]\n",
        "# Minimum number of samples required to split a node\n",
        "min_samples_split = [5, 10]\n",
        "\n",
        "# Create the random grid\n",
        "random_grid = {'n_estimators': n_estimators,\n",
        "               'max_features': max_features,\n",
        "               'max_depth': max_depth,\n",
        "               'min_samples_split': min_samples_split}\n",
        "\n",
        "\n",
        "\n",
        "rf_random = RandomizedSearchCV(estimator = reg_rf, param_distributions = random_grid, n_iter = 5, cv = 5, verbose=2, random_state=42, n_jobs = -1, scoring='neg_mean_squared_error')\n",
        "# Fit the random search model\n",
        "rf_random.fit(X_train, y_train)"
      ],
      "execution_count": null,
      "outputs": [
        {
          "output_type": "stream",
          "text": [
            "Fitting 5 folds for each of 5 candidates, totalling 25 fits\n"
          ],
          "name": "stdout"
        },
        {
          "output_type": "stream",
          "text": [
            "[Parallel(n_jobs=-1)]: Using backend LokyBackend with 2 concurrent workers.\n",
            "[Parallel(n_jobs=-1)]: Done  25 out of  25 | elapsed: 25.9min finished\n"
          ],
          "name": "stderr"
        },
        {
          "output_type": "execute_result",
          "data": {
            "text/plain": [
              "RandomizedSearchCV(cv=5, error_score=nan,\n",
              "                   estimator=RandomForestRegressor(bootstrap=True,\n",
              "                                                   ccp_alpha=0.0,\n",
              "                                                   criterion='mse',\n",
              "                                                   max_depth=None,\n",
              "                                                   max_features='auto',\n",
              "                                                   max_leaf_nodes=None,\n",
              "                                                   max_samples=None,\n",
              "                                                   min_impurity_decrease=0.0,\n",
              "                                                   min_impurity_split=None,\n",
              "                                                   min_samples_leaf=1,\n",
              "                                                   min_samples_split=2,\n",
              "                                                   min_weight_fraction_leaf=0.0,\n",
              "                                                   n_estimators=100,\n",
              "                                                   n_jobs=None, oob_score=False,\n",
              "                                                   random_state=42, verbose=0,\n",
              "                                                   warm_start=False),\n",
              "                   iid='deprecated', n_iter=5, n_jobs=-1,\n",
              "                   param_distributions={'max_depth': [2, 5, 9, 15, 25, 35, 40],\n",
              "                                        'max_features': ['auto', 'sqrt'],\n",
              "                                        'min_samples_split': [5, 10],\n",
              "                                        'n_estimators': [20, 50, 90, 100, 125,\n",
              "                                                         150, 200]},\n",
              "                   pre_dispatch='2*n_jobs', random_state=42, refit=True,\n",
              "                   return_train_score=False, scoring='neg_mean_squared_error',\n",
              "                   verbose=2)"
            ]
          },
          "metadata": {
            "tags": []
          },
          "execution_count": 0
        }
      ]
    },
    {
      "cell_type": "code",
      "metadata": {
        "colab": {
          "base_uri": "https://localhost:8080/"
        },
        "id": "1gRjSAseLAT6",
        "outputId": "a7cedf42-a3e8-4f51-b3c8-56bb2f12e84f"
      },
      "source": [
        "rf_random.best_estimator_"
      ],
      "execution_count": null,
      "outputs": [
        {
          "output_type": "execute_result",
          "data": {
            "text/plain": [
              "RandomForestRegressor(bootstrap=True, ccp_alpha=0.0, criterion='mse',\n",
              "                      max_depth=25, max_features='auto', max_leaf_nodes=None,\n",
              "                      max_samples=None, min_impurity_decrease=0.0,\n",
              "                      min_impurity_split=None, min_samples_leaf=1,\n",
              "                      min_samples_split=5, min_weight_fraction_leaf=0.0,\n",
              "                      n_estimators=50, n_jobs=None, oob_score=False,\n",
              "                      random_state=None, verbose=0, warm_start=False)"
            ]
          },
          "metadata": {
            "tags": []
          },
          "execution_count": 54
        }
      ]
    },
    {
      "cell_type": "code",
      "metadata": {
        "id": "ixc42TeULAOn"
      },
      "source": [
        "reg_rf = RandomForestRegressor(bootstrap=True, ccp_alpha=0.0, criterion='mse',\n",
        "                      max_depth=25, max_features='auto', max_leaf_nodes=None,\n",
        "                      max_samples=None, min_impurity_decrease=0.0,\n",
        "                      min_impurity_split=None, min_samples_leaf=1,\n",
        "                      min_samples_split=5, min_weight_fraction_leaf=0.0,\n",
        "                      n_estimators=50, n_jobs=None, oob_score=False,\n",
        "                      random_state=None, verbose=0, warm_start=False)\n",
        "reg_rf.fit(X_train, y_train)\n",
        "pred = reg_rf.predict(X_test)\n"
      ],
      "execution_count": null,
      "outputs": []
    },
    {
      "cell_type": "code",
      "metadata": {
        "colab": {
          "base_uri": "https://localhost:8080/"
        },
        "id": "1k9OnfAmoTV0",
        "outputId": "bcb24b65-5020-41e2-ff8d-71de04862afc"
      },
      "source": [
        "print('Root mean squared error for RandomForestRegression is {} and the R2 value of the model is {}'.format(np.sqrt(mean_squared_error(y_test,pred)),r2_score(pred,y_test)))"
      ],
      "execution_count": null,
      "outputs": [
        {
          "output_type": "stream",
          "text": [
            "Root mean squared error for RandomForestRegression is 1144.5253654116593 and the R2 value of the model is 0.9051050471652038\n"
          ],
          "name": "stdout"
        }
      ]
    },
    {
      "cell_type": "markdown",
      "metadata": {
        "id": "iMvNs1bDrUPH"
      },
      "source": [
        "As the tuning didn't bring significant change hence we'd go with our earlier model"
      ]
    },
    {
      "cell_type": "code",
      "metadata": {
        "colab": {
          "background_save": true
        },
        "id": "iAYQtQECoTPH"
      },
      "source": [
        "prediction = reg_rf.predict(new_test)"
      ],
      "execution_count": null,
      "outputs": []
    },
    {
      "cell_type": "code",
      "metadata": {
        "id": "8ED_tVr3oTKt"
      },
      "source": [
        "prediction = pd.DataFrame(prediction,columns=[\"Sales\"])"
      ],
      "execution_count": null,
      "outputs": []
    },
    {
      "cell_type": "code",
      "metadata": {
        "colab": {
          "base_uri": "https://localhost:8080/",
          "height": 235
        },
        "id": "LGO-JKdsK_-q",
        "outputId": "3932633c-6a33-4fee-c98b-265979df8027"
      },
      "source": [
        "prediction.index.names=[\"Index\"]\n",
        "prediction.head()"
      ],
      "execution_count": null,
      "outputs": [
        {
          "output_type": "execute_result",
          "data": {
            "text/html": [
              "<div>\n",
              "<style scoped>\n",
              "    .dataframe tbody tr th:only-of-type {\n",
              "        vertical-align: middle;\n",
              "    }\n",
              "\n",
              "    .dataframe tbody tr th {\n",
              "        vertical-align: top;\n",
              "    }\n",
              "\n",
              "    .dataframe thead th {\n",
              "        text-align: right;\n",
              "    }\n",
              "</style>\n",
              "<table border=\"1\" class=\"dataframe\">\n",
              "  <thead>\n",
              "    <tr style=\"text-align: right;\">\n",
              "      <th></th>\n",
              "      <th>Sales</th>\n",
              "    </tr>\n",
              "    <tr>\n",
              "      <th>Index</th>\n",
              "      <th></th>\n",
              "    </tr>\n",
              "  </thead>\n",
              "  <tbody>\n",
              "    <tr>\n",
              "      <th>0</th>\n",
              "      <td>0.000000</td>\n",
              "    </tr>\n",
              "    <tr>\n",
              "      <th>1</th>\n",
              "      <td>5631.425833</td>\n",
              "    </tr>\n",
              "    <tr>\n",
              "      <th>2</th>\n",
              "      <td>0.000000</td>\n",
              "    </tr>\n",
              "    <tr>\n",
              "      <th>3</th>\n",
              "      <td>4276.873417</td>\n",
              "    </tr>\n",
              "    <tr>\n",
              "      <th>4</th>\n",
              "      <td>0.000000</td>\n",
              "    </tr>\n",
              "  </tbody>\n",
              "</table>\n",
              "</div>"
            ],
            "text/plain": [
              "             Sales\n",
              "Index             \n",
              "0         0.000000\n",
              "1      5631.425833\n",
              "2         0.000000\n",
              "3      4276.873417\n",
              "4         0.000000"
            ]
          },
          "metadata": {
            "tags": []
          },
          "execution_count": 79
        }
      ]
    },
    {
      "cell_type": "code",
      "metadata": {
        "id": "vnvzMqoi0jlJ"
      },
      "source": [
        "prediction.to_csv(\"pred_file.csv\")"
      ],
      "execution_count": null,
      "outputs": []
    },
    {
      "cell_type": "code",
      "metadata": {
        "id": "hjkT_cfl0jX2"
      },
      "source": [
        ""
      ],
      "execution_count": null,
      "outputs": []
    }
  ]
}