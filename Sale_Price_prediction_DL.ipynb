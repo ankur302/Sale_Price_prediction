{
  "nbformat": 4,
  "nbformat_minor": 0,
  "metadata": {
    "colab": {
      "name": "Sale_Price_prediction_DL",
      "provenance": []
    },
    "kernelspec": {
      "name": "python3",
      "display_name": "Python 3"
    },
    "language_info": {
      "name": "python"
    },
    "accelerator": "TPU"
  },
  "cells": [
    {
      "cell_type": "code",
      "metadata": {
        "colab": {
          "base_uri": "https://localhost:8080/"
        },
        "id": "Iqzk1-QE2EwB",
        "outputId": "0cb23109-62f2-4731-ca3c-3479c522c682"
      },
      "source": [
        "import pandas as pd\n",
        "import numpy as np\n",
        "import matplotlib.pyplot as plt\n",
        "import seaborn as sns\n",
        "\n",
        "train = pd.read_csv(\"/content/drive/MyDrive/My_Data/Sale_price_prediction/dataset/TRAIN.csv\")\n",
        "test = pd.read_csv(\"/content/drive/MyDrive/My_Data/Sale_price_prediction/dataset/TEST.csv\")\n",
        "\n",
        "train.StateHoliday = np.where(train.StateHoliday==0,\"0\",train.StateHoliday.astype(str))\n",
        "test.StateHoliday = np.where(test.StateHoliday==0,\"0\",test.StateHoliday.astype(str))"
      ],
      "execution_count": null,
      "outputs": [
        {
          "output_type": "stream",
          "text": [
            "/usr/local/lib/python3.7/dist-packages/IPython/core/interactiveshell.py:2718: DtypeWarning: Columns (7) have mixed types.Specify dtype option on import or set low_memory=False.\n",
            "  interactivity=interactivity, compiler=compiler, result=result)\n"
          ],
          "name": "stderr"
        }
      ]
    },
    {
      "cell_type": "code",
      "metadata": {
        "colab": {
          "base_uri": "https://localhost:8080/",
          "height": 142
        },
        "id": "gNHDtMffA4DL",
        "outputId": "2da4a902-2a02-49bf-cf41-85fa53f378bb"
      },
      "source": [
        "train.head(3)"
      ],
      "execution_count": null,
      "outputs": [
        {
          "output_type": "execute_result",
          "data": {
            "text/html": [
              "<div>\n",
              "<style scoped>\n",
              "    .dataframe tbody tr th:only-of-type {\n",
              "        vertical-align: middle;\n",
              "    }\n",
              "\n",
              "    .dataframe tbody tr th {\n",
              "        vertical-align: top;\n",
              "    }\n",
              "\n",
              "    .dataframe thead th {\n",
              "        text-align: right;\n",
              "    }\n",
              "</style>\n",
              "<table border=\"1\" class=\"dataframe\">\n",
              "  <thead>\n",
              "    <tr style=\"text-align: right;\">\n",
              "      <th></th>\n",
              "      <th>Store</th>\n",
              "      <th>DayOfWeek</th>\n",
              "      <th>Date</th>\n",
              "      <th>Sales</th>\n",
              "      <th>Customers</th>\n",
              "      <th>Open</th>\n",
              "      <th>Promo</th>\n",
              "      <th>StateHoliday</th>\n",
              "      <th>SchoolHoliday</th>\n",
              "    </tr>\n",
              "  </thead>\n",
              "  <tbody>\n",
              "    <tr>\n",
              "      <th>0</th>\n",
              "      <td>1</td>\n",
              "      <td>5</td>\n",
              "      <td>2015-07-31</td>\n",
              "      <td>5263</td>\n",
              "      <td>555</td>\n",
              "      <td>1</td>\n",
              "      <td>1</td>\n",
              "      <td>0</td>\n",
              "      <td>1</td>\n",
              "    </tr>\n",
              "    <tr>\n",
              "      <th>1</th>\n",
              "      <td>2</td>\n",
              "      <td>5</td>\n",
              "      <td>2015-07-31</td>\n",
              "      <td>6064</td>\n",
              "      <td>625</td>\n",
              "      <td>1</td>\n",
              "      <td>1</td>\n",
              "      <td>0</td>\n",
              "      <td>1</td>\n",
              "    </tr>\n",
              "    <tr>\n",
              "      <th>2</th>\n",
              "      <td>3</td>\n",
              "      <td>5</td>\n",
              "      <td>2015-07-31</td>\n",
              "      <td>8314</td>\n",
              "      <td>821</td>\n",
              "      <td>1</td>\n",
              "      <td>1</td>\n",
              "      <td>0</td>\n",
              "      <td>1</td>\n",
              "    </tr>\n",
              "  </tbody>\n",
              "</table>\n",
              "</div>"
            ],
            "text/plain": [
              "   Store  DayOfWeek        Date  Sales  ...  Open  Promo  StateHoliday SchoolHoliday\n",
              "0      1          5  2015-07-31   5263  ...     1      1             0             1\n",
              "1      2          5  2015-07-31   6064  ...     1      1             0             1\n",
              "2      3          5  2015-07-31   8314  ...     1      1             0             1\n",
              "\n",
              "[3 rows x 9 columns]"
            ]
          },
          "metadata": {
            "tags": []
          },
          "execution_count": 39
        }
      ]
    },
    {
      "cell_type": "code",
      "metadata": {
        "colab": {
          "base_uri": "https://localhost:8080/",
          "height": 142
        },
        "id": "f0UYwr02BARA",
        "outputId": "8a10c8eb-3b67-4a5f-d205-6f2693ff06d8"
      },
      "source": [
        "test.head(3)"
      ],
      "execution_count": null,
      "outputs": [
        {
          "output_type": "execute_result",
          "data": {
            "text/html": [
              "<div>\n",
              "<style scoped>\n",
              "    .dataframe tbody tr th:only-of-type {\n",
              "        vertical-align: middle;\n",
              "    }\n",
              "\n",
              "    .dataframe tbody tr th {\n",
              "        vertical-align: top;\n",
              "    }\n",
              "\n",
              "    .dataframe thead th {\n",
              "        text-align: right;\n",
              "    }\n",
              "</style>\n",
              "<table border=\"1\" class=\"dataframe\">\n",
              "  <thead>\n",
              "    <tr style=\"text-align: right;\">\n",
              "      <th></th>\n",
              "      <th>Store</th>\n",
              "      <th>DayOfWeek</th>\n",
              "      <th>Date</th>\n",
              "      <th>Open</th>\n",
              "      <th>Promo</th>\n",
              "      <th>StateHoliday</th>\n",
              "      <th>SchoolHoliday</th>\n",
              "    </tr>\n",
              "  </thead>\n",
              "  <tbody>\n",
              "    <tr>\n",
              "      <th>0</th>\n",
              "      <td>767</td>\n",
              "      <td>1</td>\n",
              "      <td>2013-04-01</td>\n",
              "      <td>0</td>\n",
              "      <td>0</td>\n",
              "      <td>b</td>\n",
              "      <td>1</td>\n",
              "    </tr>\n",
              "    <tr>\n",
              "      <th>1</th>\n",
              "      <td>1111</td>\n",
              "      <td>6</td>\n",
              "      <td>2013-03-16</td>\n",
              "      <td>1</td>\n",
              "      <td>0</td>\n",
              "      <td>0</td>\n",
              "      <td>0</td>\n",
              "    </tr>\n",
              "    <tr>\n",
              "      <th>2</th>\n",
              "      <td>45</td>\n",
              "      <td>4</td>\n",
              "      <td>2013-08-01</td>\n",
              "      <td>1</td>\n",
              "      <td>1</td>\n",
              "      <td>0</td>\n",
              "      <td>1</td>\n",
              "    </tr>\n",
              "  </tbody>\n",
              "</table>\n",
              "</div>"
            ],
            "text/plain": [
              "   Store  DayOfWeek        Date  Open  Promo StateHoliday  SchoolHoliday\n",
              "0    767          1  2013-04-01     0      0            b              1\n",
              "1   1111          6  2013-03-16     1      0            0              0\n",
              "2     45          4  2013-08-01     1      1            0              1"
            ]
          },
          "metadata": {
            "tags": []
          },
          "execution_count": 40
        }
      ]
    },
    {
      "cell_type": "markdown",
      "metadata": {
        "id": "cPEGS7osYrLI"
      },
      "source": [
        "# One Hot Encoding"
      ]
    },
    {
      "cell_type": "code",
      "metadata": {
        "id": "4NgYUO6CLnZ9"
      },
      "source": [
        "holidays1=train['StateHoliday']\n",
        "holidays2=test['StateHoliday']\n",
        "\n",
        "train['StateHoliday_a']=(holidays1=='a')*1.0\n",
        "train['StateHoliday_b']=(holidays1=='b')*1.0\n",
        "train['StateHoliday_c']=(holidays1=='c')*1.0\n",
        "\n",
        "test['StateHoliday_a']=(holidays2=='a')*1.0\n",
        "test['StateHoliday_b']=(holidays2=='b')*1.0\n",
        "test['StateHoliday_c']=(holidays2=='c')*1.0"
      ],
      "execution_count": null,
      "outputs": []
    },
    {
      "cell_type": "code",
      "metadata": {
        "id": "LRsZPg4oDdjm"
      },
      "source": [
        "train.drop(\"Customers\",axis=1,inplace=True)"
      ],
      "execution_count": null,
      "outputs": []
    },
    {
      "cell_type": "code",
      "metadata": {
        "id": "tSOcs6XT_gZv"
      },
      "source": [
        "## We are dropping StateHoliday=='c' as the testdataset doesn't have this parameter\n",
        "train.drop(index = train[train[\"StateHoliday\"]=='c'].index,inplace=True)"
      ],
      "execution_count": null,
      "outputs": []
    },
    {
      "cell_type": "code",
      "metadata": {
        "id": "MtcUNR3u_usm"
      },
      "source": [
        "train = pd.get_dummies(train,columns=[\"StateHoliday\"],drop_first=False)\n",
        "test = pd.get_dummies(test,columns=[\"StateHoliday\"],drop_first=False)"
      ],
      "execution_count": null,
      "outputs": []
    },
    {
      "cell_type": "markdown",
      "metadata": {
        "id": "ho9SPVisYxjl"
      },
      "source": [
        "# Label Encoding"
      ]
    },
    {
      "cell_type": "code",
      "metadata": {
        "id": "SSXW5QQEY1I-"
      },
      "source": [
        "from sklearn.preprocessing import LabelEncoder\n",
        "le = LabelEncoder()\n",
        "\n",
        "def label_encoding(data):\n",
        "  data[[\"StateHoliday\"]] = data[[\"StateHoliday\"]].apply(le.fit_transform)\n",
        "\n",
        "label_encoding(train)\n",
        "label_encoding(test)"
      ],
      "execution_count": null,
      "outputs": []
    },
    {
      "cell_type": "code",
      "metadata": {
        "id": "b8F5sTRRY1GN"
      },
      "source": [
        ""
      ],
      "execution_count": null,
      "outputs": []
    },
    {
      "cell_type": "code",
      "metadata": {
        "id": "yxHqhXWo3NVk"
      },
      "source": [
        "## Handling Date-time feature\n",
        "\n",
        "def date_time(data):\n",
        "  \n",
        "  data[\"Date\"] = pd.to_datetime(data['Date'], errors='coerce')\n",
        "  data[\"Year\"] = data.Date.dt.year\n",
        "  data[\"Month\"] = data.Date.dt.month\n",
        "  data[\"Day\"] = data.Date.dt.day\n",
        "\n",
        "date_time(train)\n",
        "date_time(test)"
      ],
      "execution_count": null,
      "outputs": []
    },
    {
      "cell_type": "code",
      "metadata": {
        "id": "Yt-HFVhQ3Nl-"
      },
      "source": [
        "train.drop(\"Date\",axis=1,inplace=True)\n",
        "test.drop(\"Date\",axis=1,inplace=True)\n",
        "#train.drop(\"StateHoliday\",axis=1,inplace=True)\n",
        "#test.drop(\"StateHoliday\",axis=1,inplace=True)\n"
      ],
      "execution_count": null,
      "outputs": []
    },
    {
      "cell_type": "code",
      "metadata": {
        "colab": {
          "base_uri": "https://localhost:8080/",
          "height": 391
        },
        "id": "JvmcDY5_Ffpw",
        "outputId": "ff118b27-fdac-4c3a-80bf-52a6ed21f35b"
      },
      "source": [
        "display(train.head(),test.head())"
      ],
      "execution_count": null,
      "outputs": [
        {
          "output_type": "display_data",
          "data": {
            "text/html": [
              "<div>\n",
              "<style scoped>\n",
              "    .dataframe tbody tr th:only-of-type {\n",
              "        vertical-align: middle;\n",
              "    }\n",
              "\n",
              "    .dataframe tbody tr th {\n",
              "        vertical-align: top;\n",
              "    }\n",
              "\n",
              "    .dataframe thead th {\n",
              "        text-align: right;\n",
              "    }\n",
              "</style>\n",
              "<table border=\"1\" class=\"dataframe\">\n",
              "  <thead>\n",
              "    <tr style=\"text-align: right;\">\n",
              "      <th></th>\n",
              "      <th>Store</th>\n",
              "      <th>DayOfWeek</th>\n",
              "      <th>Sales</th>\n",
              "      <th>Open</th>\n",
              "      <th>Promo</th>\n",
              "      <th>SchoolHoliday</th>\n",
              "      <th>StateHoliday_0</th>\n",
              "      <th>StateHoliday_a</th>\n",
              "      <th>StateHoliday_b</th>\n",
              "      <th>Year</th>\n",
              "      <th>Month</th>\n",
              "      <th>Day</th>\n",
              "    </tr>\n",
              "  </thead>\n",
              "  <tbody>\n",
              "    <tr>\n",
              "      <th>0</th>\n",
              "      <td>1</td>\n",
              "      <td>5</td>\n",
              "      <td>5263</td>\n",
              "      <td>1</td>\n",
              "      <td>1</td>\n",
              "      <td>1</td>\n",
              "      <td>1</td>\n",
              "      <td>0</td>\n",
              "      <td>0</td>\n",
              "      <td>2015</td>\n",
              "      <td>7</td>\n",
              "      <td>31</td>\n",
              "    </tr>\n",
              "    <tr>\n",
              "      <th>1</th>\n",
              "      <td>2</td>\n",
              "      <td>5</td>\n",
              "      <td>6064</td>\n",
              "      <td>1</td>\n",
              "      <td>1</td>\n",
              "      <td>1</td>\n",
              "      <td>1</td>\n",
              "      <td>0</td>\n",
              "      <td>0</td>\n",
              "      <td>2015</td>\n",
              "      <td>7</td>\n",
              "      <td>31</td>\n",
              "    </tr>\n",
              "    <tr>\n",
              "      <th>2</th>\n",
              "      <td>3</td>\n",
              "      <td>5</td>\n",
              "      <td>8314</td>\n",
              "      <td>1</td>\n",
              "      <td>1</td>\n",
              "      <td>1</td>\n",
              "      <td>1</td>\n",
              "      <td>0</td>\n",
              "      <td>0</td>\n",
              "      <td>2015</td>\n",
              "      <td>7</td>\n",
              "      <td>31</td>\n",
              "    </tr>\n",
              "    <tr>\n",
              "      <th>3</th>\n",
              "      <td>4</td>\n",
              "      <td>5</td>\n",
              "      <td>13995</td>\n",
              "      <td>1</td>\n",
              "      <td>1</td>\n",
              "      <td>1</td>\n",
              "      <td>1</td>\n",
              "      <td>0</td>\n",
              "      <td>0</td>\n",
              "      <td>2015</td>\n",
              "      <td>7</td>\n",
              "      <td>31</td>\n",
              "    </tr>\n",
              "    <tr>\n",
              "      <th>4</th>\n",
              "      <td>5</td>\n",
              "      <td>5</td>\n",
              "      <td>4822</td>\n",
              "      <td>1</td>\n",
              "      <td>1</td>\n",
              "      <td>1</td>\n",
              "      <td>1</td>\n",
              "      <td>0</td>\n",
              "      <td>0</td>\n",
              "      <td>2015</td>\n",
              "      <td>7</td>\n",
              "      <td>31</td>\n",
              "    </tr>\n",
              "  </tbody>\n",
              "</table>\n",
              "</div>"
            ],
            "text/plain": [
              "   Store  DayOfWeek  Sales  Open  ...  StateHoliday_b  Year  Month  Day\n",
              "0      1          5   5263     1  ...               0  2015      7   31\n",
              "1      2          5   6064     1  ...               0  2015      7   31\n",
              "2      3          5   8314     1  ...               0  2015      7   31\n",
              "3      4          5  13995     1  ...               0  2015      7   31\n",
              "4      5          5   4822     1  ...               0  2015      7   31\n",
              "\n",
              "[5 rows x 12 columns]"
            ]
          },
          "metadata": {
            "tags": []
          }
        },
        {
          "output_type": "display_data",
          "data": {
            "text/html": [
              "<div>\n",
              "<style scoped>\n",
              "    .dataframe tbody tr th:only-of-type {\n",
              "        vertical-align: middle;\n",
              "    }\n",
              "\n",
              "    .dataframe tbody tr th {\n",
              "        vertical-align: top;\n",
              "    }\n",
              "\n",
              "    .dataframe thead th {\n",
              "        text-align: right;\n",
              "    }\n",
              "</style>\n",
              "<table border=\"1\" class=\"dataframe\">\n",
              "  <thead>\n",
              "    <tr style=\"text-align: right;\">\n",
              "      <th></th>\n",
              "      <th>Store</th>\n",
              "      <th>DayOfWeek</th>\n",
              "      <th>Open</th>\n",
              "      <th>Promo</th>\n",
              "      <th>SchoolHoliday</th>\n",
              "      <th>StateHoliday_0</th>\n",
              "      <th>StateHoliday_a</th>\n",
              "      <th>StateHoliday_b</th>\n",
              "      <th>Year</th>\n",
              "      <th>Month</th>\n",
              "      <th>Day</th>\n",
              "    </tr>\n",
              "  </thead>\n",
              "  <tbody>\n",
              "    <tr>\n",
              "      <th>0</th>\n",
              "      <td>767</td>\n",
              "      <td>1</td>\n",
              "      <td>0</td>\n",
              "      <td>0</td>\n",
              "      <td>1</td>\n",
              "      <td>0</td>\n",
              "      <td>0</td>\n",
              "      <td>1</td>\n",
              "      <td>2013</td>\n",
              "      <td>4</td>\n",
              "      <td>1</td>\n",
              "    </tr>\n",
              "    <tr>\n",
              "      <th>1</th>\n",
              "      <td>1111</td>\n",
              "      <td>6</td>\n",
              "      <td>1</td>\n",
              "      <td>0</td>\n",
              "      <td>0</td>\n",
              "      <td>1</td>\n",
              "      <td>0</td>\n",
              "      <td>0</td>\n",
              "      <td>2013</td>\n",
              "      <td>3</td>\n",
              "      <td>16</td>\n",
              "    </tr>\n",
              "    <tr>\n",
              "      <th>2</th>\n",
              "      <td>45</td>\n",
              "      <td>4</td>\n",
              "      <td>1</td>\n",
              "      <td>1</td>\n",
              "      <td>1</td>\n",
              "      <td>1</td>\n",
              "      <td>0</td>\n",
              "      <td>0</td>\n",
              "      <td>2013</td>\n",
              "      <td>8</td>\n",
              "      <td>1</td>\n",
              "    </tr>\n",
              "    <tr>\n",
              "      <th>3</th>\n",
              "      <td>500</td>\n",
              "      <td>4</td>\n",
              "      <td>1</td>\n",
              "      <td>0</td>\n",
              "      <td>1</td>\n",
              "      <td>1</td>\n",
              "      <td>0</td>\n",
              "      <td>0</td>\n",
              "      <td>2013</td>\n",
              "      <td>5</td>\n",
              "      <td>23</td>\n",
              "    </tr>\n",
              "    <tr>\n",
              "      <th>4</th>\n",
              "      <td>82</td>\n",
              "      <td>2</td>\n",
              "      <td>1</td>\n",
              "      <td>0</td>\n",
              "      <td>1</td>\n",
              "      <td>1</td>\n",
              "      <td>0</td>\n",
              "      <td>0</td>\n",
              "      <td>2013</td>\n",
              "      <td>8</td>\n",
              "      <td>6</td>\n",
              "    </tr>\n",
              "  </tbody>\n",
              "</table>\n",
              "</div>"
            ],
            "text/plain": [
              "   Store  DayOfWeek  Open  Promo  ...  StateHoliday_b  Year  Month  Day\n",
              "0    767          1     0      0  ...               1  2013      4    1\n",
              "1   1111          6     1      0  ...               0  2013      3   16\n",
              "2     45          4     1      1  ...               0  2013      8    1\n",
              "3    500          4     1      0  ...               0  2013      5   23\n",
              "4     82          2     1      0  ...               0  2013      8    6\n",
              "\n",
              "[5 rows x 11 columns]"
            ]
          },
          "metadata": {
            "tags": []
          }
        }
      ]
    },
    {
      "cell_type": "code",
      "metadata": {
        "id": "9wak67L33Nu9"
      },
      "source": [
        "X = train.drop(\"Sales\",axis=1)\n",
        "y = train.Sales"
      ],
      "execution_count": null,
      "outputs": []
    },
    {
      "cell_type": "code",
      "metadata": {
        "colab": {
          "base_uri": "https://localhost:8080/",
          "height": 267
        },
        "id": "abH2bQVuM8l9",
        "outputId": "0be80aa1-0b4e-4856-9471-d78384fb7979"
      },
      "source": [
        "## We try to scale the data as there are diiferent range of values\n",
        "def Standard_Scaling(data):\n",
        "  from sklearn.preprocessing import StandardScaler\n",
        "  scaler = StandardScaler()\n",
        "  feature_scale = [feature for feature in data.columns]\n",
        "  data = pd.DataFrame(scaler.fit_transform(data[feature_scale]),columns = feature_scale)\n",
        "  return data\n",
        "\n",
        "\n",
        "X = Standard_Scaling(X)\n",
        "test = Standard_Scaling(test)\n",
        "display(X.head(3),test.head(3))"
      ],
      "execution_count": null,
      "outputs": [
        {
          "output_type": "display_data",
          "data": {
            "text/html": [
              "<div>\n",
              "<style scoped>\n",
              "    .dataframe tbody tr th:only-of-type {\n",
              "        vertical-align: middle;\n",
              "    }\n",
              "\n",
              "    .dataframe tbody tr th {\n",
              "        vertical-align: top;\n",
              "    }\n",
              "\n",
              "    .dataframe thead th {\n",
              "        text-align: right;\n",
              "    }\n",
              "</style>\n",
              "<table border=\"1\" class=\"dataframe\">\n",
              "  <thead>\n",
              "    <tr style=\"text-align: right;\">\n",
              "      <th></th>\n",
              "      <th>Store</th>\n",
              "      <th>DayOfWeek</th>\n",
              "      <th>Open</th>\n",
              "      <th>Promo</th>\n",
              "      <th>SchoolHoliday</th>\n",
              "      <th>StateHoliday_0</th>\n",
              "      <th>StateHoliday_a</th>\n",
              "      <th>StateHoliday_b</th>\n",
              "      <th>Year</th>\n",
              "      <th>Month</th>\n",
              "      <th>Day</th>\n",
              "    </tr>\n",
              "  </thead>\n",
              "  <tbody>\n",
              "    <tr>\n",
              "      <th>0</th>\n",
              "      <td>-1.731317</td>\n",
              "      <td>0.49965</td>\n",
              "      <td>0.447311</td>\n",
              "      <td>1.269763</td>\n",
              "      <td>2.230399</td>\n",
              "      <td>0.166094</td>\n",
              "      <td>-0.144837</td>\n",
              "      <td>-0.079623</td>\n",
              "      <td>1.220109</td>\n",
              "      <td>0.237704</td>\n",
              "      <td>1.746351</td>\n",
              "    </tr>\n",
              "    <tr>\n",
              "      <th>1</th>\n",
              "      <td>-1.728211</td>\n",
              "      <td>0.49965</td>\n",
              "      <td>0.447311</td>\n",
              "      <td>1.269763</td>\n",
              "      <td>2.230399</td>\n",
              "      <td>0.166094</td>\n",
              "      <td>-0.144837</td>\n",
              "      <td>-0.079623</td>\n",
              "      <td>1.220109</td>\n",
              "      <td>0.237704</td>\n",
              "      <td>1.746351</td>\n",
              "    </tr>\n",
              "    <tr>\n",
              "      <th>2</th>\n",
              "      <td>-1.725105</td>\n",
              "      <td>0.49965</td>\n",
              "      <td>0.447311</td>\n",
              "      <td>1.269763</td>\n",
              "      <td>2.230399</td>\n",
              "      <td>0.166094</td>\n",
              "      <td>-0.144837</td>\n",
              "      <td>-0.079623</td>\n",
              "      <td>1.220109</td>\n",
              "      <td>0.237704</td>\n",
              "      <td>1.746351</td>\n",
              "    </tr>\n",
              "  </tbody>\n",
              "</table>\n",
              "</div>"
            ],
            "text/plain": [
              "      Store  DayOfWeek      Open  ...      Year     Month       Day\n",
              "0 -1.731317    0.49965  0.447311  ...  1.220109  0.237704  1.746351\n",
              "1 -1.728211    0.49965  0.447311  ...  1.220109  0.237704  1.746351\n",
              "2 -1.725105    0.49965  0.447311  ...  1.220109  0.237704  1.746351\n",
              "\n",
              "[3 rows x 11 columns]"
            ]
          },
          "metadata": {
            "tags": []
          }
        },
        {
          "output_type": "display_data",
          "data": {
            "text/html": [
              "<div>\n",
              "<style scoped>\n",
              "    .dataframe tbody tr th:only-of-type {\n",
              "        vertical-align: middle;\n",
              "    }\n",
              "\n",
              "    .dataframe tbody tr th {\n",
              "        vertical-align: top;\n",
              "    }\n",
              "\n",
              "    .dataframe thead th {\n",
              "        text-align: right;\n",
              "    }\n",
              "</style>\n",
              "<table border=\"1\" class=\"dataframe\">\n",
              "  <thead>\n",
              "    <tr style=\"text-align: right;\">\n",
              "      <th></th>\n",
              "      <th>Store</th>\n",
              "      <th>DayOfWeek</th>\n",
              "      <th>Open</th>\n",
              "      <th>Promo</th>\n",
              "      <th>SchoolHoliday</th>\n",
              "      <th>StateHoliday_0</th>\n",
              "      <th>StateHoliday_a</th>\n",
              "      <th>StateHoliday_b</th>\n",
              "      <th>Year</th>\n",
              "      <th>Month</th>\n",
              "      <th>Day</th>\n",
              "    </tr>\n",
              "  </thead>\n",
              "  <tbody>\n",
              "    <tr>\n",
              "      <th>0</th>\n",
              "      <td>0.648169</td>\n",
              "      <td>-1.497488</td>\n",
              "      <td>-2.238881</td>\n",
              "      <td>-0.788954</td>\n",
              "      <td>2.039824</td>\n",
              "      <td>-6.116721</td>\n",
              "      <td>-0.138137</td>\n",
              "      <td>11.655230</td>\n",
              "      <td>0.0</td>\n",
              "      <td>-0.398454</td>\n",
              "      <td>-1.664883</td>\n",
              "    </tr>\n",
              "    <tr>\n",
              "      <th>1</th>\n",
              "      <td>1.717234</td>\n",
              "      <td>1.002520</td>\n",
              "      <td>0.446652</td>\n",
              "      <td>-0.788954</td>\n",
              "      <td>-0.490238</td>\n",
              "      <td>0.163486</td>\n",
              "      <td>-0.138137</td>\n",
              "      <td>-0.085798</td>\n",
              "      <td>0.0</td>\n",
              "      <td>-0.784972</td>\n",
              "      <td>0.040431</td>\n",
              "    </tr>\n",
              "    <tr>\n",
              "      <th>2</th>\n",
              "      <td>-1.595625</td>\n",
              "      <td>0.002517</td>\n",
              "      <td>0.446652</td>\n",
              "      <td>1.267501</td>\n",
              "      <td>2.039824</td>\n",
              "      <td>0.163486</td>\n",
              "      <td>-0.138137</td>\n",
              "      <td>-0.085798</td>\n",
              "      <td>0.0</td>\n",
              "      <td>1.147618</td>\n",
              "      <td>-1.664883</td>\n",
              "    </tr>\n",
              "  </tbody>\n",
              "</table>\n",
              "</div>"
            ],
            "text/plain": [
              "      Store  DayOfWeek      Open  ...  Year     Month       Day\n",
              "0  0.648169  -1.497488 -2.238881  ...   0.0 -0.398454 -1.664883\n",
              "1  1.717234   1.002520  0.446652  ...   0.0 -0.784972  0.040431\n",
              "2 -1.595625   0.002517  0.446652  ...   0.0  1.147618 -1.664883\n",
              "\n",
              "[3 rows x 11 columns]"
            ]
          },
          "metadata": {
            "tags": []
          }
        }
      ]
    },
    {
      "cell_type": "markdown",
      "metadata": {
        "id": "NOKv7vatby0p"
      },
      "source": [
        "# Model Building"
      ]
    },
    {
      "cell_type": "code",
      "metadata": {
        "id": "BJ8qimfK3N2w"
      },
      "source": [
        "from sklearn.model_selection import train_test_split,RandomizedSearchCV\n",
        "from sklearn.metrics import mean_squared_error,r2_score\n",
        "\n",
        "X_train,X_test,y_train,y_test = train_test_split(X,y,random_state=21,test_size=0.2)"
      ],
      "execution_count": null,
      "outputs": []
    },
    {
      "cell_type": "code",
      "metadata": {
        "id": "PBZ6qt-53N_j"
      },
      "source": [
        "from tensorflow import keras\n",
        "from tensorflow.keras import layers\n",
        "\n",
        "input_shape=[X_train.shape[1]]\n",
        "no_target_columns = 1\n",
        "model=keras.Sequential([\n",
        "   layers.Dense(150,activation='relu',input_shape=input_shape,kernel_regularizer=keras.regularizers.l2(1)),\n",
        "   layers.Dropout(rate=0.2),\n",
        "   layers.Dense(150,activation='relu',kernel_regularizer=keras.regularizers.l2(1)),\n",
        "   layers.Dropout(rate=0.2),\n",
        "   layers.Dense(150,activation='relu',kernel_regularizer=keras.regularizers.l2(1)),\n",
        "   layers.Dropout(rate=0.2),\n",
        "   layers.Dense(150,activation='relu',kernel_regularizer=keras.regularizers.l2(1)),\n",
        "   layers.Dropout(rate=0.2),\n",
        "\n",
        "   layers.Dense(50,activation='relu',activity_regularizer=keras.regularizers.l2(1e-2)),\n",
        "   layers.Dropout(rate=0.2),\n",
        "   layers.Dense(50,activation='relu',activity_regularizer=keras.regularizers.l2(1e-2)),\n",
        "   layers.Dropout(rate=0.2),\n",
        "   layers.Dense(50,activation='relu',activity_regularizer=keras.regularizers.l2(1e-2)),\n",
        "   layers.Dropout(rate=0.2),\n",
        "   layers.Dense(36,activation='relu',activity_regularizer=keras.regularizers.l2(1e-2)),\n",
        "   layers.Dropout(rate=0.3),\n",
        "\n",
        "   layers.Dense(1,activation = 'linear')\n",
        "])"
      ],
      "execution_count": null,
      "outputs": []
    },
    {
      "cell_type": "code",
      "metadata": {
        "id": "9k7hfZsi3OIr"
      },
      "source": [
        "# Initializing the Optimizer values\n",
        "optimizer=keras.optimizers.RMSprop(0.01)\n",
        "metric1=keras.metrics.RootMeanSquaredError()\n",
        "metric2=keras.metrics.MeanAbsoluteError()\n",
        "model.compile(\n",
        "    optimizer='adam',\n",
        "    loss='mae',\n",
        "    metrics=[metric1])"
      ],
      "execution_count": null,
      "outputs": []
    },
    {
      "cell_type": "code",
      "metadata": {
        "id": "RG9C6-0o3OR1"
      },
      "source": [
        "early_stopping=keras.callbacks.EarlyStopping(\n",
        "    monitor='val_loss',\n",
        "    patience=10,\n",
        "    restore_best_weights=True,\n",
        "    verbose=0\n",
        ")\n",
        "\n",
        "history=model.fit(\n",
        "    X_train,y_train,\n",
        "    validation_split=0.7,\n",
        "    epochs=100,\n",
        "    batch_size=512,\n",
        "    callbacks = [early_stopping],\n",
        "    #validation_data=(X_test,y_test)\n",
        ")"
      ],
      "execution_count": null,
      "outputs": []
    },
    {
      "cell_type": "code",
      "metadata": {
        "colab": {
          "base_uri": "https://localhost:8080/",
          "height": 282
        },
        "id": "QZ8pnXKi3OaP",
        "outputId": "52276d16-91ec-48e4-ab75-081134d5c49f"
      },
      "source": [
        "# Plotting the DataFrame\n",
        "history_df=pd.DataFrame(history.history)\n",
        "history_df.loc[10:,['loss','val_loss']].plot()"
      ],
      "execution_count": null,
      "outputs": [
        {
          "output_type": "execute_result",
          "data": {
            "text/plain": [
              "<matplotlib.axes._subplots.AxesSubplot at 0x7f647821eb10>"
            ]
          },
          "metadata": {
            "tags": []
          },
          "execution_count": 37
        },
        {
          "output_type": "display_data",
          "data": {
            "image/png": "[encoded data removed]",
            "text/plain": [
              "<Figure size 432x288 with 1 Axes>"
            ]
          },
          "metadata": {
            "tags": [],
            "needs_background": "light"
          }
        }
      ]
    },
    {
      "cell_type": "code",
      "metadata": {
        "id": "8tIzqhrE3OiP"
      },
      "source": [
        "test_predictions = model.predict(X_test).flatten()\n",
        "test_predictions = pd.DataFrame({'Predicted Price': test_predictions,'Actual Price':y_test.values.flatten()})\n",
        "test_predictions.head(20)"
      ],
      "execution_count": null,
      "outputs": []
    },
    {
      "cell_type": "code",
      "metadata": {
        "id": "oUdaIsTc3OqS"
      },
      "source": [
        "prediction = model.predict(test)\n",
        "prediction = pd.DataFrame(prediction,columns=[\"Sales\"])"
      ],
      "execution_count": null,
      "outputs": []
    },
    {
      "cell_type": "code",
      "metadata": {
        "colab": {
          "base_uri": "https://localhost:8080/",
          "height": 235
        },
        "id": "Jyu8ctoMR5UL",
        "outputId": "0e456e15-703c-49e6-b58e-ecce429c141d"
      },
      "source": [
        "prediction.index.names=[\"Index\"]\n",
        "prediction.head()"
      ],
      "execution_count": null,
      "outputs": [
        {
          "output_type": "execute_result",
          "data": {
            "text/html": [
              "<div>\n",
              "<style scoped>\n",
              "    .dataframe tbody tr th:only-of-type {\n",
              "        vertical-align: middle;\n",
              "    }\n",
              "\n",
              "    .dataframe tbody tr th {\n",
              "        vertical-align: top;\n",
              "    }\n",
              "\n",
              "    .dataframe thead th {\n",
              "        text-align: right;\n",
              "    }\n",
              "</style>\n",
              "<table border=\"1\" class=\"dataframe\">\n",
              "  <thead>\n",
              "    <tr style=\"text-align: right;\">\n",
              "      <th></th>\n",
              "      <th>Sales</th>\n",
              "    </tr>\n",
              "    <tr>\n",
              "      <th>Index</th>\n",
              "      <th></th>\n",
              "    </tr>\n",
              "  </thead>\n",
              "  <tbody>\n",
              "    <tr>\n",
              "      <th>0</th>\n",
              "      <td>0.672516</td>\n",
              "    </tr>\n",
              "    <tr>\n",
              "      <th>1</th>\n",
              "      <td>5298.159668</td>\n",
              "    </tr>\n",
              "    <tr>\n",
              "      <th>2</th>\n",
              "      <td>6989.857422</td>\n",
              "    </tr>\n",
              "    <tr>\n",
              "      <th>3</th>\n",
              "      <td>5362.865723</td>\n",
              "    </tr>\n",
              "    <tr>\n",
              "      <th>4</th>\n",
              "      <td>5811.851562</td>\n",
              "    </tr>\n",
              "  </tbody>\n",
              "</table>\n",
              "</div>"
            ],
            "text/plain": [
              "             Sales\n",
              "Index             \n",
              "0         0.672516\n",
              "1      5298.159668\n",
              "2      6989.857422\n",
              "3      5362.865723\n",
              "4      5811.851562"
            ]
          },
          "metadata": {
            "tags": []
          },
          "execution_count": 40
        }
      ]
    },
    {
      "cell_type": "code",
      "metadata": {
        "id": "l-GfJBToR5O1"
      },
      "source": [
        "prediction.to_csv(\"pred_file.csv\")"
      ],
      "execution_count": null,
      "outputs": []
    },
    {
      "cell_type": "markdown",
      "metadata": {
        "id": "H9jra1CW-TsV"
      },
      "source": [
        "# Hyperparameter Tuning"
      ]
    },
    {
      "cell_type": "code",
      "metadata": {
        "id": "nG2hHZ3-_fL_"
      },
      "source": [
        "pip install keras-tuner"
      ],
      "execution_count": null,
      "outputs": []
    },
    {
      "cell_type": "code",
      "metadata": {
        "id": "pCLOy73Y-TBD"
      },
      "source": [
        "import pandas as pd\n",
        "from tensorflow import keras\n",
        "from tensorflow.keras import layers\n",
        "import tensorflow as tf\n",
        "from kerastuner.tuners import RandomSearch"
      ],
      "execution_count": null,
      "outputs": []
    },
    {
      "cell_type": "code",
      "metadata": {
        "id": "Eur0kovA-S_D"
      },
      "source": [
        "def build_model(hp):\n",
        "    model = keras.Sequential()\n",
        "    for i in range(hp.Int('num_layers', 2, 20)):\n",
        "        model.add(layers.Dense(units=hp.Int('units_' + str(i),\n",
        "                                            min_value=32,\n",
        "                                            max_value=512,\n",
        "                                            step=32),\n",
        "                               activation='relu'))\n",
        "    model.add(layers.Dense(1, activation='linear'))\n",
        "    model.compile(\n",
        "        optimizer=keras.optimizers.Adam(\n",
        "            hp.Choice('learning_rate', [1e-2, 1e-3, 1e-4])),\n",
        "        loss='mean_absolute_error',\n",
        "        metrics=['mean_absolute_error'])\n",
        "    return model"
      ],
      "execution_count": null,
      "outputs": []
    },
    {
      "cell_type": "code",
      "metadata": {
        "id": "1KBd0wH--S8F"
      },
      "source": [
        "tuner = RandomSearch(\n",
        "    build_model,\n",
        "    objective='val_mean_absolute_error',\n",
        "    max_trials=4,\n",
        "    executions_per_trial=2,\n",
        "    directory='project',\n",
        "    project_name='Sales_price_prediction')"
      ],
      "execution_count": null,
      "outputs": []
    },
    {
      "cell_type": "code",
      "metadata": {
        "colab": {
          "base_uri": "https://localhost:8080/"
        },
        "id": "F3dh95-b-S4Q",
        "outputId": "bf8e062d-edbf-4ca3-bad7-74221a39a34a"
      },
      "source": [
        "tuner.search_space_summary()\n"
      ],
      "execution_count": null,
      "outputs": [
        {
          "output_type": "stream",
          "text": [
            "Search space summary\n",
            "Default search space size: 4\n",
            "num_layers (Int)\n",
            "{'default': None, 'conditions': [], 'min_value': 2, 'max_value': 20, 'step': 1, 'sampling': None}\n",
            "units_0 (Int)\n",
            "{'default': None, 'conditions': [], 'min_value': 32, 'max_value': 512, 'step': 32, 'sampling': None}\n",
            "units_1 (Int)\n",
            "{'default': None, 'conditions': [], 'min_value': 32, 'max_value': 512, 'step': 32, 'sampling': None}\n",
            "learning_rate (Choice)\n",
            "{'default': 0.01, 'conditions': [], 'values': [0.01, 0.001, 0.0001], 'ordered': True}\n"
          ],
          "name": "stdout"
        }
      ]
    },
    {
      "cell_type": "code",
      "metadata": {
        "id": "W-ovpmZW31Xk"
      },
      "source": [
        "stop_early = tf.keras.callbacks.EarlyStopping(monitor='val_loss', patience=5)"
      ],
      "execution_count": null,
      "outputs": []
    },
    {
      "cell_type": "code",
      "metadata": {
        "colab": {
          "base_uri": "https://localhost:8080/"
        },
        "id": "Il2Wz-74-S14",
        "outputId": "0743693f-358e-47fb-9b15-1fb9781150cb"
      },
      "source": [
        "tuner.search(X_train, y_train,\n",
        "             epochs=10,\n",
        "             validation_data=(X_test, y_test),callbacks=[stop_early])"
      ],
      "execution_count": null,
      "outputs": [
        {
          "output_type": "stream",
          "text": [
            "Trial 4 Complete [00h 32m 22s]\n",
            "val_mean_absolute_error: 1593.7294311523438\n",
            "\n",
            "Best val_mean_absolute_error So Far: 1592.6995239257812\n",
            "Total elapsed time: 02h 16m 59s\n",
            "INFO:tensorflow:Oracle triggered exit\n"
          ],
          "name": "stdout"
        }
      ]
    },
    {
      "cell_type": "code",
      "metadata": {
        "id": "neUcYoXv-Sv6",
        "colab": {
          "base_uri": "https://localhost:8080/"
        },
        "outputId": "aa6454ad-5304-44e2-e108-e86090335bab"
      },
      "source": [
        "tuner.results_summary()"
      ],
      "execution_count": null,
      "outputs": [
        {
          "output_type": "stream",
          "text": [
            "Results summary\n",
            "Results in project/Sales_price_prediction\n",
            "Showing 10 best trials\n",
            "Objective(name='val_mean_absolute_error', direction='min')\n",
            "Trial summary\n",
            "Hyperparameters:\n",
            "num_layers: 12\n",
            "units_0: 224\n",
            "units_1: 320\n",
            "learning_rate: 0.001\n",
            "units_2: 480\n",
            "units_3: 480\n",
            "units_4: 288\n",
            "units_5: 96\n",
            "units_6: 32\n",
            "units_7: 64\n",
            "units_8: 352\n",
            "units_9: 320\n",
            "units_10: 32\n",
            "units_11: 32\n",
            "Score: 1592.6995239257812\n",
            "Trial summary\n",
            "Hyperparameters:\n",
            "num_layers: 12\n",
            "units_0: 288\n",
            "units_1: 96\n",
            "learning_rate: 0.001\n",
            "units_2: 64\n",
            "units_3: 64\n",
            "units_4: 128\n",
            "units_5: 480\n",
            "units_6: 96\n",
            "units_7: 32\n",
            "units_8: 512\n",
            "units_9: 64\n",
            "units_10: 64\n",
            "units_11: 384\n",
            "Score: 1593.7294311523438\n",
            "Trial summary\n",
            "Hyperparameters:\n",
            "num_layers: 10\n",
            "units_0: 320\n",
            "units_1: 96\n",
            "learning_rate: 0.01\n",
            "units_2: 32\n",
            "units_3: 32\n",
            "units_4: 32\n",
            "units_5: 32\n",
            "units_6: 32\n",
            "units_7: 32\n",
            "units_8: 32\n",
            "units_9: 32\n",
            "Score: 1608.4550170898438\n",
            "Trial summary\n",
            "Hyperparameters:\n",
            "num_layers: 3\n",
            "units_0: 384\n",
            "units_1: 160\n",
            "learning_rate: 0.0001\n",
            "units_2: 96\n",
            "units_3: 416\n",
            "units_4: 320\n",
            "units_5: 288\n",
            "units_6: 96\n",
            "units_7: 352\n",
            "units_8: 416\n",
            "units_9: 384\n",
            "units_10: 256\n",
            "units_11: 224\n",
            "Score: 1624.7011108398438\n"
          ],
          "name": "stdout"
        }
      ]
    },
    {
      "cell_type": "markdown",
      "metadata": {
        "id": "wfqyG491tHnl"
      },
      "source": [
        "# Building Model with HyperParameter"
      ]
    },
    {
      "cell_type": "code",
      "metadata": {
        "id": "FN3_xpeHYmyD"
      },
      "source": [
        "from tensorflow import keras\n",
        "from tensorflow.keras import layers\n",
        "\n",
        "input_shape=[X_train.shape[1]]\n",
        "no_target_columns = 1\n",
        "model=keras.Sequential([\n",
        "   layers.Dense(150,activation='relu',input_shape=input_shape,kernel_regularizer=keras.regularizers.l2(1)),\n",
        "   layers.Dropout(rate=0.2),\n",
        "   layers.Dense(224,activation='relu',kernel_regularizer=keras.regularizers.l2(1)),\n",
        "   layers.Dropout(rate=0.2),\n",
        "   layers.Dense(320,activation='relu',kernel_regularizer=keras.regularizers.l2(1)),\n",
        "   layers.Dropout(rate=0.2),\n",
        "   layers.Dense(480,activation='relu',kernel_regularizer=keras.regularizers.l2(1)),\n",
        "   layers.Dropout(rate=0.2),\n",
        "   layers.Dense(480,activation='relu',kernel_regularizer=keras.regularizers.l2(1)),\n",
        "   layers.Dropout(rate=0.2),\n",
        "   layers.Dense(288,activation='relu',kernel_regularizer=keras.regularizers.l2(1)),\n",
        "   layers.Dropout(rate=0.2),\n",
        "   layers.Dense(96,activation='relu',kernel_regularizer=keras.regularizers.l2(1)),\n",
        "   layers.Dropout(rate=0.2),\n",
        "   layers.Dense(32,activation='relu',kernel_regularizer=keras.regularizers.l2(1)),\n",
        "   layers.Dropout(rate=0.2),\n",
        "\n",
        "   layers.Dense(64,activation='relu',activity_regularizer=keras.regularizers.l2(1e-2)),\n",
        "   layers.Dropout(rate=0.2),\n",
        "   layers.Dense(352,activation='relu',activity_regularizer=keras.regularizers.l2(1e-2)),\n",
        "   layers.Dropout(rate=0.2),\n",
        "   layers.Dense(320,activation='relu',activity_regularizer=keras.regularizers.l2(1e-2)),\n",
        "   layers.Dropout(rate=0.2),\n",
        "   layers.Dense(32,activation='relu',activity_regularizer=keras.regularizers.l2(1e-2)),\n",
        "   layers.Dropout(rate=0.3),\n",
        "   layers.Dense(32,activation='relu',kernel_regularizer=keras.regularizers.l2(1)),\n",
        "   layers.Dropout(rate=0.2),\n",
        "\n",
        "   layers.Dense(1,activation = 'linear')\n",
        "])"
      ],
      "execution_count": null,
      "outputs": []
    },
    {
      "cell_type": "code",
      "metadata": {
        "id": "Dk3CtVoCYm8T"
      },
      "source": [
        "# Initializing the Optimizer values\n",
        "optimizer=keras.optimizers.RMSprop(0.001)\n",
        "metric1=keras.metrics.RootMeanSquaredError()\n",
        "metric2=keras.metrics.MeanAbsoluteError()\n",
        "model.compile(\n",
        "    optimizer='adam',\n",
        "    loss='mae',\n",
        "    metrics=[metric1])"
      ],
      "execution_count": null,
      "outputs": []
    },
    {
      "cell_type": "code",
      "metadata": {
        "colab": {
          "base_uri": "https://localhost:8080/"
        },
        "id": "D1ISGMbqYnBT",
        "outputId": "b9168c1b-85b0-4120-8048-d848602b7a32"
      },
      "source": [
        "early_stopping=keras.callbacks.EarlyStopping(\n",
        "    monitor='val_loss',\n",
        "    patience=10,\n",
        "    restore_best_weights=True,\n",
        "    verbose=0\n",
        ")\n",
        "\n",
        "history=model.fit(\n",
        "    X_train,y_train,\n",
        "    validation_split=0.7,\n",
        "    epochs=100,\n",
        "    batch_size=512,\n",
        "    callbacks = [early_stopping],\n",
        "    validation_data=(X_test,y_test)\n",
        ")"
      ],
      "execution_count": null,
      "outputs": [
        {
          "output_type": "stream",
          "text": [
            "Epoch 1/100\n",
            "334/334 [==============================] - 45s 130ms/step - loss: 6175.9263 - root_mean_squared_error: 6683.5199 - val_loss: 3689.2937 - val_root_mean_squared_error: 4027.8228\n",
            "Epoch 2/100\n",
            "334/334 [==============================] - 43s 130ms/step - loss: 3673.1911 - root_mean_squared_error: 4159.0032 - val_loss: 3336.1467 - val_root_mean_squared_error: 4013.7158\n",
            "Epoch 3/100\n",
            "334/334 [==============================] - 43s 130ms/step - loss: 3452.8104 - root_mean_squared_error: 4122.3325 - val_loss: 3228.9417 - val_root_mean_squared_error: 3934.7974\n",
            "Epoch 4/100\n",
            "334/334 [==============================] - 43s 128ms/step - loss: 3400.7823 - root_mean_squared_error: 4117.8550 - val_loss: 3202.9548 - val_root_mean_squared_error: 3942.4478\n",
            "Epoch 5/100\n",
            "334/334 [==============================] - 43s 128ms/step - loss: 3359.5356 - root_mean_squared_error: 4092.3501 - val_loss: 3194.5728 - val_root_mean_squared_error: 3957.7239\n",
            "Epoch 6/100\n",
            "334/334 [==============================] - 43s 128ms/step - loss: 3357.7977 - root_mean_squared_error: 4109.1422 - val_loss: 3171.1680 - val_root_mean_squared_error: 3946.4233\n",
            "Epoch 7/100\n",
            "334/334 [==============================] - 42s 127ms/step - loss: 3340.3452 - root_mean_squared_error: 4111.9893 - val_loss: 3160.0862 - val_root_mean_squared_error: 3949.6702\n",
            "Epoch 8/100\n",
            "334/334 [==============================] - 43s 130ms/step - loss: 3321.2307 - root_mean_squared_error: 4095.6118 - val_loss: 3139.4690 - val_root_mean_squared_error: 3937.5469\n",
            "Epoch 9/100\n",
            "334/334 [==============================] - 43s 128ms/step - loss: 3306.9269 - root_mean_squared_error: 4091.8821 - val_loss: 3140.9746 - val_root_mean_squared_error: 3954.2837\n",
            "Epoch 10/100\n",
            "334/334 [==============================] - 42s 127ms/step - loss: 3292.3178 - root_mean_squared_error: 4088.7619 - val_loss: 3125.9956 - val_root_mean_squared_error: 3947.7336\n",
            "Epoch 11/100\n",
            "334/334 [==============================] - 42s 127ms/step - loss: 3296.7513 - root_mean_squared_error: 4119.3642 - val_loss: 3108.5149 - val_root_mean_squared_error: 3936.1577\n",
            "Epoch 12/100\n",
            "334/334 [==============================] - 43s 129ms/step - loss: 3269.3159 - root_mean_squared_error: 4084.5041 - val_loss: 3098.3125 - val_root_mean_squared_error: 3933.2402\n",
            "Epoch 13/100\n",
            "334/334 [==============================] - 42s 127ms/step - loss: 3275.8936 - root_mean_squared_error: 4107.5312 - val_loss: 3107.1201 - val_root_mean_squared_error: 3954.1606\n",
            "Epoch 14/100\n",
            "334/334 [==============================] - 42s 126ms/step - loss: 3269.4254 - root_mean_squared_error: 4100.8793 - val_loss: 3087.5447 - val_root_mean_squared_error: 3938.2656\n",
            "Epoch 15/100\n",
            "334/334 [==============================] - 42s 127ms/step - loss: 3254.0930 - root_mean_squared_error: 4098.1840 - val_loss: 3075.6968 - val_root_mean_squared_error: 3930.1672\n",
            "Epoch 16/100\n",
            "334/334 [==============================] - 42s 127ms/step - loss: 3251.3073 - root_mean_squared_error: 4095.0714 - val_loss: 3072.4048 - val_root_mean_squared_error: 3933.9731\n",
            "Epoch 17/100\n",
            "334/334 [==============================] - 43s 129ms/step - loss: 3241.7041 - root_mean_squared_error: 4098.7223 - val_loss: 3062.2021 - val_root_mean_squared_error: 3923.5767\n",
            "Epoch 18/100\n",
            "334/334 [==============================] - 42s 126ms/step - loss: 3236.9810 - root_mean_squared_error: 4093.5519 - val_loss: 3071.2295 - val_root_mean_squared_error: 3945.3655\n",
            "Epoch 19/100\n",
            "334/334 [==============================] - 43s 128ms/step - loss: 3230.0977 - root_mean_squared_error: 4092.2568 - val_loss: 3064.8354 - val_root_mean_squared_error: 3943.1313\n",
            "Epoch 20/100\n",
            "334/334 [==============================] - 42s 126ms/step - loss: 3227.3291 - root_mean_squared_error: 4088.5903 - val_loss: 3051.2402 - val_root_mean_squared_error: 3931.1013\n",
            "Epoch 21/100\n",
            "334/334 [==============================] - 42s 127ms/step - loss: 3229.5868 - root_mean_squared_error: 4105.3064 - val_loss: 3051.3015 - val_root_mean_squared_error: 3936.4614\n",
            "Epoch 22/100\n",
            "334/334 [==============================] - 42s 126ms/step - loss: 3214.2311 - root_mean_squared_error: 4095.1098 - val_loss: 3054.2593 - val_root_mean_squared_error: 3944.4016\n",
            "Epoch 23/100\n",
            "334/334 [==============================] - 43s 129ms/step - loss: 3210.4610 - root_mean_squared_error: 4086.8123 - val_loss: 3037.2212 - val_root_mean_squared_error: 3926.6858\n",
            "Epoch 24/100\n",
            "334/334 [==============================] - 43s 130ms/step - loss: 3204.4768 - root_mean_squared_error: 4082.7742 - val_loss: 3047.6008 - val_root_mean_squared_error: 3944.3420\n",
            "Epoch 25/100\n",
            "334/334 [==============================] - 42s 127ms/step - loss: 3199.8854 - root_mean_squared_error: 4084.0675 - val_loss: 3037.2632 - val_root_mean_squared_error: 3935.7268\n",
            "Epoch 26/100\n",
            "334/334 [==============================] - 42s 126ms/step - loss: 3195.5620 - root_mean_squared_error: 4083.9177 - val_loss: 3034.3225 - val_root_mean_squared_error: 3935.6240\n",
            "Epoch 27/100\n",
            "334/334 [==============================] - 42s 125ms/step - loss: 3183.5577 - root_mean_squared_error: 4072.2131 - val_loss: 3024.0747 - val_root_mean_squared_error: 3924.7002\n",
            "Epoch 28/100\n",
            "334/334 [==============================] - 42s 126ms/step - loss: 3196.7173 - root_mean_squared_error: 4094.6191 - val_loss: 3031.2966 - val_root_mean_squared_error: 3938.3762\n",
            "Epoch 29/100\n",
            "334/334 [==============================] - 42s 126ms/step - loss: 3181.0316 - root_mean_squared_error: 4072.0906 - val_loss: 3023.9495 - val_root_mean_squared_error: 3932.4939\n",
            "Epoch 30/100\n",
            "334/334 [==============================] - 42s 126ms/step - loss: 3190.8484 - root_mean_squared_error: 4092.0094 - val_loss: 3027.4202 - val_root_mean_squared_error: 3939.4504\n",
            "Epoch 31/100\n",
            "334/334 [==============================] - 42s 127ms/step - loss: 3187.2053 - root_mean_squared_error: 4087.1341 - val_loss: 3028.7007 - val_root_mean_squared_error: 3943.3979\n",
            "Epoch 32/100\n",
            "334/334 [==============================] - 43s 128ms/step - loss: 3183.4740 - root_mean_squared_error: 4095.3437 - val_loss: 3016.4663 - val_root_mean_squared_error: 3931.5962\n",
            "Epoch 33/100\n",
            "334/334 [==============================] - 43s 130ms/step - loss: 3168.4514 - root_mean_squared_error: 4072.6684 - val_loss: 3016.3821 - val_root_mean_squared_error: 3934.0542\n",
            "Epoch 34/100\n",
            "334/334 [==============================] - 42s 127ms/step - loss: 3159.4385 - root_mean_squared_error: 4061.1210 - val_loss: 3022.9990 - val_root_mean_squared_error: 3943.8362\n",
            "Epoch 35/100\n",
            "334/334 [==============================] - 42s 125ms/step - loss: 3163.5673 - root_mean_squared_error: 4069.6465 - val_loss: 3022.5278 - val_root_mean_squared_error: 3945.3494\n",
            "Epoch 36/100\n",
            "334/334 [==============================] - 42s 127ms/step - loss: 3156.8502 - root_mean_squared_error: 4066.2983 - val_loss: 3005.2849 - val_root_mean_squared_error: 3927.0090\n",
            "Epoch 37/100\n",
            "334/334 [==============================] - 44s 132ms/step - loss: 3157.0787 - root_mean_squared_error: 4061.8360 - val_loss: 3003.4119 - val_root_mean_squared_error: 3926.8308\n",
            "Epoch 38/100\n",
            "334/334 [==============================] - 43s 130ms/step - loss: 3152.9219 - root_mean_squared_error: 4074.4471 - val_loss: 3004.8364 - val_root_mean_squared_error: 3930.9800\n",
            "Epoch 39/100\n",
            "334/334 [==============================] - 42s 127ms/step - loss: 3151.0705 - root_mean_squared_error: 4066.7605 - val_loss: 3012.1587 - val_root_mean_squared_error: 3941.2759\n",
            "Epoch 40/100\n",
            "334/334 [==============================] - 42s 126ms/step - loss: 3152.4885 - root_mean_squared_error: 4073.4434 - val_loss: 2999.3833 - val_root_mean_squared_error: 3927.9946\n",
            "Epoch 41/100\n",
            "334/334 [==============================] - 42s 127ms/step - loss: 3147.3151 - root_mean_squared_error: 4061.2356 - val_loss: 3005.1697 - val_root_mean_squared_error: 3936.8191\n",
            "Epoch 42/100\n",
            "334/334 [==============================] - 42s 126ms/step - loss: 3139.2970 - root_mean_squared_error: 4065.7355 - val_loss: 3000.9932 - val_root_mean_squared_error: 3933.6858\n",
            "Epoch 43/100\n",
            "334/334 [==============================] - 42s 127ms/step - loss: 3133.3773 - root_mean_squared_error: 4058.3099 - val_loss: 3004.1743 - val_root_mean_squared_error: 3938.8750\n",
            "Epoch 44/100\n",
            "334/334 [==============================] - 43s 128ms/step - loss: 3140.6294 - root_mean_squared_error: 4057.4952 - val_loss: 2997.0979 - val_root_mean_squared_error: 3932.3240\n",
            "Epoch 45/100\n",
            "334/334 [==============================] - 43s 129ms/step - loss: 3125.3077 - root_mean_squared_error: 4045.5597 - val_loss: 3001.7415 - val_root_mean_squared_error: 3939.0991\n",
            "Epoch 46/100\n",
            "334/334 [==============================] - 43s 130ms/step - loss: 3122.4043 - root_mean_squared_error: 4049.2964 - val_loss: 3001.9333 - val_root_mean_squared_error: 3940.6694\n",
            "Epoch 47/100\n",
            "334/334 [==============================] - 42s 127ms/step - loss: 3137.2309 - root_mean_squared_error: 4065.9177 - val_loss: 2992.3262 - val_root_mean_squared_error: 3931.1843\n",
            "Epoch 48/100\n",
            "334/334 [==============================] - 42s 127ms/step - loss: 3104.1130 - root_mean_squared_error: 4026.0378 - val_loss: 2992.8906 - val_root_mean_squared_error: 3933.2695\n",
            "Epoch 49/100\n",
            "334/334 [==============================] - 42s 127ms/step - loss: 3119.8994 - root_mean_squared_error: 4041.6038 - val_loss: 2993.8840 - val_root_mean_squared_error: 3935.7454\n",
            "Epoch 50/100\n",
            "334/334 [==============================] - 43s 128ms/step - loss: 3110.7384 - root_mean_squared_error: 4041.9532 - val_loss: 2991.0647 - val_root_mean_squared_error: 3933.8362\n",
            "Epoch 51/100\n",
            "334/334 [==============================] - 42s 126ms/step - loss: 3112.2610 - root_mean_squared_error: 4041.8988 - val_loss: 2989.0422 - val_root_mean_squared_error: 3932.7756\n",
            "Epoch 52/100\n",
            "334/334 [==============================] - 42s 127ms/step - loss: 3102.3329 - root_mean_squared_error: 4023.3634 - val_loss: 2985.8872 - val_root_mean_squared_error: 3930.3572\n",
            "Epoch 53/100\n",
            "334/334 [==============================] - 42s 127ms/step - loss: 3120.1538 - root_mean_squared_error: 4061.0431 - val_loss: 2981.7026 - val_root_mean_squared_error: 3926.3508\n",
            "Epoch 54/100\n",
            "334/334 [==============================] - 43s 129ms/step - loss: 3097.2248 - root_mean_squared_error: 4030.5105 - val_loss: 2984.6189 - val_root_mean_squared_error: 3931.3240\n",
            "Epoch 55/100\n",
            "334/334 [==============================] - 43s 128ms/step - loss: 3098.2272 - root_mean_squared_error: 4030.4949 - val_loss: 2983.0806 - val_root_mean_squared_error: 3930.6995\n",
            "Epoch 56/100\n",
            "334/334 [==============================] - 42s 127ms/step - loss: 3092.2595 - root_mean_squared_error: 4024.7986 - val_loss: 2987.0659 - val_root_mean_squared_error: 3936.3176\n",
            "Epoch 57/100\n",
            "334/334 [==============================] - 43s 128ms/step - loss: 3097.2313 - root_mean_squared_error: 4024.6362 - val_loss: 2982.2058 - val_root_mean_squared_error: 3931.9087\n",
            "Epoch 58/100\n",
            "334/334 [==============================] - 42s 127ms/step - loss: 3086.0271 - root_mean_squared_error: 4026.3763 - val_loss: 2983.2612 - val_root_mean_squared_error: 3934.1475\n",
            "Epoch 59/100\n",
            "334/334 [==============================] - 42s 127ms/step - loss: 3086.5762 - root_mean_squared_error: 4024.7748 - val_loss: 2974.8669 - val_root_mean_squared_error: 3924.8513\n",
            "Epoch 60/100\n",
            "334/334 [==============================] - 42s 127ms/step - loss: 3078.3394 - root_mean_squared_error: 4011.2581 - val_loss: 2978.2026 - val_root_mean_squared_error: 3930.3826\n",
            "Epoch 61/100\n",
            "334/334 [==============================] - 43s 128ms/step - loss: 3094.2079 - root_mean_squared_error: 4033.2091 - val_loss: 2981.9392 - val_root_mean_squared_error: 3935.5908\n",
            "Epoch 62/100\n",
            "334/334 [==============================] - 42s 127ms/step - loss: 3080.8201 - root_mean_squared_error: 4016.3175 - val_loss: 2975.0544 - val_root_mean_squared_error: 3928.6702\n",
            "Epoch 63/100\n",
            "334/334 [==============================] - 43s 128ms/step - loss: 3079.4696 - root_mean_squared_error: 4029.4143 - val_loss: 2973.8071 - val_root_mean_squared_error: 3928.1401\n",
            "Epoch 64/100\n",
            "334/334 [==============================] - 42s 127ms/step - loss: 3078.5092 - root_mean_squared_error: 4021.5970 - val_loss: 2977.8838 - val_root_mean_squared_error: 3933.8047\n",
            "Epoch 65/100\n",
            "334/334 [==============================] - 42s 127ms/step - loss: 3073.4835 - root_mean_squared_error: 4017.3504 - val_loss: 2971.4780 - val_root_mean_squared_error: 3927.2349\n",
            "Epoch 66/100\n",
            "334/334 [==============================] - 42s 127ms/step - loss: 3061.0128 - root_mean_squared_error: 4001.2140 - val_loss: 2970.9270 - val_root_mean_squared_error: 3927.5249\n",
            "Epoch 67/100\n",
            "334/334 [==============================] - 42s 127ms/step - loss: 3074.5751 - root_mean_squared_error: 4024.2110 - val_loss: 2975.7551 - val_root_mean_squared_error: 3934.0164\n",
            "Epoch 68/100\n",
            "334/334 [==============================] - 42s 127ms/step - loss: 3066.9507 - root_mean_squared_error: 4011.1979 - val_loss: 2969.7637 - val_root_mean_squared_error: 3927.9517\n",
            "Epoch 69/100\n",
            "334/334 [==============================] - 42s 127ms/step - loss: 3056.0820 - root_mean_squared_error: 4004.0975 - val_loss: 2974.1458 - val_root_mean_squared_error: 3933.8254\n",
            "Epoch 70/100\n",
            "334/334 [==============================] - 43s 128ms/step - loss: 3065.7399 - root_mean_squared_error: 4018.2482 - val_loss: 2965.7969 - val_root_mean_squared_error: 3924.4229\n",
            "Epoch 71/100\n",
            "334/334 [==============================] - 43s 129ms/step - loss: 3059.1264 - root_mean_squared_error: 4011.4358 - val_loss: 2969.3389 - val_root_mean_squared_error: 3929.9470\n",
            "Epoch 72/100\n",
            "334/334 [==============================] - 43s 129ms/step - loss: 3058.4534 - root_mean_squared_error: 4003.7670 - val_loss: 2967.1792 - val_root_mean_squared_error: 3928.1807\n",
            "Epoch 73/100\n",
            "334/334 [==============================] - 41s 124ms/step - loss: 3044.6791 - root_mean_squared_error: 3989.4293 - val_loss: 2964.3804 - val_root_mean_squared_error: 3925.4019\n",
            "Epoch 74/100\n",
            "334/334 [==============================] - 42s 125ms/step - loss: 3039.2830 - root_mean_squared_error: 3979.1929 - val_loss: 2966.7776 - val_root_mean_squared_error: 3929.2534\n",
            "Epoch 75/100\n",
            "334/334 [==============================] - 42s 125ms/step - loss: 3043.0758 - root_mean_squared_error: 3994.7937 - val_loss: 2968.8005 - val_root_mean_squared_error: 3932.2698\n",
            "Epoch 76/100\n",
            "334/334 [==============================] - 42s 126ms/step - loss: 3055.9080 - root_mean_squared_error: 4001.9904 - val_loss: 2966.1433 - val_root_mean_squared_error: 3929.9695\n",
            "Epoch 77/100\n",
            "334/334 [==============================] - 42s 126ms/step - loss: 3045.8946 - root_mean_squared_error: 4000.0960 - val_loss: 2967.5728 - val_root_mean_squared_error: 3932.2305\n",
            "Epoch 78/100\n",
            "334/334 [==============================] - 42s 125ms/step - loss: 3040.2896 - root_mean_squared_error: 4000.7047 - val_loss: 2965.2458 - val_root_mean_squared_error: 3930.2627\n",
            "Epoch 79/100\n",
            "334/334 [==============================] - 42s 125ms/step - loss: 3038.9662 - root_mean_squared_error: 3997.2460 - val_loss: 2962.2263 - val_root_mean_squared_error: 3927.3718\n",
            "Epoch 80/100\n",
            "334/334 [==============================] - 42s 125ms/step - loss: 3041.0318 - root_mean_squared_error: 3992.5444 - val_loss: 2960.9546 - val_root_mean_squared_error: 3926.4541\n",
            "Epoch 81/100\n",
            "334/334 [==============================] - 42s 125ms/step - loss: 3034.0433 - root_mean_squared_error: 3990.7737 - val_loss: 2960.5479 - val_root_mean_squared_error: 3926.6445\n",
            "Epoch 82/100\n",
            "334/334 [==============================] - 41s 124ms/step - loss: 3039.4392 - root_mean_squared_error: 3997.3489 - val_loss: 2963.2703 - val_root_mean_squared_error: 3930.4954\n",
            "Epoch 83/100\n",
            "334/334 [==============================] - 42s 125ms/step - loss: 3029.2193 - root_mean_squared_error: 3987.6429 - val_loss: 2959.3018 - val_root_mean_squared_error: 3926.3901\n",
            "Epoch 84/100\n",
            "334/334 [==============================] - 42s 125ms/step - loss: 3034.0262 - root_mean_squared_error: 3988.9163 - val_loss: 2962.4919 - val_root_mean_squared_error: 3930.7776\n",
            "Epoch 85/100\n",
            "334/334 [==============================] - 42s 125ms/step - loss: 3027.5055 - root_mean_squared_error: 3991.3841 - val_loss: 2959.6855 - val_root_mean_squared_error: 3928.1040\n",
            "Epoch 86/100\n",
            "334/334 [==============================] - 42s 126ms/step - loss: 3030.0571 - root_mean_squared_error: 3991.9392 - val_loss: 2958.0818 - val_root_mean_squared_error: 3926.7463\n",
            "Epoch 87/100\n",
            "334/334 [==============================] - 42s 125ms/step - loss: 3019.7484 - root_mean_squared_error: 3975.2113 - val_loss: 2957.1870 - val_root_mean_squared_error: 3926.1980\n",
            "Epoch 88/100\n",
            "334/334 [==============================] - 42s 124ms/step - loss: 3010.9076 - root_mean_squared_error: 3970.5175 - val_loss: 2957.4985 - val_root_mean_squared_error: 3927.1541\n",
            "Epoch 89/100\n",
            "334/334 [==============================] - 42s 124ms/step - loss: 3015.8940 - root_mean_squared_error: 3973.3326 - val_loss: 2955.6333 - val_root_mean_squared_error: 3925.3208\n",
            "Epoch 90/100\n",
            "334/334 [==============================] - 42s 125ms/step - loss: 3020.9422 - root_mean_squared_error: 3974.2871 - val_loss: 2956.8955 - val_root_mean_squared_error: 3927.4922\n",
            "Epoch 91/100\n",
            "334/334 [==============================] - 42s 125ms/step - loss: 3018.0400 - root_mean_squared_error: 3980.2388 - val_loss: 2956.2866 - val_root_mean_squared_error: 3927.2610\n",
            "Epoch 92/100\n",
            "334/334 [==============================] - 42s 125ms/step - loss: 3023.3090 - root_mean_squared_error: 3985.2691 - val_loss: 2957.8835 - val_root_mean_squared_error: 3929.6067\n",
            "Epoch 93/100\n",
            "334/334 [==============================] - 42s 125ms/step - loss: 3018.2095 - root_mean_squared_error: 3981.2865 - val_loss: 2958.6567 - val_root_mean_squared_error: 3930.9175\n",
            "Epoch 94/100\n",
            "334/334 [==============================] - 41s 124ms/step - loss: 3017.4015 - root_mean_squared_error: 3973.6229 - val_loss: 2953.5374 - val_root_mean_squared_error: 3925.2798\n",
            "Epoch 95/100\n",
            "334/334 [==============================] - 42s 125ms/step - loss: 3018.1893 - root_mean_squared_error: 3979.9747 - val_loss: 2952.5525 - val_root_mean_squared_error: 3924.3748\n",
            "Epoch 96/100\n",
            "334/334 [==============================] - 42s 125ms/step - loss: 3001.0190 - root_mean_squared_error: 3955.7694 - val_loss: 2955.7454 - val_root_mean_squared_error: 3928.8594\n",
            "Epoch 97/100\n",
            "334/334 [==============================] - 42s 125ms/step - loss: 3010.0195 - root_mean_squared_error: 3977.0150 - val_loss: 2952.6641 - val_root_mean_squared_error: 3925.5327\n",
            "Epoch 98/100\n",
            "334/334 [==============================] - 42s 126ms/step - loss: 2998.4578 - root_mean_squared_error: 3958.1831 - val_loss: 2952.2134 - val_root_mean_squared_error: 3925.3955\n",
            "Epoch 99/100\n",
            "334/334 [==============================] - 42s 126ms/step - loss: 2993.5107 - root_mean_squared_error: 3953.9765 - val_loss: 2951.4121 - val_root_mean_squared_error: 3924.7119\n",
            "Epoch 100/100\n",
            "334/334 [==============================] - 42s 126ms/step - loss: 3010.8469 - root_mean_squared_error: 3973.5854 - val_loss: 2951.2788 - val_root_mean_squared_error: 3924.9844\n"
          ],
          "name": "stdout"
        }
      ]
    },
    {
      "cell_type": "code",
      "metadata": {
        "colab": {
          "base_uri": "https://localhost:8080/",
          "height": 284
        },
        "id": "z96iHBeoYnFD",
        "outputId": "b8120d24-2ca9-460e-e502-825680944b37"
      },
      "source": [
        "# Plotting the DataFrame\n",
        "history_df=pd.DataFrame(history.history)\n",
        "history_df.loc[10:,['loss','val_loss']].plot()"
      ],
      "execution_count": null,
      "outputs": [
        {
          "output_type": "execute_result",
          "data": {
            "text/plain": [
              "<matplotlib.axes._subplots.AxesSubplot at 0x7fac65371490>"
            ]
          },
          "metadata": {
            "tags": []
          },
          "execution_count": 30
        },
        {
          "output_type": "display_data",
          "data": {
            "image/png": "[encoded data removed]",
            "text/plain": [
              "<Figure size 432x288 with 1 Axes>"
            ]
          },
          "metadata": {
            "tags": [],
            "needs_background": "light"
          }
        }
      ]
    },
    {
      "cell_type": "code",
      "metadata": {
        "id": "hvieKcWZ-StI"
      },
      "source": [
        ""
      ],
      "execution_count": null,
      "outputs": []
    },
    {
      "cell_type": "markdown",
      "metadata": {
        "id": "bDmfE5ietVef"
      },
      "source": [
        "# Trial model with reduced neural layers"
      ]
    },
    {
      "cell_type": "code",
      "metadata": {
        "id": "ZqKb5fmU-So2"
      },
      "source": [
        "input_shape=[X_train.shape[1]]\n",
        "no_target_columns = 1\n",
        "model=keras.Sequential([\n",
        "   layers.Dense(150,activation='relu',input_shape=input_shape,kernel_regularizer=keras.regularizers.l2(1)),\n",
        "   layers.Dropout(rate=0.2),\n",
        "   layers.Dense(150,activation='relu',kernel_regularizer=keras.regularizers.l2(1)),\n",
        "   layers.Dropout(rate=0.2),\n",
        "   layers.Dense(150,activation='relu',kernel_regularizer=keras.regularizers.l2(1)),\n",
        "   layers.Dropout(rate=0.2),\n",
        "   layers.Dense(50,activation='relu',kernel_regularizer=keras.regularizers.l2(1)),\n",
        "   layers.Dropout(rate=0.2),\n",
        "   layers.Dense(50,activation='relu',kernel_regularizer=keras.regularizers.l2(1)),\n",
        "   layers.Dropout(rate=0.2),\n",
        "   layers.Dense(36,activation='relu',kernel_regularizer=keras.regularizers.l2(1)),\n",
        "   layers.Dropout(rate=0.2),\n",
        "   layers.Dense(36,activation='relu',kernel_regularizer=keras.regularizers.l2(1)),\n",
        "   layers.Dropout(rate=0.2),\n",
        "   #layers.Dense(32,activation='relu',kernel_regularizer=keras.regularizers.l2(1)),\n",
        "   #layers.Dropout(rate=0.2),\n",
        "\n",
        "   #layers.Dense(64,activation='relu',activity_regularizer=keras.regularizers.l2(1e-2)),\n",
        "   #layers.Dropout(rate=0.2),\n",
        "   #layers.Dense(352,activation='relu',activity_regularizer=keras.regularizers.l2(1e-2)),\n",
        "   #layers.Dropout(rate=0.2),\n",
        "   #layers.Dense(320,activation='relu',activity_regularizer=keras.regularizers.l2(1e-2)),\n",
        "   #layers.Dropout(rate=0.2),\n",
        "   #layers.Dense(32,activation='relu',activity_regularizer=keras.regularizers.l2(1e-2)),\n",
        "   #layers.Dropout(rate=0.3),\n",
        "   #layers.Dense(32,activation='relu',kernel_regularizer=keras.regularizers.l2(1)),\n",
        "   #layers.Dropout(rate=0.2),\n",
        "\n",
        "   layers.Dense(1,activation = 'linear')\n",
        "])"
      ],
      "execution_count": null,
      "outputs": []
    },
    {
      "cell_type": "code",
      "metadata": {
        "colab": {
          "base_uri": "https://localhost:8080/"
        },
        "id": "ur0usen-tQea",
        "outputId": "a1dabb45-7204-4f2c-9ce0-f222dcdf8842"
      },
      "source": [
        "# Initializing the Optimizer values\n",
        "optimizer=keras.optimizers.RMSprop(0.001)\n",
        "metric1=keras.metrics.RootMeanSquaredError()\n",
        "metric2=keras.metrics.MeanAbsoluteError()\n",
        "model.compile(\n",
        "    optimizer='adam',\n",
        "    loss='mae',\n",
        "    metrics=[metric1])\n",
        "\n",
        "\n",
        "\n",
        "early_stopping=keras.callbacks.EarlyStopping(\n",
        "    monitor='val_loss',\n",
        "    patience=10,\n",
        "    restore_best_weights=True,\n",
        "    verbose=0\n",
        ")\n",
        "\n",
        "history=model.fit(\n",
        "    X_train,y_train,\n",
        "    validation_split=0.7,\n",
        "    epochs=100,\n",
        "    batch_size=512,\n",
        "    callbacks = [early_stopping],\n",
        "    validation_data=(X_test,y_test)\n",
        ")"
      ],
      "execution_count": null,
      "outputs": [
        {
          "output_type": "stream",
          "text": [
            "Epoch 1/100\n",
            "332/332 [==============================] - 8s 21ms/step - loss: 5960.0745 - root_mean_squared_error: 6957.9901 - val_loss: 1813.2609 - val_root_mean_squared_error: 2748.8926\n",
            "Epoch 2/100\n",
            "332/332 [==============================] - 7s 21ms/step - loss: 2103.1298 - root_mean_squared_error: 3065.3237 - val_loss: 1760.0270 - val_root_mean_squared_error: 2675.2551\n",
            "Epoch 3/100\n",
            "332/332 [==============================] - 7s 21ms/step - loss: 2032.8433 - root_mean_squared_error: 2991.6897 - val_loss: 1781.1411 - val_root_mean_squared_error: 2757.6946\n",
            "Epoch 4/100\n",
            "332/332 [==============================] - 7s 21ms/step - loss: 2013.9168 - root_mean_squared_error: 2967.0042 - val_loss: 1759.6604 - val_root_mean_squared_error: 2713.5273\n",
            "Epoch 5/100\n",
            "332/332 [==============================] - 7s 21ms/step - loss: 2009.5114 - root_mean_squared_error: 2967.9674 - val_loss: 1751.6786 - val_root_mean_squared_error: 2692.8496\n",
            "Epoch 6/100\n",
            "332/332 [==============================] - 7s 21ms/step - loss: 2010.0178 - root_mean_squared_error: 2951.3458 - val_loss: 1737.1219 - val_root_mean_squared_error: 2628.0884\n",
            "Epoch 7/100\n",
            "332/332 [==============================] - 7s 21ms/step - loss: 2003.2065 - root_mean_squared_error: 2947.0614 - val_loss: 1764.9343 - val_root_mean_squared_error: 2729.9927\n",
            "Epoch 8/100\n",
            "332/332 [==============================] - 7s 21ms/step - loss: 2011.4043 - root_mean_squared_error: 2961.3843 - val_loss: 1752.2262 - val_root_mean_squared_error: 2707.2219\n",
            "Epoch 9/100\n",
            "332/332 [==============================] - 7s 21ms/step - loss: 2007.1229 - root_mean_squared_error: 2956.8337 - val_loss: 1732.8772 - val_root_mean_squared_error: 2639.9153\n",
            "Epoch 10/100\n",
            "332/332 [==============================] - 7s 20ms/step - loss: 2007.3572 - root_mean_squared_error: 2962.9291 - val_loss: 1762.2690 - val_root_mean_squared_error: 2730.8752\n",
            "Epoch 11/100\n",
            "332/332 [==============================] - 7s 20ms/step - loss: 2006.0627 - root_mean_squared_error: 2960.0629 - val_loss: 1743.6707 - val_root_mean_squared_error: 2683.5005\n",
            "Epoch 12/100\n",
            "332/332 [==============================] - 7s 20ms/step - loss: 2001.3666 - root_mean_squared_error: 2942.9559 - val_loss: 1736.3611 - val_root_mean_squared_error: 2665.1113\n",
            "Epoch 13/100\n",
            "332/332 [==============================] - 7s 21ms/step - loss: 1997.4072 - root_mean_squared_error: 2942.0355 - val_loss: 1741.4152 - val_root_mean_squared_error: 2596.0579\n",
            "Epoch 14/100\n",
            "332/332 [==============================] - 7s 21ms/step - loss: 1994.8186 - root_mean_squared_error: 2942.7833 - val_loss: 1729.1543 - val_root_mean_squared_error: 2615.7771\n",
            "Epoch 15/100\n",
            "332/332 [==============================] - 7s 21ms/step - loss: 1989.3382 - root_mean_squared_error: 2930.1705 - val_loss: 1737.4098 - val_root_mean_squared_error: 2678.2568\n",
            "Epoch 16/100\n",
            "332/332 [==============================] - 7s 21ms/step - loss: 1993.4007 - root_mean_squared_error: 2946.3115 - val_loss: 1727.5118 - val_root_mean_squared_error: 2640.1545\n",
            "Epoch 17/100\n",
            "332/332 [==============================] - 7s 21ms/step - loss: 1997.4208 - root_mean_squared_error: 2944.5506 - val_loss: 1728.5468 - val_root_mean_squared_error: 2646.8726\n",
            "Epoch 18/100\n",
            "332/332 [==============================] - 7s 21ms/step - loss: 2002.6080 - root_mean_squared_error: 2964.5730 - val_loss: 1734.2155 - val_root_mean_squared_error: 2665.1062\n",
            "Epoch 19/100\n",
            "332/332 [==============================] - 7s 21ms/step - loss: 1994.8347 - root_mean_squared_error: 2940.1267 - val_loss: 1735.2816 - val_root_mean_squared_error: 2676.2104\n",
            "Epoch 20/100\n",
            "332/332 [==============================] - 7s 21ms/step - loss: 1996.7954 - root_mean_squared_error: 2946.5133 - val_loss: 1726.2977 - val_root_mean_squared_error: 2637.9407\n",
            "Epoch 21/100\n",
            "332/332 [==============================] - 7s 20ms/step - loss: 1984.8373 - root_mean_squared_error: 2926.7130 - val_loss: 1724.0900 - val_root_mean_squared_error: 2622.3860\n",
            "Epoch 22/100\n",
            "332/332 [==============================] - 7s 20ms/step - loss: 1990.3188 - root_mean_squared_error: 2934.3455 - val_loss: 1723.4005 - val_root_mean_squared_error: 2627.4133\n",
            "Epoch 23/100\n",
            "332/332 [==============================] - 7s 20ms/step - loss: 1997.7552 - root_mean_squared_error: 2954.3668 - val_loss: 1726.1200 - val_root_mean_squared_error: 2597.5852\n",
            "Epoch 24/100\n",
            "332/332 [==============================] - 7s 21ms/step - loss: 1988.7381 - root_mean_squared_error: 2942.4705 - val_loss: 1728.5421 - val_root_mean_squared_error: 2601.3679\n",
            "Epoch 25/100\n",
            "332/332 [==============================] - 7s 21ms/step - loss: 1998.3577 - root_mean_squared_error: 2942.6906 - val_loss: 1727.7592 - val_root_mean_squared_error: 2651.9580\n",
            "Epoch 26/100\n",
            "332/332 [==============================] - 7s 21ms/step - loss: 1997.8873 - root_mean_squared_error: 2952.7993 - val_loss: 1729.5095 - val_root_mean_squared_error: 2660.6584\n",
            "Epoch 27/100\n",
            "332/332 [==============================] - 7s 20ms/step - loss: 1983.0244 - root_mean_squared_error: 2933.6593 - val_loss: 1721.9514 - val_root_mean_squared_error: 2628.9971\n",
            "Epoch 28/100\n",
            "332/332 [==============================] - 7s 20ms/step - loss: 2000.6211 - root_mean_squared_error: 2944.8176 - val_loss: 1724.2654 - val_root_mean_squared_error: 2644.9368\n",
            "Epoch 29/100\n",
            "332/332 [==============================] - 7s 21ms/step - loss: 1996.9019 - root_mean_squared_error: 2959.7520 - val_loss: 1725.5249 - val_root_mean_squared_error: 2653.8875\n",
            "Epoch 30/100\n",
            "332/332 [==============================] - 7s 21ms/step - loss: 1991.9676 - root_mean_squared_error: 2941.5753 - val_loss: 1740.3120 - val_root_mean_squared_error: 2700.1682\n",
            "Epoch 31/100\n",
            "332/332 [==============================] - 7s 20ms/step - loss: 1985.7948 - root_mean_squared_error: 2934.5125 - val_loss: 1719.8606 - val_root_mean_squared_error: 2632.1353\n",
            "Epoch 32/100\n",
            "332/332 [==============================] - 7s 21ms/step - loss: 1994.2085 - root_mean_squared_error: 2948.9116 - val_loss: 1721.9955 - val_root_mean_squared_error: 2643.0676\n",
            "Epoch 33/100\n",
            "332/332 [==============================] - 7s 21ms/step - loss: 1986.8830 - root_mean_squared_error: 2937.9639 - val_loss: 1725.7917 - val_root_mean_squared_error: 2658.4968\n",
            "Epoch 34/100\n",
            "332/332 [==============================] - 7s 20ms/step - loss: 1986.2714 - root_mean_squared_error: 2941.3114 - val_loss: 1723.4131 - val_root_mean_squared_error: 2650.9492\n",
            "Epoch 35/100\n",
            "332/332 [==============================] - 7s 21ms/step - loss: 1986.8356 - root_mean_squared_error: 2948.8379 - val_loss: 1719.4413 - val_root_mean_squared_error: 2631.0891\n",
            "Epoch 36/100\n",
            "332/332 [==============================] - 7s 21ms/step - loss: 1986.1729 - root_mean_squared_error: 2934.7166 - val_loss: 1718.3372 - val_root_mean_squared_error: 2628.8906\n",
            "Epoch 37/100\n",
            "332/332 [==============================] - 7s 21ms/step - loss: 1993.2319 - root_mean_squared_error: 2941.5152 - val_loss: 1724.1782 - val_root_mean_squared_error: 2652.0154\n",
            "Epoch 38/100\n",
            "332/332 [==============================] - 7s 21ms/step - loss: 1990.7552 - root_mean_squared_error: 2952.6222 - val_loss: 1735.7867 - val_root_mean_squared_error: 2687.0154\n",
            "Epoch 39/100\n",
            "332/332 [==============================] - 7s 21ms/step - loss: 1989.6103 - root_mean_squared_error: 2949.0148 - val_loss: 1717.9948 - val_root_mean_squared_error: 2628.2749\n",
            "Epoch 40/100\n",
            "332/332 [==============================] - 7s 21ms/step - loss: 1989.6530 - root_mean_squared_error: 2944.5862 - val_loss: 1715.6914 - val_root_mean_squared_error: 2622.1606\n",
            "Epoch 41/100\n",
            "332/332 [==============================] - 7s 21ms/step - loss: 1981.9825 - root_mean_squared_error: 2932.0022 - val_loss: 1723.4310 - val_root_mean_squared_error: 2656.8911\n",
            "Epoch 42/100\n",
            "332/332 [==============================] - 7s 21ms/step - loss: 1986.2414 - root_mean_squared_error: 2933.6097 - val_loss: 1716.0015 - val_root_mean_squared_error: 2626.4819\n",
            "Epoch 43/100\n",
            "332/332 [==============================] - 7s 21ms/step - loss: 1973.2528 - root_mean_squared_error: 2922.9521 - val_loss: 1724.0581 - val_root_mean_squared_error: 2660.6418\n",
            "Epoch 44/100\n",
            "332/332 [==============================] - 7s 21ms/step - loss: 1987.3681 - root_mean_squared_error: 2946.8880 - val_loss: 1725.1429 - val_root_mean_squared_error: 2657.9111\n",
            "Epoch 45/100\n",
            "332/332 [==============================] - 7s 21ms/step - loss: 1984.0012 - root_mean_squared_error: 2943.5266 - val_loss: 1714.6040 - val_root_mean_squared_error: 2618.4888\n",
            "Epoch 46/100\n",
            "332/332 [==============================] - 7s 21ms/step - loss: 1975.6477 - root_mean_squared_error: 2919.6052 - val_loss: 1734.0061 - val_root_mean_squared_error: 2686.1975\n",
            "Epoch 47/100\n",
            "332/332 [==============================] - 7s 21ms/step - loss: 1989.7216 - root_mean_squared_error: 2945.0681 - val_loss: 1715.4199 - val_root_mean_squared_error: 2610.8247\n",
            "Epoch 48/100\n",
            "332/332 [==============================] - 7s 21ms/step - loss: 1983.9902 - root_mean_squared_error: 2936.4365 - val_loss: 1720.3134 - val_root_mean_squared_error: 2653.3154\n",
            "Epoch 49/100\n",
            "332/332 [==============================] - 7s 21ms/step - loss: 1978.0354 - root_mean_squared_error: 2934.1839 - val_loss: 1714.3021 - val_root_mean_squared_error: 2625.8696\n",
            "Epoch 50/100\n",
            "332/332 [==============================] - 7s 21ms/step - loss: 1979.2556 - root_mean_squared_error: 2925.3529 - val_loss: 1743.2122 - val_root_mean_squared_error: 2708.0564\n",
            "Epoch 51/100\n",
            "332/332 [==============================] - 7s 21ms/step - loss: 1980.2185 - root_mean_squared_error: 2933.7590 - val_loss: 1712.7346 - val_root_mean_squared_error: 2606.9294\n",
            "Epoch 52/100\n",
            "332/332 [==============================] - 7s 21ms/step - loss: 1972.0348 - root_mean_squared_error: 2926.7535 - val_loss: 1724.1561 - val_root_mean_squared_error: 2666.7952\n",
            "Epoch 53/100\n",
            "332/332 [==============================] - 7s 21ms/step - loss: 1976.5907 - root_mean_squared_error: 2924.3551 - val_loss: 1713.7114 - val_root_mean_squared_error: 2623.4509\n",
            "Epoch 54/100\n",
            "332/332 [==============================] - 7s 21ms/step - loss: 1971.9325 - root_mean_squared_error: 2917.9667 - val_loss: 1743.8560 - val_root_mean_squared_error: 2713.8079\n",
            "Epoch 55/100\n",
            "332/332 [==============================] - 7s 21ms/step - loss: 1969.8933 - root_mean_squared_error: 2926.4138 - val_loss: 1711.8391 - val_root_mean_squared_error: 2610.5757\n",
            "Epoch 56/100\n",
            "332/332 [==============================] - 7s 21ms/step - loss: 1977.6642 - root_mean_squared_error: 2934.6141 - val_loss: 1720.5555 - val_root_mean_squared_error: 2649.6536\n",
            "Epoch 57/100\n",
            "332/332 [==============================] - 7s 21ms/step - loss: 1989.6012 - root_mean_squared_error: 2947.6156 - val_loss: 1718.0052 - val_root_mean_squared_error: 2586.3291\n",
            "Epoch 58/100\n",
            "332/332 [==============================] - 7s 21ms/step - loss: 1970.6020 - root_mean_squared_error: 2913.1340 - val_loss: 1716.5018 - val_root_mean_squared_error: 2642.6501\n",
            "Epoch 59/100\n",
            "332/332 [==============================] - 7s 21ms/step - loss: 1967.9974 - root_mean_squared_error: 2914.0415 - val_loss: 1721.1815 - val_root_mean_squared_error: 2654.5366\n",
            "Epoch 60/100\n",
            "332/332 [==============================] - 7s 21ms/step - loss: 1961.6104 - root_mean_squared_error: 2914.3220 - val_loss: 1711.2373 - val_root_mean_squared_error: 2615.1812\n",
            "Epoch 61/100\n",
            "332/332 [==============================] - 7s 21ms/step - loss: 1968.9249 - root_mean_squared_error: 2914.2876 - val_loss: 1733.3677 - val_root_mean_squared_error: 2693.8564\n",
            "Epoch 62/100\n",
            "332/332 [==============================] - 7s 21ms/step - loss: 1961.9803 - root_mean_squared_error: 2899.8065 - val_loss: 1730.3544 - val_root_mean_squared_error: 2682.6968\n",
            "Epoch 63/100\n",
            "332/332 [==============================] - 7s 21ms/step - loss: 1970.3598 - root_mean_squared_error: 2921.2410 - val_loss: 1712.3676 - val_root_mean_squared_error: 2607.0076\n",
            "Epoch 64/100\n",
            "332/332 [==============================] - 7s 21ms/step - loss: 1968.8695 - root_mean_squared_error: 2920.9122 - val_loss: 1717.2235 - val_root_mean_squared_error: 2646.8735\n",
            "Epoch 65/100\n",
            "332/332 [==============================] - 7s 21ms/step - loss: 1973.3396 - root_mean_squared_error: 2926.8653 - val_loss: 1711.1383 - val_root_mean_squared_error: 2613.4053\n",
            "Epoch 66/100\n",
            "332/332 [==============================] - 7s 21ms/step - loss: 1974.0848 - root_mean_squared_error: 2921.8135 - val_loss: 1712.2406 - val_root_mean_squared_error: 2619.7610\n",
            "Epoch 67/100\n",
            "332/332 [==============================] - 7s 21ms/step - loss: 1972.7156 - root_mean_squared_error: 2923.4726 - val_loss: 1710.3457 - val_root_mean_squared_error: 2614.1313\n",
            "Epoch 68/100\n",
            "332/332 [==============================] - 7s 21ms/step - loss: 1964.5919 - root_mean_squared_error: 2911.8520 - val_loss: 1723.1177 - val_root_mean_squared_error: 2664.3884\n",
            "Epoch 69/100\n",
            "332/332 [==============================] - 7s 21ms/step - loss: 1963.8768 - root_mean_squared_error: 2918.8198 - val_loss: 1724.0311 - val_root_mean_squared_error: 2669.8547\n",
            "Epoch 70/100\n",
            "332/332 [==============================] - 7s 21ms/step - loss: 1962.6119 - root_mean_squared_error: 2914.4649 - val_loss: 1720.4420 - val_root_mean_squared_error: 2658.4968\n",
            "Epoch 71/100\n",
            "332/332 [==============================] - 7s 21ms/step - loss: 1976.5235 - root_mean_squared_error: 2927.7721 - val_loss: 1749.7411 - val_root_mean_squared_error: 2727.1833\n",
            "Epoch 72/100\n",
            "332/332 [==============================] - 7s 21ms/step - loss: 1969.3161 - root_mean_squared_error: 2927.5245 - val_loss: 1710.7250 - val_root_mean_squared_error: 2593.8220\n",
            "Epoch 73/100\n",
            "332/332 [==============================] - 7s 21ms/step - loss: 1959.5204 - root_mean_squared_error: 2904.2995 - val_loss: 1715.3574 - val_root_mean_squared_error: 2643.0432\n",
            "Epoch 74/100\n",
            "332/332 [==============================] - 7s 21ms/step - loss: 1961.4963 - root_mean_squared_error: 2913.9899 - val_loss: 1723.2704 - val_root_mean_squared_error: 2668.8232\n",
            "Epoch 75/100\n",
            "332/332 [==============================] - 7s 21ms/step - loss: 1964.6293 - root_mean_squared_error: 2915.8635 - val_loss: 1724.1981 - val_root_mean_squared_error: 2671.1672\n",
            "Epoch 76/100\n",
            "332/332 [==============================] - 7s 21ms/step - loss: 1957.7788 - root_mean_squared_error: 2906.0162 - val_loss: 1735.4514 - val_root_mean_squared_error: 2693.5676\n",
            "Epoch 77/100\n",
            "332/332 [==============================] - 7s 21ms/step - loss: 1961.1477 - root_mean_squared_error: 2901.7261 - val_loss: 1710.4749 - val_root_mean_squared_error: 2623.3071\n"
          ],
          "name": "stdout"
        }
      ]
    },
    {
      "cell_type": "code",
      "metadata": {
        "colab": {
          "base_uri": "https://localhost:8080/",
          "height": 282
        },
        "id": "DskHO8nRtTjw",
        "outputId": "51e8e57f-9139-4310-b4a1-ae52957b2de4"
      },
      "source": [
        "# Plotting the DataFrame\n",
        "history_df=pd.DataFrame(history.history)\n",
        "history_df.loc[10:,['loss','val_loss']].plot()"
      ],
      "execution_count": null,
      "outputs": [
        {
          "output_type": "execute_result",
          "data": {
            "text/plain": [
              "<matplotlib.axes._subplots.AxesSubplot at 0x7fac6214cc50>"
            ]
          },
          "metadata": {
            "tags": []
          },
          "execution_count": 66
        },
        {
          "output_type": "display_data",
          "data": {
            "image/png": "[encoded data removed]",
            "text/plain": [
              "<Figure size 432x288 with 1 Axes>"
            ]
          },
          "metadata": {
            "tags": [],
            "needs_background": "light"
          }
        }
      ]
    },
    {
      "cell_type": "code",
      "metadata": {
        "colab": {
          "base_uri": "https://localhost:8080/",
          "height": 359
        },
        "id": "4ACD3pOMyOZg",
        "outputId": "8d346644-1427-4c31-b693-f925dd9aec14"
      },
      "source": [
        "test_predictions = model.predict(X_test).flatten()\n",
        "test_predictions = pd.DataFrame({'Predicted Price': test_predictions,'Actual Price':y_test.values.flatten()})\n",
        "test_predictions.head(10)"
      ],
      "execution_count": null,
      "outputs": [
        {
          "output_type": "execute_result",
          "data": {
            "text/html": [
              "<div>\n",
              "<style scoped>\n",
              "    .dataframe tbody tr th:only-of-type {\n",
              "        vertical-align: middle;\n",
              "    }\n",
              "\n",
              "    .dataframe tbody tr th {\n",
              "        vertical-align: top;\n",
              "    }\n",
              "\n",
              "    .dataframe thead th {\n",
              "        text-align: right;\n",
              "    }\n",
              "</style>\n",
              "<table border=\"1\" class=\"dataframe\">\n",
              "  <thead>\n",
              "    <tr style=\"text-align: right;\">\n",
              "      <th></th>\n",
              "      <th>Predicted Price</th>\n",
              "      <th>Actual Price</th>\n",
              "    </tr>\n",
              "  </thead>\n",
              "  <tbody>\n",
              "    <tr>\n",
              "      <th>0</th>\n",
              "      <td>5510.186523</td>\n",
              "      <td>6023</td>\n",
              "    </tr>\n",
              "    <tr>\n",
              "      <th>1</th>\n",
              "      <td>5976.964844</td>\n",
              "      <td>2817</td>\n",
              "    </tr>\n",
              "    <tr>\n",
              "      <th>2</th>\n",
              "      <td>6833.708496</td>\n",
              "      <td>3069</td>\n",
              "    </tr>\n",
              "    <tr>\n",
              "      <th>3</th>\n",
              "      <td>5689.593750</td>\n",
              "      <td>9907</td>\n",
              "    </tr>\n",
              "    <tr>\n",
              "      <th>4</th>\n",
              "      <td>5218.590820</td>\n",
              "      <td>5885</td>\n",
              "    </tr>\n",
              "    <tr>\n",
              "      <th>5</th>\n",
              "      <td>7514.300293</td>\n",
              "      <td>7852</td>\n",
              "    </tr>\n",
              "    <tr>\n",
              "      <th>6</th>\n",
              "      <td>5199.985352</td>\n",
              "      <td>5906</td>\n",
              "    </tr>\n",
              "    <tr>\n",
              "      <th>7</th>\n",
              "      <td>5973.459473</td>\n",
              "      <td>7071</td>\n",
              "    </tr>\n",
              "    <tr>\n",
              "      <th>8</th>\n",
              "      <td>9133.610352</td>\n",
              "      <td>11793</td>\n",
              "    </tr>\n",
              "    <tr>\n",
              "      <th>9</th>\n",
              "      <td>7303.572266</td>\n",
              "      <td>6395</td>\n",
              "    </tr>\n",
              "  </tbody>\n",
              "</table>\n",
              "</div>"
            ],
            "text/plain": [
              "   Predicted Price  Actual Price\n",
              "0      5510.186523          6023\n",
              "1      5976.964844          2817\n",
              "2      6833.708496          3069\n",
              "3      5689.593750          9907\n",
              "4      5218.590820          5885\n",
              "5      7514.300293          7852\n",
              "6      5199.985352          5906\n",
              "7      5973.459473          7071\n",
              "8      9133.610352         11793\n",
              "9      7303.572266          6395"
            ]
          },
          "metadata": {
            "tags": []
          },
          "execution_count": 67
        }
      ]
    },
    {
      "cell_type": "code",
      "metadata": {
        "colab": {
          "base_uri": "https://localhost:8080/",
          "height": 235
        },
        "id": "NzWB17rG4mpg",
        "outputId": "9388ab58-a6d8-45e3-b6ba-c6e7d4189f66"
      },
      "source": [
        "prediction = model.predict(test)\n",
        "prediction = pd.DataFrame(prediction,columns=[\"Sales\"])\n",
        "prediction.index.names=[\"Index\"]\n",
        "prediction.head()"
      ],
      "execution_count": null,
      "outputs": [
        {
          "output_type": "execute_result",
          "data": {
            "text/html": [
              "<div>\n",
              "<style scoped>\n",
              "    .dataframe tbody tr th:only-of-type {\n",
              "        vertical-align: middle;\n",
              "    }\n",
              "\n",
              "    .dataframe tbody tr th {\n",
              "        vertical-align: top;\n",
              "    }\n",
              "\n",
              "    .dataframe thead th {\n",
              "        text-align: right;\n",
              "    }\n",
              "</style>\n",
              "<table border=\"1\" class=\"dataframe\">\n",
              "  <thead>\n",
              "    <tr style=\"text-align: right;\">\n",
              "      <th></th>\n",
              "      <th>Sales</th>\n",
              "    </tr>\n",
              "    <tr>\n",
              "      <th>Index</th>\n",
              "      <th></th>\n",
              "    </tr>\n",
              "  </thead>\n",
              "  <tbody>\n",
              "    <tr>\n",
              "      <th>0</th>\n",
              "      <td>0.000021</td>\n",
              "    </tr>\n",
              "    <tr>\n",
              "      <th>1</th>\n",
              "      <td>5439.486816</td>\n",
              "    </tr>\n",
              "    <tr>\n",
              "      <th>2</th>\n",
              "      <td>7445.993164</td>\n",
              "    </tr>\n",
              "    <tr>\n",
              "      <th>3</th>\n",
              "      <td>5482.914062</td>\n",
              "    </tr>\n",
              "    <tr>\n",
              "      <th>4</th>\n",
              "      <td>5769.923340</td>\n",
              "    </tr>\n",
              "  </tbody>\n",
              "</table>\n",
              "</div>"
            ],
            "text/plain": [
              "             Sales\n",
              "Index             \n",
              "0         0.000021\n",
              "1      5439.486816\n",
              "2      7445.993164\n",
              "3      5482.914062\n",
              "4      5769.923340"
            ]
          },
          "metadata": {
            "tags": []
          },
          "execution_count": 68
        }
      ]
    },
    {
      "cell_type": "code",
      "metadata": {
        "id": "OEEa7vXw4yyQ"
      },
      "source": [
        "prediction.to_csv(\"pred_file.csv\")"
      ],
      "execution_count": null,
      "outputs": []
    }
  ]
}